{
  "cells": [
    {
      "cell_type": "code",
      "execution_count": null,
      "id": "f9902f5c",
      "metadata": {
        "id": "f9902f5c"
      },
      "outputs": [],
      "source": [
        "#Aim, problem Statement, Program, Result, output KNAPSACK BFS DFS HILL CLIMBING A STAR SEARCH MISSIONARY & CANNIBALS"
      ]
    },
    {
      "cell_type": "code",
      "execution_count": null,
      "id": "dad39b7d",
      "metadata": {
        "colab": {
          "base_uri": "https://localhost:8080/"
        },
        "id": "dad39b7d",
        "outputId": "c8b17bc8-264c-4938-9ddc-13b94fa0c98c"
      },
      "outputs": [
        {
          "output_type": "stream",
          "name": "stdout",
          "text": [
            "Enter the number of items: 3\n",
            "Enter the weights of the items: 10 20 30\n",
            "Enter the profits of the items: 60 100 120\n",
            "Enter the maximum capacity of the knapsack: 50\n",
            "Maximum profit: 220\n"
          ]
        }
      ],
      "source": [
        "#KNAPSACK\n",
        "def knapSack(W, wt, val, n):\n",
        "    K = [[0 for x in range(W + 1)] for x in range(n + 1)]\n",
        "\n",
        "    # Build table K[][] in bottom-up manner\n",
        "    for i in range(n + 1):\n",
        "        for w in range(W + 1):\n",
        "            if i == 0 or w == 0:\n",
        "                K[i][w] = 0\n",
        "            elif wt[i-1] <= w:\n",
        "                K[i][w] = max(val[i-1] + K[i-1][w-wt[i-1]], K[i-1][w])\n",
        "            else:\n",
        "                K[i][w] = K[i-1][w]\n",
        "\n",
        "    return K[n][W]\n",
        "\n",
        "if __name__ == '__main__':\n",
        "    n = int(input(\"Enter the number of items: \"))\n",
        "    weight = list(map(int, input(\"Enter the weights of the items: \").split()))\n",
        "    profit = list(map(int, input(\"Enter the profits of the items: \").split()))\n",
        "    W = int(input(\"Enter the maximum capacity of the knapsack: \"))\n",
        "\n",
        "    print(\"Maximum profit:\", knapSack(W, weight, profit, n))\n"
      ]
    },
    {
      "cell_type": "code",
      "execution_count": null,
      "id": "2dac4a67",
      "metadata": {
        "id": "2dac4a67",
        "outputId": "94613ab3-684c-4abf-82b5-6ab959a31574",
        "colab": {
          "base_uri": "https://localhost:8080/"
        }
      },
      "outputs": [
        {
          "output_type": "stream",
          "name": "stdout",
          "text": [
            "Enter the number of edges: 6\n",
            "Enter edge (u v): 0 0\n",
            "Enter edge (u v): 0 1\n",
            "Enter edge (u v): 1 1 \n",
            "Enter edge (u v): 1 2\n",
            "Enter edge (u v): 2 1\n",
            "Enter edge (u v): 3 1\n",
            "Enter the starting vertex for BFS traversal: 1\n",
            "Breadth First Traversal:\n",
            "1 2 "
          ]
        }
      ],
      "source": [
        "#BFS\n",
        "from collections import defaultdict\n",
        "\n",
        "class Graph:\n",
        "    def __init__(self):\n",
        "        self.graph = defaultdict(list)\n",
        "\n",
        "    def addEdge(self, u, v):\n",
        "        self.graph[u].append(v)\n",
        "\n",
        "    def BFS(self, s):\n",
        "        visited = [False] * (max(self.graph) + 1)\n",
        "        queue = []\n",
        "        queue.append(s)\n",
        "        visited[s] = True\n",
        "\n",
        "        while queue:\n",
        "            s = queue.pop(0)\n",
        "            print(s, end=\" \")\n",
        "            for i in self.graph[s]:\n",
        "                if not visited[i]:\n",
        "                    queue.append(i)\n",
        "                    visited[i] = True\n",
        "\n",
        "if __name__ == '__main__':\n",
        "    g = Graph()\n",
        "\n",
        "    edges = int(input(\"Enter the number of edges: \"))\n",
        "    for e in range(edges):\n",
        "        u, v = map(int, input(\"Enter edge (u v): \").split())\n",
        "        g.addEdge(u, v)\n",
        "\n",
        "    start_vertex = int(input(\"Enter the starting vertex for BFS traversal: \"))\n",
        "\n",
        "    print(\"Breadth First Traversal:\")\n",
        "    g.BFS(start_vertex)\n"
      ]
    },
    {
      "cell_type": "code",
      "execution_count": null,
      "id": "1d6e2cbf",
      "metadata": {
        "id": "1d6e2cbf",
        "outputId": "6c088634-c61c-4245-b86e-33324487cd56"
      },
      "outputs": [
        {
          "name": "stdout",
          "output_type": "stream",
          "text": [
            "Enter the number of edges: 4\n",
            "Enter edge (u v): 2 3\n",
            "Enter edge (u v): 5 6\n",
            "Enter edge (u v): 7 8\n",
            "Enter edge (u v): 4 5\n",
            "Enter the starting vertex for DFS traversal: 2\n",
            "Depth First Traversal:\n",
            "2 3 "
          ]
        }
      ],
      "source": [
        "#DFS\n",
        "from collections import defaultdict\n",
        "\n",
        "class Graph:\n",
        "    def __init__(self):\n",
        "        self.graph = defaultdict(list)\n",
        "\n",
        "    def addEdge(self, u, v):\n",
        "        self.graph[u].append(v)\n",
        "\n",
        "    def DFSUtil(self, v, visited):\n",
        "        visited.add(v)\n",
        "        print(v, end=' ')\n",
        "        for neighbour in self.graph[v]:\n",
        "            if neighbour not in visited:\n",
        "                self.DFSUtil(neighbour, visited)\n",
        "\n",
        "    def DFS(self, v):\n",
        "        visited = set()\n",
        "        self.DFSUtil(v, visited)\n",
        "\n",
        "if __name__ == \"__main__\":\n",
        "    g = Graph()\n",
        "\n",
        "    edges = int(input(\"Enter the number of edges: \"))\n",
        "    for _ in range(edges):\n",
        "        u, v = map(int, input(\"Enter edge (u v): \").split())\n",
        "        g.addEdge(u, v)\n",
        "\n",
        "    start_vertex = int(input(\"Enter the starting vertex for DFS traversal: \"))\n",
        "\n",
        "    print(\"Depth First Traversal:\")\n",
        "    g.DFS(start_vertex)\n"
      ]
    },
    {
      "cell_type": "code",
      "execution_count": null,
      "id": "1618b73d",
      "metadata": {
        "colab": {
          "base_uri": "https://localhost:8080/"
        },
        "id": "1618b73d",
        "outputId": "09d15215-8322-4e36-e69b-5c47110004b2"
      },
      "outputs": [
        {
          "output_type": "stream",
          "name": "stdout",
          "text": [
            "Current state: [3, 5, 2]\n",
            "Final state: [10, 8, 3]\n",
            "Objective function value of final state: 21\n"
          ]
        }
      ],
      "source": [
        "#HILL CLIMBING\n",
        "import random\n",
        "\n",
        "def generate_neighbors(state):\n",
        "    neighbors = []\n",
        "    for i in range(len(state)):\n",
        "        neighbor = state[:]  # Create a copy of the current state\n",
        "        # Generate a neighboring state by incrementing or decrementing one element\n",
        "        neighbor[i] += random.choice([-1, 1])\n",
        "        neighbors.append(neighbor)\n",
        "    return neighbors\n",
        "\n",
        "def hill_climbing(f, x0):\n",
        "    x = x0\n",
        "    while True:\n",
        "        neighbors = generate_neighbors(x)\n",
        "        best_neighbor = max(neighbors, key=f)\n",
        "        if f(best_neighbor) <= f(x):\n",
        "            return x\n",
        "        x = best_neighbor\n",
        "\n",
        "# Example usage:\n",
        "# Define an objective function\n",
        "def objective_function(x):\n",
        "    return sum(x)\n",
        "\n",
        "# Initial state\n",
        "current_state = [3, 5, 2]\n",
        "print(\"Current state:\", current_state)\n",
        "\n",
        "# Perform hill climbing\n",
        "final_state = hill_climbing(objective_function, current_state)\n",
        "print(\"Final state:\", final_state)\n",
        "print(\"Objective function value of final state:\", objective_function(final_state))\n"
      ]
    },
    {
      "cell_type": "code",
      "execution_count": null,
      "id": "b86d8b87",
      "metadata": {
        "colab": {
          "base_uri": "https://localhost:8080/"
        },
        "id": "b86d8b87",
        "outputId": "4aa8c7a9-9061-4458-ae8c-f141969d8db5"
      },
      "outputs": [
        {
          "output_type": "stream",
          "name": "stdout",
          "text": [
            "The destination cell is found\n",
            "The Path is \n",
            "-> (8, 0) -> (7, 0) -> (6, 0) -> (5, 0) -> (4, 1) -> (3, 2) -> (2, 1) -> (1, 0) -> (0, 0) \n"
          ]
        }
      ],
      "source": [
        " #A STAR SEARCH\n",
        "import math\n",
        "import heapq\n",
        "\n",
        "class Cell:\n",
        "    def __init__(self):\n",
        "        self.parent_i = 0\n",
        "        self.parent_j = 0\n",
        "        self.f = float('inf')\n",
        "        self.g = float('inf')\n",
        "        self.h = 0\n",
        "\n",
        "ROW = 9\n",
        "COL = 10\n",
        "\n",
        "def is_valid(row, col):\n",
        "    return (row >= 0) and (row < ROW) and (col >= 0) and (col < COL)\n",
        "\n",
        "def is_unblocked(grid, row, col):\n",
        "    return grid[row][col] == 1\n",
        "\n",
        "def is_destination(row, col, dest):\n",
        "    return row == dest[0] and col == dest[1]\n",
        "\n",
        "def calculate_h_value(row, col, dest):\n",
        "    return ((row - dest[0]) ** 2 + (col - dest[1]) ** 2) ** 0.5\n",
        "\n",
        "def trace_path(cell_details, dest):\n",
        "    print(\"The Path is \")\n",
        "    path = []\n",
        "    row = dest[0]\n",
        "    col = dest[1]\n",
        "\n",
        "    while not (cell_details[row][col].parent_i == row and cell_details[row][col].parent_j == col):\n",
        "        path.append((row, col))\n",
        "        temp_row = cell_details[row][col].parent_i\n",
        "        temp_col = cell_details[row][col].parent_j\n",
        "        row = temp_row\n",
        "        col = temp_col\n",
        "\n",
        "    path.append((row, col))\n",
        "    path.reverse()\n",
        "\n",
        "    for i in path:\n",
        "        print(\"->\", i, end=\" \")\n",
        "    print()\n",
        "\n",
        "def a_star_search(grid, src, dest):\n",
        "    if not is_valid(src[0], src[1]) or not is_valid(dest[0], dest[1]):\n",
        "        print(\"Source or destination is invalid\")\n",
        "        return\n",
        "\n",
        "    if not is_unblocked(grid, src[0], src[1]) or not is_unblocked(grid, dest[0], dest[1]):\n",
        "        print(\"Source or the destination is blocked\")\n",
        "        return\n",
        "\n",
        "    if is_destination(src[0], src[1], dest):\n",
        "        print(\"We are already at the destination\")\n",
        "        return\n",
        "\n",
        "    closed_list = [[False for _ in range(COL)] for _ in range(ROW)]\n",
        "    cell_details = [[Cell() for _ in range(COL)] for _ in range(ROW)]\n",
        "\n",
        "    i = src[0]\n",
        "    j = src[1]\n",
        "    cell_details[i][j].f = 0\n",
        "    cell_details[i][j].g = 0\n",
        "    cell_details[i][j].h = 0\n",
        "    cell_details[i][j].parent_i = i\n",
        "    cell_details[i][j].parent_j = j\n",
        "\n",
        "    open_list = []\n",
        "    heapq.heappush(open_list, (0.0, i, j))\n",
        "\n",
        "    found_dest = False\n",
        "\n",
        "    while len(open_list) > 0:\n",
        "        p = heapq.heappop(open_list)\n",
        "\n",
        "        i = p[1]\n",
        "        j = p[2]\n",
        "        closed_list[i][j] = True\n",
        "\n",
        "        directions = [(0, 1), (0, -1), (1, 0), (-1, 0), (1, 1), (1, -1), (-1, 1), (-1, -1)]\n",
        "        for dir in directions:\n",
        "            new_i = i + dir[0]\n",
        "            new_j = j + dir[1]\n",
        "\n",
        "            if is_valid(new_i, new_j) and is_unblocked(grid, new_i, new_j) and not closed_list[new_i][new_j]:\n",
        "                if is_destination(new_i, new_j, dest):\n",
        "                    cell_details[new_i][new_j].parent_i = i\n",
        "                    cell_details[new_i][new_j].parent_j = j\n",
        "                    print(\"The destination cell is found\")\n",
        "                    trace_path(cell_details, dest)\n",
        "                    found_dest = True\n",
        "                    return\n",
        "                else:\n",
        "                    g_new = cell_details[i][j].g + 1.0\n",
        "                    h_new = calculate_h_value(new_i, new_j, dest)\n",
        "                    f_new = g_new + h_new\n",
        "\n",
        "                    if cell_details[new_i][new_j].f == float('inf') or cell_details[new_i][new_j].f > f_new:\n",
        "                        heapq.heappush(open_list, (f_new, new_i, new_j))\n",
        "                        cell_details[new_i][new_j].f = f_new\n",
        "                        cell_details[new_i][new_j].g = g_new\n",
        "                        cell_details[new_i][new_j].h = h_new\n",
        "                        cell_details[new_i][new_j].parent_i = i\n",
        "                        cell_details[new_i][new_j].parent_j = j\n",
        "\n",
        "    if not found_dest:\n",
        "        print(\"Failed to find the destination cell\")\n",
        "\n",
        "def main():\n",
        "    grid = [\n",
        "        [1, 0, 1, 1, 1, 1, 0, 1, 1, 1],\n",
        "        [1, 1, 1, 0, 1, 1, 1, 0, 1, 1],\n",
        "        [1, 1, 1, 0, 1, 1, 0, 1, 0, 1],\n",
        "        [0, 0, 1, 0, 1, 0, 0, 0, 0, 1],\n",
        "        [1, 1, 1, 0, 1, 1, 1, 0, 1, 0],\n",
        "        [1, 0, 1, 1, 1, 1, 0, 1, 0, 0],\n",
        "        [1, 0, 0, 0, 0, 1, 0, 0, 0, 1],\n",
        "        [1, 0, 1, 1, 1, 1, 0, 1, 1, 1],\n",
        "        [1, 1, 1, 0, 0, 0, 1, 0, 0, 1]\n",
        "    ]\n",
        "\n",
        "    src = [8, 0]\n",
        "    dest = [0, 0]\n",
        "\n",
        "    a_star_search(grid, src, dest)\n",
        "\n",
        "if __name__ == \"__main__\":\n",
        "    main()\n"
      ]
    }
  ],
  "metadata": {
    "kernelspec": {
      "display_name": "Python 3 (ipykernel)",
      "language": "python",
      "name": "python3"
    },
    "language_info": {
      "codemirror_mode": {
        "name": "ipython",
        "version": 3
      },
      "file_extension": ".py",
      "mimetype": "text/x-python",
      "name": "python",
      "nbconvert_exporter": "python",
      "pygments_lexer": "ipython3",
      "version": "3.9.7"
    },
    "colab": {
      "provenance": []
    }
  },
  "nbformat": 4,
  "nbformat_minor": 5
}