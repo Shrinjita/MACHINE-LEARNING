import pandas as pd
import json
from sklearn.model_selection import train_test_split
from sklearn.preprocessing import StandardScaler
from sklearn.linear_model import LogisticRegression
from sklearn.metrics import accuracy_score
# Load your dataset (assuming you have a DataFrame 'data' with columns: 'food_usage' and 'food_cost')
path = ""
data = pd.read_csv("C:\Users\Shrinjita Paul\.vscode\file.csv")
# For the purpose of this example, let's assume 'data' contains your data
# Split the dataset into features (X) and target (y)
X = data[['food_usage']]  # Feature(s)
y = data['food_cost']  # Target

# Split the dataset into training and testing sets
X_train, X_test, y_train, y_test = train_test_split(X, y, test_size=0.2, random_state=42)

# Standardize features using StandardScaler
scaler = StandardScaler()
X_train_scaled = scaler.fit_transform(X_train)
X_test_scaled = scaler.transform(X_test)

# Initialize the Logistic Regression model
logreg_model = LogisticRegression()

# Fit the model to the training data
logreg_model.fit(X_train_scaled, y_train)

# Predict food costs on the test data
y_pred = logreg_model.predict(X_test_scaled)

# Evaluate the model accuracy
accuracy = accuracy_score(y_test, y_pred)
print(f"Accuracy: {accuracy:.2f}")
