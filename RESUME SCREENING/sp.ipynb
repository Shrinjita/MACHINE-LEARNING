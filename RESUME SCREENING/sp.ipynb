{
 "cells": [
  {
   "cell_type": "code",
   "execution_count": 1,
   "metadata": {},
   "outputs": [
    {
     "name": "stdout",
     "output_type": "stream",
     "text": [
      "Requirement already satisfied: pyaudio in c:\\users\\shrinjita paul\\anaconda3\\lib\\site-packages (0.2.14)Note: you may need to restart the kernel to use updated packages.\n",
      "\n",
      "Collecting SpeechRecognition\n",
      "  Downloading SpeechRecognition-3.10.1-py2.py3-none-any.whl (32.8 MB)\n",
      "     -------------------------------------- 32.8/32.8 MB 287.1 kB/s eta 0:00:00\n",
      "Requirement already satisfied: typing-extensions in c:\\users\\shrinjita paul\\anaconda3\\lib\\site-packages (from SpeechRecognition) (4.9.0)\n",
      "Requirement already satisfied: requests>=2.26.0 in c:\\users\\shrinjita paul\\anaconda3\\lib\\site-packages (from SpeechRecognition) (2.28.1)\n",
      "Requirement already satisfied: certifi>=2017.4.17 in c:\\users\\shrinjita paul\\anaconda3\\lib\\site-packages (from requests>=2.26.0->SpeechRecognition) (2022.9.14)\n",
      "Requirement already satisfied: idna<4,>=2.5 in c:\\users\\shrinjita paul\\anaconda3\\lib\\site-packages (from requests>=2.26.0->SpeechRecognition) (3.3)\n",
      "Requirement already satisfied: urllib3<1.27,>=1.21.1 in c:\\users\\shrinjita paul\\anaconda3\\lib\\site-packages (from requests>=2.26.0->SpeechRecognition) (1.26.11)\n",
      "Requirement already satisfied: charset-normalizer<3,>=2 in c:\\users\\shrinjita paul\\anaconda3\\lib\\site-packages (from requests>=2.26.0->SpeechRecognition) (2.0.4)\n",
      "Installing collected packages: SpeechRecognition\n",
      "Successfully installed SpeechRecognition-3.10.1\n",
      "Note: you may need to restart the kernel to use updated packages.\n",
      "Requirement already satisfied: pyttsx3 in c:\\users\\shrinjita paul\\anaconda3\\lib\\site-packages (2.90)\n",
      "Requirement already satisfied: pywin32 in c:\\users\\shrinjita paul\\anaconda3\\lib\\site-packages (from pyttsx3) (302)\n",
      "Requirement already satisfied: comtypes in c:\\users\\shrinjita paul\\anaconda3\\lib\\site-packages (from pyttsx3) (1.1.10)\n",
      "Requirement already satisfied: pypiwin32 in c:\\users\\shrinjita paul\\anaconda3\\lib\\site-packages (from pyttsx3) (223)\n",
      "Note: you may need to restart the kernel to use updated packages.\n"
     ]
    }
   ],
   "source": [
    "%pip install pyaudio\n",
    "%pip install SpeechRecognition\n",
    "%pip install pyttsx3\n"
   ]
  },
  {
   "cell_type": "code",
   "execution_count": 2,
   "metadata": {},
   "outputs": [],
   "source": [
    "import speech_recognition as sr\n",
    "import pyttsx3  \n",
    "import datetime\n",
    "\n",
    "\n",
    "def speak(text):\n",
    "    engine = pyttsx3.init()\n",
    "    engine.say(text)\n",
    "    engine.runAndWait()\n",
    "\n",
    "def get_audio():\n",
    "    recognizer = sr.Recognizer()\n",
    "    with sr.Microphone() as source:\n",
    "        print(\"Listening...\")\n",
    "        audio = recognizer.listen(source)\n",
    "        command = \"\"\n",
    "        try:\n",
    "            command = recognizer.recognize_google(audio)\n",
    "            print(\"You said: \"+command)\n",
    "        except sr.UnknownValueError:\n",
    "            print(\"Could not understand audio.\")\n",
    "        except sr.RequestError as e:\n",
    "            print(\"Google Speech Recognition request failed: (0)\".format(e))\n",
    "        return command.lower()\n",
    "\n",
    "def greet():\n",
    "    current_time = datetime.datetime.now()\n",
    "    hour = current_time.hour\n",
    "    minute=current_time.minute \n",
    "    second=current_time.second\n",
    "    if 0 <= hour < 12:\n",
    "        speak(\"Good morning!\")\n",
    "    elif hour < 18:\n",
    "        speak(\"Good afternoon!\")\n",
    "    else:\n",
    "        speak(\"Good evening!\")\n",
    "\n",
    "def ai_assistant():\n",
    "    greet()\n",
    "    speak(\"I am your AI assistent. How can I help you today?\")\n",
    "\n",
    "    while True:\n",
    "        command = get_audio()\n",
    "\n",
    "        if \"stop\" in command:\n",
    "            speak(\"Goodbye!\")\n",
    "            break\n",
    "        elif \"date\" in command:\n",
    "            current_date = datetime.datetime.now().strftime(\"%Y-%m-%d\")\n",
    "            speak(f\"The current date is {current_date}\")\n",
    "        elif \"time\" in command:\n",
    "            current_time = datetime.datetime.now().strftime(\"%H:%M:%S\")\n",
    "            speak(f\"The curren time is {current_time}\")\n",
    "        else:\n",
    "            speak(\"I don't understand that command. Please try again.\")\n",
    "\n",
    "if __name__ == \"_main_\":\n",
    "    ai_assistant()"
   ]
  }
 ],
 "metadata": {
  "kernelspec": {
   "display_name": "base",
   "language": "python",
   "name": "python3"
  },
  "language_info": {
   "codemirror_mode": {
    "name": "ipython",
    "version": 3
   },
   "file_extension": ".py",
   "mimetype": "text/x-python",
   "name": "python",
   "nbconvert_exporter": "python",
   "pygments_lexer": "ipython3",
   "version": "2022.10.0"
  }
 },
 "nbformat": 4,
 "nbformat_minor": 2
}
