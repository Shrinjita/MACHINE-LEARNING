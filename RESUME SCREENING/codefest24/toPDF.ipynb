{
 "cells": [
  {
   "cell_type": "code",
   "execution_count": 32,
   "metadata": {},
   "outputs": [
    {
     "name": "stdout",
     "output_type": "stream",
     "text": [
      "Requirement already satisfied: pymupdf in c:\\users\\shrinjita paul\\anaconda3\\lib\\site-packages (1.23.20)\n",
      "Requirement already satisfied: PyMuPDFb==1.23.9 in c:\\users\\shrinjita paul\\anaconda3\\lib\\site-packages (from pymupdf) (1.23.9)\n",
      "Note: you may need to restart the kernel to use updated packages.\n"
     ]
    }
   ],
   "source": [
    "pip install pymupdf\n"
   ]
  },
  {
   "cell_type": "code",
   "execution_count": 34,
   "metadata": {},
   "outputs": [
    {
     "name": "stdout",
     "output_type": "stream",
     "text": [
      "PDF contents successfully converted to CSV: output.csv\n"
     ]
    }
   ],
   "source": [
    "import fitz  # PyMuPDF\n",
    "import csv\n",
    "\n",
    "def read_pdf(pdf_path):\n",
    "    doc = fitz.open(pdf_path)\n",
    "    text = \"\"\n",
    "    \n",
    "    for page_number in range(doc.page_count):\n",
    "        page = doc[page_number]\n",
    "        text += page.get_text()\n",
    "\n",
    "    doc.close()\n",
    "    return text\n",
    "\n",
    "def write_to_csv(text, csv_path):\n",
    "    lines = text.split('\\n')\n",
    "    with open(csv_path, 'w', newline='', encoding='utf-8') as csv_file:\n",
    "        csv_writer = csv.writer(csv_file)\n",
    "        for line in lines:\n",
    "            csv_writer.writerow([line])\n",
    "\n",
    "if __name__ == \"__main__\":\n",
    "    pdf_path = 'ChandraSekharReddy - Full stack Java.pdf'\n",
    "    csv_path = 'output.csv'\n",
    "\n",
    "    pdf_text = read_pdf(pdf_path)\n",
    "\n",
    "    if pdf_text:\n",
    "        write_to_csv(pdf_text, csv_path)\n",
    "        print(f\"PDF contents successfully converted to CSV: {csv_path}\")\n",
    "    else:\n",
    "        print(\"Error: PDF text extraction failed.\")\n"
   ]
  },
  {
   "cell_type": "code",
   "execution_count": 35,
   "metadata": {},
   "outputs": [
    {
     "name": "stdout",
     "output_type": "stream",
     "text": [
      "                                                 tech \n",
      "0                                                   v \n",
      "1                                           Employers \n",
      "2    DevOn (Current)                             Mp...\n",
      "3    Sr Software Developer                       Sr...\n",
      "4    (Dec,19 – current)                            ...\n",
      "..                                                 ...\n",
      "201                                                  \n",
      "202  Implemented Managed Beans, entity classes, ser...\n",
      "203                                         Education \n",
      "204  Master of Computer Applications (MCA) in 2011 ...\n",
      "205  B.S.C (Computer Science)in 2008 from Acharya N...\n",
      "\n",
      "[206 rows x 1 columns]\n"
     ]
    }
   ],
   "source": [
    "import pandas as pd\n",
    "\n",
    "# Replace 'your_file.csv' with the path to your CSV file\n",
    "csv_path = 'output.csv'\n",
    "\n",
    "# Read CSV file into a DataFrame\n",
    "df = pd.read_csv(csv_path)\n",
    "\n",
    "# Remove rows with null values\n",
    "df_cleaned = df.dropna()\n",
    "\n",
    "# Display the cleaned DataFrame\n",
    "print(df_cleaned)\n"
   ]
  },
  {
   "cell_type": "code",
   "execution_count": 36,
   "metadata": {},
   "outputs": [],
   "source": [
    "df['tech1'] = df['tech '].str.strip()\n"
   ]
  },
  {
   "cell_type": "code",
   "execution_count": 37,
   "metadata": {},
   "outputs": [
    {
     "data": {
      "text/html": [
       "<div>\n",
       "<style scoped>\n",
       "    .dataframe tbody tr th:only-of-type {\n",
       "        vertical-align: middle;\n",
       "    }\n",
       "\n",
       "    .dataframe tbody tr th {\n",
       "        vertical-align: top;\n",
       "    }\n",
       "\n",
       "    .dataframe thead th {\n",
       "        text-align: right;\n",
       "    }\n",
       "</style>\n",
       "<table border=\"1\" class=\"dataframe\">\n",
       "  <thead>\n",
       "    <tr style=\"text-align: right;\">\n",
       "      <th></th>\n",
       "      <th>tech</th>\n",
       "      <th>tech1</th>\n",
       "    </tr>\n",
       "  </thead>\n",
       "  <tbody>\n",
       "    <tr>\n",
       "      <th>0</th>\n",
       "      <td>v</td>\n",
       "      <td>v</td>\n",
       "    </tr>\n",
       "    <tr>\n",
       "      <th>1</th>\n",
       "      <td>Employers</td>\n",
       "      <td>Employers</td>\n",
       "    </tr>\n",
       "    <tr>\n",
       "      <th>2</th>\n",
       "      <td>DevOn (Current)                             Mp...</td>\n",
       "      <td>DevOn (Current)                             Mp...</td>\n",
       "    </tr>\n",
       "    <tr>\n",
       "      <th>3</th>\n",
       "      <td>Sr Software Developer                       Sr...</td>\n",
       "      <td>Sr Software Developer                       Sr...</td>\n",
       "    </tr>\n",
       "    <tr>\n",
       "      <th>4</th>\n",
       "      <td>(Dec,19 – current)                            ...</td>\n",
       "      <td>(Dec,19 – current)                            ...</td>\n",
       "    </tr>\n",
       "    <tr>\n",
       "      <th>...</th>\n",
       "      <td>...</td>\n",
       "      <td>...</td>\n",
       "    </tr>\n",
       "    <tr>\n",
       "      <th>202</th>\n",
       "      <td>Implemented Managed Beans, entity classes, ser...</td>\n",
       "      <td>Implemented Managed Beans, entity classes, ser...</td>\n",
       "    </tr>\n",
       "    <tr>\n",
       "      <th>203</th>\n",
       "      <td>Education</td>\n",
       "      <td>Education</td>\n",
       "    </tr>\n",
       "    <tr>\n",
       "      <th>204</th>\n",
       "      <td>Master of Computer Applications (MCA) in 2011 ...</td>\n",
       "      <td>Master of Computer Applications (MCA) in 2011 ...</td>\n",
       "    </tr>\n",
       "    <tr>\n",
       "      <th>205</th>\n",
       "      <td>B.S.C (Computer Science)in 2008 from Acharya N...</td>\n",
       "      <td>B.S.C (Computer Science)in 2008 from Acharya N...</td>\n",
       "    </tr>\n",
       "    <tr>\n",
       "      <th>206</th>\n",
       "      <td>NaN</td>\n",
       "      <td>NaN</td>\n",
       "    </tr>\n",
       "  </tbody>\n",
       "</table>\n",
       "<p>207 rows × 2 columns</p>\n",
       "</div>"
      ],
      "text/plain": [
       "                                                 tech   \\\n",
       "0                                                   v    \n",
       "1                                           Employers    \n",
       "2    DevOn (Current)                             Mp...   \n",
       "3    Sr Software Developer                       Sr...   \n",
       "4    (Dec,19 – current)                            ...   \n",
       "..                                                 ...   \n",
       "202  Implemented Managed Beans, entity classes, ser...   \n",
       "203                                         Education    \n",
       "204  Master of Computer Applications (MCA) in 2011 ...   \n",
       "205  B.S.C (Computer Science)in 2008 from Acharya N...   \n",
       "206                                                NaN   \n",
       "\n",
       "                                                 tech1  \n",
       "0                                                    v  \n",
       "1                                            Employers  \n",
       "2    DevOn (Current)                             Mp...  \n",
       "3    Sr Software Developer                       Sr...  \n",
       "4    (Dec,19 – current)                            ...  \n",
       "..                                                 ...  \n",
       "202  Implemented Managed Beans, entity classes, ser...  \n",
       "203                                          Education  \n",
       "204  Master of Computer Applications (MCA) in 2011 ...  \n",
       "205  B.S.C (Computer Science)in 2008 from Acharya N...  \n",
       "206                                                NaN  \n",
       "\n",
       "[207 rows x 2 columns]"
      ]
     },
     "execution_count": 37,
     "metadata": {},
     "output_type": "execute_result"
    }
   ],
   "source": [
    "df"
   ]
  },
  {
   "cell_type": "code",
   "execution_count": 38,
   "metadata": {},
   "outputs": [],
   "source": [
    "df.drop(columns=['tech '], inplace=True)\n"
   ]
  },
  {
   "cell_type": "code",
   "execution_count": 39,
   "metadata": {},
   "outputs": [
    {
     "data": {
      "text/html": [
       "<div>\n",
       "<style scoped>\n",
       "    .dataframe tbody tr th:only-of-type {\n",
       "        vertical-align: middle;\n",
       "    }\n",
       "\n",
       "    .dataframe tbody tr th {\n",
       "        vertical-align: top;\n",
       "    }\n",
       "\n",
       "    .dataframe thead th {\n",
       "        text-align: right;\n",
       "    }\n",
       "</style>\n",
       "<table border=\"1\" class=\"dataframe\">\n",
       "  <thead>\n",
       "    <tr style=\"text-align: right;\">\n",
       "      <th></th>\n",
       "      <th>tech1</th>\n",
       "    </tr>\n",
       "  </thead>\n",
       "  <tbody>\n",
       "    <tr>\n",
       "      <th>0</th>\n",
       "      <td>v</td>\n",
       "    </tr>\n",
       "    <tr>\n",
       "      <th>1</th>\n",
       "      <td>Employers</td>\n",
       "    </tr>\n",
       "    <tr>\n",
       "      <th>2</th>\n",
       "      <td>DevOn (Current)                             Mp...</td>\n",
       "    </tr>\n",
       "    <tr>\n",
       "      <th>3</th>\n",
       "      <td>Sr Software Developer                       Sr...</td>\n",
       "    </tr>\n",
       "    <tr>\n",
       "      <th>4</th>\n",
       "      <td>(Dec,19 – current)                            ...</td>\n",
       "    </tr>\n",
       "    <tr>\n",
       "      <th>...</th>\n",
       "      <td>...</td>\n",
       "    </tr>\n",
       "    <tr>\n",
       "      <th>202</th>\n",
       "      <td>Implemented Managed Beans, entity classes, ser...</td>\n",
       "    </tr>\n",
       "    <tr>\n",
       "      <th>203</th>\n",
       "      <td>Education</td>\n",
       "    </tr>\n",
       "    <tr>\n",
       "      <th>204</th>\n",
       "      <td>Master of Computer Applications (MCA) in 2011 ...</td>\n",
       "    </tr>\n",
       "    <tr>\n",
       "      <th>205</th>\n",
       "      <td>B.S.C (Computer Science)in 2008 from Acharya N...</td>\n",
       "    </tr>\n",
       "    <tr>\n",
       "      <th>206</th>\n",
       "      <td>NaN</td>\n",
       "    </tr>\n",
       "  </tbody>\n",
       "</table>\n",
       "<p>207 rows × 1 columns</p>\n",
       "</div>"
      ],
      "text/plain": [
       "                                                 tech1\n",
       "0                                                    v\n",
       "1                                            Employers\n",
       "2    DevOn (Current)                             Mp...\n",
       "3    Sr Software Developer                       Sr...\n",
       "4    (Dec,19 – current)                            ...\n",
       "..                                                 ...\n",
       "202  Implemented Managed Beans, entity classes, ser...\n",
       "203                                          Education\n",
       "204  Master of Computer Applications (MCA) in 2011 ...\n",
       "205  B.S.C (Computer Science)in 2008 from Acharya N...\n",
       "206                                                NaN\n",
       "\n",
       "[207 rows x 1 columns]"
      ]
     },
     "execution_count": 39,
     "metadata": {},
     "output_type": "execute_result"
    }
   ],
   "source": [
    "df"
   ]
  },
  {
   "cell_type": "code",
   "execution_count": 40,
   "metadata": {},
   "outputs": [],
   "source": [
    "result = df.astype(str).agg(' '.join)\n"
   ]
  },
  {
   "cell_type": "code",
   "execution_count": 41,
   "metadata": {},
   "outputs": [],
   "source": [
    "df=result"
   ]
  },
  {
   "cell_type": "code",
   "execution_count": 42,
   "metadata": {},
   "outputs": [
    {
     "data": {
      "text/plain": [
       "tech1    v Employers DevOn (Current)                   ...\n",
       "dtype: object"
      ]
     },
     "execution_count": 42,
     "metadata": {},
     "output_type": "execute_result"
    }
   ],
   "source": [
    "df"
   ]
  },
  {
   "cell_type": "code",
   "execution_count": 43,
   "metadata": {},
   "outputs": [],
   "source": [
    "df.to_csv('my_data.csv', index=False)\n"
   ]
  },
  {
   "cell_type": "code",
   "execution_count": null,
   "metadata": {},
   "outputs": [],
   "source": []
  }
 ],
 "metadata": {
  "kernelspec": {
   "display_name": "base",
   "language": "python",
   "name": "python3"
  },
  "language_info": {
   "codemirror_mode": {
    "name": "ipython",
    "version": 3
   },
   "file_extension": ".py",
   "mimetype": "text/x-python",
   "name": "python",
   "nbconvert_exporter": "python",
   "pygments_lexer": "ipython3",
   "version": "3.9.13"
  }
 },
 "nbformat": 4,
 "nbformat_minor": 2
}
