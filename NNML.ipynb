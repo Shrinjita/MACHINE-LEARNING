{
  "cells": [
    {
      "cell_type": "markdown",
      "metadata": {
        "id": "xD8awYQzMlA9"
      },
      "source": [
        "WATER JUG PROBLEM\n"
      ]
    },
    {
      "cell_type": "code",
      "execution_count": 54,
      "metadata": {
        "colab": {
          "base_uri": "https://localhost:8080/"
        },
        "id": "u5nsYAhcjZdq",
        "outputId": "6ed379b4-26fd-47f6-b1ab-9fa7e39b0a14"
      },
      "outputs": [
        {
          "name": "stdout",
          "output_type": "stream",
          "text": [
            "Path from initial state to solution state :\n",
            "( 0 , 0 )\n",
            "( 0 , 4 )\n",
            "( 3 , 0 )\n",
            "( 3 , 4 )\n",
            "( 3 , 1 )\n",
            "( 0 , 3 )\n",
            "( 3 , 3 )\n",
            "( 2 , 4 )\n",
            "( 2 , 0 )\n"
          ]
        }
      ],
      "source": [
        "from collections import deque\n",
        "\n",
        "def BFS(a, b, target):\n",
        "    m = {}\n",
        "    isSolvable = False\n",
        "    path = []\n",
        "    q = deque()\n",
        "    q.append((0, 0))\n",
        "\n",
        "    while (len(q) > 0):\n",
        "        u = q.popleft()\n",
        "        if ((u[0], u[1]) in m):\n",
        "            continue\n",
        "        if ((u[0] > a or u[1] > b or\n",
        "            u[0] < 0 or u[1] < 0)):\n",
        "            continue\n",
        "        path.append([u[0], u[1]])\n",
        "        m[(u[0], u[1])] = 1\n",
        "        if (u[0] == target or u[1] == target):\n",
        "            isSolvable = True\n",
        "            if (u[0] == target):\n",
        "                if (u[1] != 0):\n",
        "                    path.append([u[0], 0])\n",
        "            else:\n",
        "                if (u[0] != 0):\n",
        "                    path.append([0, u[1]])\n",
        "            sz = len(path)\n",
        "            for i in range(sz):\n",
        "                print(\"(\", path[i][0], \",\",\n",
        "                    path[i][1], \")\")\n",
        "            break\n",
        "        q.append([u[0], b])\n",
        "        q.append([a, u[1]])\n",
        "        for ap in range(max(a, b) + 1):\n",
        "            c = u[0] + ap\n",
        "            d = u[1] - ap\n",
        "            if (c == a or (d == 0 and d >= 0)):\n",
        "                q.append([c, d])\n",
        "            c = u[0] - ap\n",
        "            d = u[1] + ap\n",
        "            if ((c == 0 and c >= 0) or d == b):\n",
        "                q.append([c, d])\n",
        "        q.append([a, 0])\n",
        "        q.append([0, b])\n",
        "    if (not isSolvable):\n",
        "        print(\"No solution\")\n",
        "\n",
        "if __name__ == '__main__':\n",
        "    Jug1, Jug2, target = 4, 3, 2\n",
        "    print(\"Path from initial state to solution state :\")\n",
        "    BFS(Jug2, Jug1, target)\n"
      ]
    },
    {
      "cell_type": "markdown",
      "metadata": {
        "id": "mGYESEWTMw9j"
      },
      "source": [
        "S ALGO\n"
      ]
    },
    {
      "cell_type": "code",
      "execution_count": 55,
      "metadata": {
        "id": "hszVgeaCrMWj"
      },
      "outputs": [],
      "source": [
        "import pandas as pd\n",
        "from matplotlib import pyplot as plt"
      ]
    },
    {
      "cell_type": "code",
      "execution_count": 56,
      "metadata": {
        "colab": {
          "base_uri": "https://localhost:8080/",
          "height": 206
        },
        "id": "uAZ_DDb5YBPh",
        "outputId": "5993806f-14ff-46de-8cd7-14c849c45bf5"
      },
      "outputs": [
        {
          "data": {
            "text/html": [
              "<div>\n",
              "<style scoped>\n",
              "    .dataframe tbody tr th:only-of-type {\n",
              "        vertical-align: middle;\n",
              "    }\n",
              "\n",
              "    .dataframe tbody tr th {\n",
              "        vertical-align: top;\n",
              "    }\n",
              "\n",
              "    .dataframe thead th {\n",
              "        text-align: right;\n",
              "    }\n",
              "</style>\n",
              "<table border=\"1\" class=\"dataframe\">\n",
              "  <thead>\n",
              "    <tr style=\"text-align: right;\">\n",
              "      <th></th>\n",
              "      <th>Samples</th>\n",
              "      <th>Fever</th>\n",
              "      <th>Cough</th>\n",
              "      <th>Difficulty Breathing</th>\n",
              "      <th>Diagnosed Disease</th>\n",
              "    </tr>\n",
              "  </thead>\n",
              "  <tbody>\n",
              "    <tr>\n",
              "      <th>0</th>\n",
              "      <td>1</td>\n",
              "      <td>Yes</td>\n",
              "      <td>Yes</td>\n",
              "      <td>No</td>\n",
              "      <td>Pneumonia</td>\n",
              "    </tr>\n",
              "    <tr>\n",
              "      <th>1</th>\n",
              "      <td>2</td>\n",
              "      <td>No</td>\n",
              "      <td>Yes</td>\n",
              "      <td>No</td>\n",
              "      <td>Common Cold</td>\n",
              "    </tr>\n",
              "    <tr>\n",
              "      <th>2</th>\n",
              "      <td>3</td>\n",
              "      <td>Yes</td>\n",
              "      <td>Yes</td>\n",
              "      <td>Yes</td>\n",
              "      <td>Pneumonia</td>\n",
              "    </tr>\n",
              "    <tr>\n",
              "      <th>3</th>\n",
              "      <td>4</td>\n",
              "      <td>No</td>\n",
              "      <td>No</td>\n",
              "      <td>No</td>\n",
              "      <td>Healthy</td>\n",
              "    </tr>\n",
              "    <tr>\n",
              "      <th>4</th>\n",
              "      <td>5</td>\n",
              "      <td>Yes</td>\n",
              "      <td>Yes</td>\n",
              "      <td>Yes</td>\n",
              "      <td>Pneumonia</td>\n",
              "    </tr>\n",
              "  </tbody>\n",
              "</table>\n",
              "</div>"
            ],
            "text/plain": [
              "   Samples Fever Cough Difficulty Breathing Diagnosed Disease\n",
              "0        1   Yes   Yes                   No         Pneumonia\n",
              "1        2    No   Yes                   No       Common Cold\n",
              "2        3   Yes   Yes                  Yes         Pneumonia\n",
              "3        4    No    No                   No           Healthy\n",
              "4        5   Yes   Yes                  Yes         Pneumonia"
            ]
          },
          "execution_count": 56,
          "metadata": {},
          "output_type": "execute_result"
        }
      ],
      "source": [
        "data=pd.DataFrame({\"Samples\":[1,2,3,4,5],\n",
        "                   \"Fever\":[\"Yes\",\"No\",\"Yes\",\"No\",\"Yes\"],\n",
        "                   \"Cough\":[\"Yes\",\"Yes\",\"Yes\",\"No\",\"Yes\"],\n",
        "                   \"Difficulty Breathing\":[\"No\",\"No\",\"Yes\",\"No\",\"Yes\"],\n",
        "                   \"Diagnosed Disease\":[\"Pneumonia\",\"Common Cold\",\"Pneumonia\",\"Healthy\",\n",
        "                                        \"Pneumonia\"]})\n",
        "data"
      ]
    },
    {
      "cell_type": "code",
      "execution_count": 57,
      "metadata": {
        "colab": {
          "base_uri": "https://localhost:8080/",
          "height": 452
        },
        "id": "YSJvemgVivS3",
        "outputId": "88e9cf69-64b0-42b1-fbb5-ad3df78e735f"
      },
      "outputs": [],
      "source": [
        "from matplotlib import pyplot as plt\n",
        "data['Samples'].plot(kind='hist', bins=20, title='Samples')\n",
        "plt.gca().spines[['top', 'right',]].set_visible(False)"
      ]
    },
    {
      "cell_type": "code",
      "execution_count": 58,
      "metadata": {
        "colab": {
          "base_uri": "https://localhost:8080/"
        },
        "id": "byAH9_YrZ_0g",
        "outputId": "3bfef7a0-e268-4788-f11a-48b9d7f6118e"
      },
      "outputs": [
        {
          "name": "stdout",
          "output_type": "stream",
          "text": [
            "   Samples Fever Cough Difficulty Breathing Diagnosed Disease\n",
            "0        1   Yes   Yes                   No         Pneumonia\n",
            "2        3   Yes   Yes                  Yes         Pneumonia\n",
            "4        5   Yes   Yes                  Yes         Pneumonia\n"
          ]
        }
      ],
      "source": [
        "target=\"Pneumonia\"\n",
        "symptoms=[\"Fever\",\"Cough\",\"Difficulty Breathing\"]\n",
        "filter=data[data[\"Diagnosed Disease\"]==target]\n",
        "print(filter)"
      ]
    },
    {
      "cell_type": "code",
      "execution_count": 59,
      "metadata": {
        "colab": {
          "base_uri": "https://localhost:8080/"
        },
        "id": "a9QhJ_mQoOG0",
        "outputId": "f8973d6d-f302-4653-f6a5-bb68945dd4ed"
      },
      "outputs": [
        {
          "name": "stdout",
          "output_type": "stream",
          "text": [
            "3\n"
          ]
        }
      ],
      "source": [
        "total=filter.shape[0]\n",
        "print(total)"
      ]
    },
    {
      "cell_type": "code",
      "execution_count": 60,
      "metadata": {
        "colab": {
          "base_uri": "https://localhost:8080/",
          "height": 280
        },
        "id": "Mk-oSecpbij_",
        "outputId": "03243fd3-7560-4284-e5c0-ed21a0505a22"
      },
      "outputs": [
        {
          "name": "stdout",
          "output_type": "stream",
          "text": [
            "2\n"
          ]
        }
      ],
      "source": [
        "pos = filter[(filter[\"Fever\"] == \"Yes\") & (filter[\"Cough\"] == \"Yes\") & (filter[\"Difficulty Breathing\"] == \"Yes\")].shape[0]\n",
        "print(pos)"
      ]
    },
    {
      "cell_type": "code",
      "execution_count": 61,
      "metadata": {
        "colab": {
          "base_uri": "https://localhost:8080/",
          "height": 245
        },
        "id": "vPTIrO7efOP8",
        "outputId": "c51c055b-a722-4def-e69e-b157fd0120ad"
      },
      "outputs": [
        {
          "name": "stdout",
          "output_type": "stream",
          "text": [
            "Rule: If a patient has Fever, Cough, Difficulty Breathing, then they are likely to have Pneumonia\n"
          ]
        }
      ],
      "source": [
        "print(f\"Rule: If a patient has {', '.join(symptoms)}, then they are likely to have {target}\")"
      ]
    },
    {
      "cell_type": "code",
      "execution_count": 62,
      "metadata": {
        "colab": {
          "base_uri": "https://localhost:8080/"
        },
        "id": "7ga0l-TmdVeF",
        "outputId": "6a36b3f3-9456-4c66-eb90-c658a3680f41"
      },
      "outputs": [
        {
          "name": "stdout",
          "output_type": "stream",
          "text": [
            "Support : 0.67\n"
          ]
        }
      ],
      "source": [
        "support = pos/total\n",
        "print(f\"Support : {support:.2f}\")"
      ]
    },
    {
      "cell_type": "code",
      "execution_count": 63,
      "metadata": {
        "colab": {
          "base_uri": "https://localhost:8080/"
        },
        "id": "sDWXNRUrcRXG",
        "outputId": "e0f8be7c-9be7-4abd-fcc1-e2ee3ab14893"
      },
      "outputs": [
        {
          "name": "stdout",
          "output_type": "stream",
          "text": [
            "Confidence : 1.00\n"
          ]
        }
      ],
      "source": [
        "confidence=pos/data[(data[\"Fever\"] == \"Yes\") & (data[\"Cough\"] == \"Yes\") & (data[\"Difficulty Breathing\"] == \"Yes\")].shape[0]\n",
        "print(f\"Confidence : {confidence:.2f}\")"
      ]
    },
    {
      "cell_type": "markdown",
      "metadata": {
        "id": "047XLTX4Tiwe"
      },
      "source": [
        "candidate elimination"
      ]
    },
    {
      "cell_type": "code",
      "execution_count": 64,
      "metadata": {
        "colab": {
          "base_uri": "https://localhost:8080/"
        },
        "id": "7o6sm5oUTmRG",
        "outputId": "385f442c-69d9-4b6b-d085-9d708751ccdd"
      },
      "outputs": [
        {
          "name": "stdout",
          "output_type": "stream",
          "text": [
            "Final Specific Hypothesis: ['0', '0', '0']\n",
            "Final General Hypothesis: ['Small', 'Red', 'Circle']\n"
          ]
        }
      ],
      "source": [
        "import numpy as np\n",
        "\n",
        "class CandidateElimination:\n",
        "    def __init__(self, num_features):\n",
        "        # Initialize the most specific and most general hypotheses\n",
        "        self.S = ['0'] * num_features\n",
        "        self.G = ['?'] * num_features\n",
        "\n",
        "    def specialize_G(self, example):\n",
        "        # Specialize the most general hypothesis based on a positive example\n",
        "        for i in range(len(self.G)):\n",
        "            if self.G[i] == '?':\n",
        "                self.G[i] = example[i]\n",
        "            elif self.G[i] != example[i]:\n",
        "                self.G[i] = '?'\n",
        "\n",
        "    def generalize_S(self, example):\n",
        "        # Generalize the most specific hypothesis based on a negative example\n",
        "        for i in range(len(self.S)):\n",
        "            if self.S[i] != example[i] and self.S[i] != '0':\n",
        "                self.S[i] = '?'\n",
        "\n",
        "    def fit(self, examples):\n",
        "        for example in examples:\n",
        "            label = example[-1]  # Last element is the label\n",
        "            if label == 'Yes':\n",
        "                self.specialize_G(example[:-1])  # Update G for positive example\n",
        "            else:\n",
        "                self.generalize_S(example[:-1])  # Update S for negative example\n",
        "\n",
        "    def get_final_hypothesis(self):\n",
        "        return self.S, self.G\n",
        "\n",
        "# Example dataset\n",
        "examples = [\n",
        "    ['Big', 'Red', 'Circle', 'No'],\n",
        "    ['Small', 'Red', 'Triangle', 'No'],\n",
        "    ['Small', 'Red', 'Circle', 'Yes'],\n",
        "    ['Big', 'Blue', 'Circle', 'No']\n",
        "]\n",
        "\n",
        "# Initialize CandidateElimination object\n",
        "ce = CandidateElimination(num_features=len(examples[0]) - 1)  # -1 for excluding label\n",
        "\n",
        "# Fit the data\n",
        "ce.fit(examples)\n",
        "\n",
        "# Get the final hypothesis\n",
        "final_specific_hypothesis, final_general_hypothesis = ce.get_final_hypothesis()\n",
        "\n",
        "print(\"Final Specific Hypothesis:\", final_specific_hypothesis)\n",
        "print(\"Final General Hypothesis:\", final_general_hypothesis)\n"
      ]
    },
    {
      "cell_type": "code",
      "execution_count": 65,
      "metadata": {
        "colab": {
          "base_uri": "https://localhost:8080/"
        },
        "id": "5CZYsOOt8UxZ",
        "outputId": "fd749cff-5d96-4605-fe85-8a1cf17a0a5b"
      },
      "outputs": [
        {
          "name": "stdout",
          "output_type": "stream",
          "text": [
            "All the hypotheses in General and Specific boundary are:\n",
            "\n",
            "\n",
            " G[0]: {('?', '?', '?')}\n",
            "\n",
            " S[0]: {('Phi', 'Phi', 'Phi')}\n",
            "\n",
            " G[1]: {('Small', '?', '?'), ('?', 'Blue', '?'), ('?', '?', 'Triangle')}\n",
            "\n",
            " S[1]: {('Phi', 'Phi', 'Phi')}\n",
            "\n",
            " G[2]: {('?', 'Blue', '?'), ('Small', '?', 'Circle'), ('Big', '?', 'Triangle')}\n",
            "\n",
            " S[2]: {('Phi', 'Phi', 'Phi')}\n",
            "\n",
            " G[3]: {('Small', '?', 'Circle')}\n",
            "\n",
            " S[3]: {('Small', 'Red', 'Circle')}\n",
            "\n",
            " G[4]: {('Small', '?', 'Circle')}\n",
            "\n",
            " S[4]: {('Small', 'Red', 'Circle')}\n",
            "\n",
            " G[5]: {('Small', '?', 'Circle')}\n",
            "\n",
            " S[5]: {('Small', '?', 'Circle')}\n"
          ]
        }
      ],
      "source": [
        "data = [\n",
        "    ('Big', 'Red', 'Circle', 'No'),\n",
        "    ('Small', 'Red', 'Triangle', 'No'),\n",
        "    ('Small', 'Red', 'Circle', 'Yes'),\n",
        "    ('Big', 'Blue', 'Circle', 'No'),\n",
        "    ('Small', 'Blue', 'Circle','Yes')\n",
        "]\n",
        "def get_domains(data):\n",
        "    d = [set() for i in data[0]]\n",
        "    for x in data:\n",
        "        for i, xi in enumerate(x):\n",
        "            d[i].add(xi)\n",
        "    return [list(sorted(x)) for x in d]\n",
        "get_domains(data)\n",
        "def g_0(n):\n",
        "    return ('?',)*n\n",
        "\n",
        "def s_0(n):\n",
        "    return ('Phi',)*n\n",
        "def more_general(h1, h2):\n",
        "    more_general_parts = []\n",
        "    for x, y in zip(h1, h2):\n",
        "        mg = x == '?' or (x != 'Phi' and (x == y or y == 'Phi'))\n",
        "        more_general_parts.append(mg)\n",
        "    return all(more_general_parts)\n",
        "\n",
        "def consistent(hypothesis,example):\n",
        "    return more_general(hypothesis, example)\n",
        "\n",
        "def min_generalizations(h, x):\n",
        "    h_new = list(h)\n",
        "    for i in range(len(h)):\n",
        "        if not consistent(h[i:i+1],x[i:i+1]):\n",
        "            if h[i] != 'Phi':\n",
        "                h_new[i] = '?'\n",
        "            else:\n",
        "                h_new[i] = x[i]\n",
        "    return [tuple(h_new)]\n",
        "\n",
        "def generalize_S(x, G, S):\n",
        "    S_prev = list(S)\n",
        "    for s in S_prev:\n",
        "        if s not in S:\n",
        "            continue\n",
        "        if not consistent(s,x):\n",
        "            S.remove(s)\n",
        "            Splus = min_generalizations(s, x)\n",
        "            S.update([h for h in Splus if any([more_general(g,h)\n",
        "                                               for g in G])])\n",
        "\n",
        "            S.difference_update([h for h in S if\n",
        "                                 any([more_general(h, h1)\n",
        "                                      for h1 in S if h != h1])])\n",
        "    return S\n",
        "\n",
        "def min_specializations(h, domains, x):\n",
        "    results = []\n",
        "    for i in range(len(h)):\n",
        "        if h[i] == '?':\n",
        "            for val in domains[i]:\n",
        "                if x[i] != val:\n",
        "                    h_new = h[:i] + (val,) + h[i+1:]\n",
        "                    results.append(h_new)\n",
        "        elif h[i] != 'Phi':\n",
        "            h_new = h[:i] + ('Phi',) + h[i+1:]\n",
        "            results.append(h_new)\n",
        "    return results\n",
        "\n",
        "def specialize_G(x, domains, G, S):\n",
        "    G_prev = list(G)\n",
        "    for g in G_prev:\n",
        "        if g not in G:\n",
        "            continue\n",
        "        if consistent(g,x):\n",
        "            G.remove(g)\n",
        "            Gminus = min_specializations(g, domains, x)\n",
        "            G.update([h for h in Gminus if any([more_general(h, s)\n",
        "                                                for s in S])])\n",
        "            G.difference_update([h for h in G if\n",
        "                                 any([more_general(g1, h)\n",
        "                                      for g1 in G if h != g1])])\n",
        "    return G\n",
        "\n",
        "def candidate_elimination(examples):\n",
        "    domains = get_domains(examples)[:-1]\n",
        "\n",
        "    G = set([g_0(len(domains))])\n",
        "    S = set([s_0(len(domains))])\n",
        "    i=0\n",
        "    print('All the hypotheses in General and Specific boundary are:\\n')\n",
        "    print('\\n G[{0}]:'.format(i),G)\n",
        "    print('\\n S[{0}]:'.format(i),S)\n",
        "    for xcx in examples:\n",
        "        i=i+1\n",
        "        x, cx = xcx[:-1], xcx[-1]\n",
        "        if cx=='Yes':\n",
        "            G = {g for g in G if consistent(g,x)}\n",
        "            S = generalize_S(x, G, S)\n",
        "        else:\n",
        "            S = {s for s in S if not consistent(s,x)}\n",
        "            G = specialize_G(x, domains, G, S)\n",
        "        print('\\n G[{0}]:'.format(i),G)\n",
        "        print('\\n S[{0}]:'.format(i),S)\n",
        "    return\n",
        "candidate_elimination(data)\n"
      ]
    },
    {
      "cell_type": "code",
      "execution_count": 66,
      "metadata": {
        "colab": {
          "base_uri": "https://localhost:8080/",
          "height": 425
        },
        "id": "7RI9GKMJv0Q5",
        "outputId": "daa4a130-e4dc-4e1f-ad9e-42fd324401da"
      },
      "outputs": [
        {
          "name": "stdout",
          "output_type": "stream",
          "text": [
            "All the hypotheses in General and Specific boundary are:\n",
            "\n",
            "\n",
            " G[0]: {('?', '?', '?')}\n",
            "\n",
            " S[0]: {('Phi', 'Phi', 'Phi')}\n"
          ]
        },
        {
          "ename": "TypeError",
          "evalue": "unhashable type: 'list'",
          "output_type": "error",
          "traceback": [
            "\u001b[1;31m---------------------------------------------------------------------------\u001b[0m",
            "\u001b[1;31mTypeError\u001b[0m                                 Traceback (most recent call last)",
            "\u001b[1;32m~\\AppData\\Local\\Temp\\ipykernel_12116\\3365906335.py\u001b[0m in \u001b[0;36m<module>\u001b[1;34m\u001b[0m\n\u001b[0;32m     66\u001b[0m ]\n\u001b[0;32m     67\u001b[0m \u001b[1;33m\u001b[0m\u001b[0m\n\u001b[1;32m---> 68\u001b[1;33m \u001b[0mcandidate_elimination\u001b[0m\u001b[1;33m(\u001b[0m\u001b[0mdata\u001b[0m\u001b[1;33m)\u001b[0m\u001b[1;33m\u001b[0m\u001b[1;33m\u001b[0m\u001b[0m\n\u001b[0m",
            "\u001b[1;32m~\\AppData\\Local\\Temp\\ipykernel_12116\\3365906335.py\u001b[0m in \u001b[0;36mcandidate_elimination\u001b[1;34m(examples)\u001b[0m\n\u001b[0;32m     53\u001b[0m         \u001b[1;32melse\u001b[0m\u001b[1;33m:\u001b[0m\u001b[1;33m\u001b[0m\u001b[1;33m\u001b[0m\u001b[0m\n\u001b[0;32m     54\u001b[0m             \u001b[0mS\u001b[0m \u001b[1;33m=\u001b[0m \u001b[1;33m{\u001b[0m\u001b[0ms\u001b[0m \u001b[1;32mfor\u001b[0m \u001b[0ms\u001b[0m \u001b[1;32min\u001b[0m \u001b[0mS\u001b[0m \u001b[1;32mif\u001b[0m \u001b[1;32mnot\u001b[0m \u001b[0mconsistent\u001b[0m\u001b[1;33m(\u001b[0m\u001b[0ms\u001b[0m\u001b[1;33m,\u001b[0m \u001b[0mx\u001b[0m\u001b[1;33m)\u001b[0m\u001b[1;33m}\u001b[0m\u001b[1;33m\u001b[0m\u001b[1;33m\u001b[0m\u001b[0m\n\u001b[1;32m---> 55\u001b[1;33m             \u001b[0mG\u001b[0m \u001b[1;33m=\u001b[0m \u001b[0mspecialize_G\u001b[0m\u001b[1;33m(\u001b[0m\u001b[0mx\u001b[0m\u001b[1;33m,\u001b[0m \u001b[0mdomains\u001b[0m\u001b[1;33m,\u001b[0m \u001b[0mG\u001b[0m\u001b[1;33m,\u001b[0m \u001b[0mS\u001b[0m\u001b[1;33m)\u001b[0m\u001b[1;33m\u001b[0m\u001b[1;33m\u001b[0m\u001b[0m\n\u001b[0m\u001b[0;32m     56\u001b[0m         \u001b[0mprint\u001b[0m\u001b[1;33m(\u001b[0m\u001b[1;34m'\\n G[{0}]:'\u001b[0m\u001b[1;33m.\u001b[0m\u001b[0mformat\u001b[0m\u001b[1;33m(\u001b[0m\u001b[0mi\u001b[0m\u001b[1;33m)\u001b[0m\u001b[1;33m,\u001b[0m \u001b[0mG\u001b[0m\u001b[1;33m)\u001b[0m\u001b[1;33m\u001b[0m\u001b[1;33m\u001b[0m\u001b[0m\n\u001b[0;32m     57\u001b[0m         \u001b[0mprint\u001b[0m\u001b[1;33m(\u001b[0m\u001b[1;34m'\\n S[{0}]:'\u001b[0m\u001b[1;33m.\u001b[0m\u001b[0mformat\u001b[0m\u001b[1;33m(\u001b[0m\u001b[0mi\u001b[0m\u001b[1;33m)\u001b[0m\u001b[1;33m,\u001b[0m \u001b[0mS\u001b[0m\u001b[1;33m)\u001b[0m\u001b[1;33m\u001b[0m\u001b[1;33m\u001b[0m\u001b[0m\n",
            "\u001b[1;32m~\\AppData\\Local\\Temp\\ipykernel_12116\\3365906335.py\u001b[0m in \u001b[0;36mspecialize_G\u001b[1;34m(x, domains, G, S)\u001b[0m\n\u001b[0;32m     33\u001b[0m         \u001b[1;32mif\u001b[0m \u001b[0mconsistent\u001b[0m\u001b[1;33m(\u001b[0m\u001b[0mg\u001b[0m\u001b[1;33m,\u001b[0m \u001b[0mx\u001b[0m\u001b[1;33m)\u001b[0m\u001b[1;33m:\u001b[0m\u001b[1;33m\u001b[0m\u001b[1;33m\u001b[0m\u001b[0m\n\u001b[0;32m     34\u001b[0m             \u001b[0mG\u001b[0m\u001b[1;33m.\u001b[0m\u001b[0mremove\u001b[0m\u001b[1;33m(\u001b[0m\u001b[0mg\u001b[0m\u001b[1;33m)\u001b[0m\u001b[1;33m\u001b[0m\u001b[1;33m\u001b[0m\u001b[0m\n\u001b[1;32m---> 35\u001b[1;33m             \u001b[0mG\u001b[0m\u001b[1;33m.\u001b[0m\u001b[0mupdate\u001b[0m\u001b[1;33m(\u001b[0m\u001b[0mh\u001b[0m \u001b[1;32mfor\u001b[0m \u001b[0mh\u001b[0m \u001b[1;32min\u001b[0m \u001b[0mmin_specializations\u001b[0m\u001b[1;33m(\u001b[0m\u001b[0mg\u001b[0m\u001b[1;33m,\u001b[0m \u001b[0mdomains\u001b[0m\u001b[1;33m,\u001b[0m \u001b[0mx\u001b[0m\u001b[1;33m)\u001b[0m \u001b[1;32mif\u001b[0m \u001b[0many\u001b[0m\u001b[1;33m(\u001b[0m\u001b[0mmore_general\u001b[0m\u001b[1;33m(\u001b[0m\u001b[0mh\u001b[0m\u001b[1;33m,\u001b[0m \u001b[0ms\u001b[0m\u001b[1;33m)\u001b[0m \u001b[1;32mfor\u001b[0m \u001b[0ms\u001b[0m \u001b[1;32min\u001b[0m \u001b[0mS\u001b[0m\u001b[1;33m)\u001b[0m\u001b[1;33m)\u001b[0m\u001b[1;33m\u001b[0m\u001b[1;33m\u001b[0m\u001b[0m\n\u001b[0m\u001b[0;32m     36\u001b[0m             \u001b[0mG\u001b[0m\u001b[1;33m.\u001b[0m\u001b[0mdifference_update\u001b[0m\u001b[1;33m(\u001b[0m\u001b[0mh\u001b[0m \u001b[1;32mfor\u001b[0m \u001b[0mh\u001b[0m \u001b[1;32min\u001b[0m \u001b[0mG\u001b[0m \u001b[1;32mif\u001b[0m \u001b[0many\u001b[0m\u001b[1;33m(\u001b[0m\u001b[0mmore_general\u001b[0m\u001b[1;33m(\u001b[0m\u001b[0mg1\u001b[0m\u001b[1;33m,\u001b[0m \u001b[0mh\u001b[0m\u001b[1;33m)\u001b[0m \u001b[1;32mfor\u001b[0m \u001b[0mg1\u001b[0m \u001b[1;32min\u001b[0m \u001b[0mG\u001b[0m \u001b[1;32mif\u001b[0m \u001b[0mh\u001b[0m \u001b[1;33m!=\u001b[0m \u001b[0mg1\u001b[0m\u001b[1;33m)\u001b[0m\u001b[1;33m)\u001b[0m\u001b[1;33m\u001b[0m\u001b[1;33m\u001b[0m\u001b[0m\n\u001b[0;32m     37\u001b[0m     \u001b[1;32mreturn\u001b[0m \u001b[0mG\u001b[0m\u001b[1;33m\u001b[0m\u001b[1;33m\u001b[0m\u001b[0m\n",
            "\u001b[1;31mTypeError\u001b[0m: unhashable type: 'list'"
          ]
        }
      ],
      "source": [
        "def get_domains(data):\n",
        "    return [sorted(set(x)) for x in zip(*data)]\n",
        "\n",
        "def g_0(n):\n",
        "    return ('?',) * n\n",
        "\n",
        "def s_0(n):\n",
        "    return ('Phi',) * n\n",
        "\n",
        "def more_general(h1, h2):\n",
        "    return all(x == '?' or x != 'Phi' and (x == y or y == 'Phi') for x, y in zip(h1, h2))\n",
        "\n",
        "def consistent(hypothesis, example):\n",
        "    return more_general(hypothesis, example)\n",
        "\n",
        "def min_generalizations(h, x):\n",
        "    return [(x_val if h_val == 'Phi' else '?') if not consistent([h_val], [x_val]) else h_val for h_val, x_val in zip(h, x)]\n",
        "\n",
        "def generalize_S(x, G, S):\n",
        "    for s in list(S):\n",
        "        if not consistent(s, x):\n",
        "            S.remove(s)\n",
        "            S.update(h for h in [min_generalizations(s, x)] if any(more_general(g, h) for g in G))\n",
        "            S.difference_update(h for h in S if any(more_general(h, h1) for h1 in S if h != h1))\n",
        "    return S\n",
        "\n",
        "def min_specializations(h, domains, x):\n",
        "    return [h[:i] + (val,) + h[i + 1:] for i, val in enumerate(domains) if h[i] == '?' and x[i] != val] + \\\n",
        "           [('Phi',) * i + (val,) + ('Phi',) * (len(h) - i - 1) for i, val in enumerate(h) if val != 'Phi']\n",
        "\n",
        "def specialize_G(x, domains, G, S):\n",
        "    for g in list(G):\n",
        "        if consistent(g, x):\n",
        "            G.remove(g)\n",
        "            G.update(h for h in min_specializations(g, domains, x) if any(more_general(h, s) for s in S))\n",
        "            G.difference_update(h for h in G if any(more_general(g1, h) for g1 in G if h != g1))\n",
        "    return G\n",
        "\n",
        "def candidate_elimination(examples):\n",
        "    domains = get_domains(examples)[:-1]\n",
        "    G = {g_0(len(domains))}\n",
        "    S = {s_0(len(domains))}\n",
        "    i = 0\n",
        "    print('All the hypotheses in General and Specific boundary are:\\n')\n",
        "    print('\\n G[{0}]:'.format(i), G)\n",
        "    print('\\n S[{0}]:'.format(i), S)\n",
        "    for xcx in examples:\n",
        "        i += 1\n",
        "        x, cx = xcx[:-1], xcx[-1]\n",
        "        if cx == 'Yes':\n",
        "            G = {g for g in G if consistent(g, x)}\n",
        "            S = generalize_S(x, G, S)\n",
        "        else:\n",
        "            S = {s for s in S if not consistent(s, x)}\n",
        "            G = specialize_G(x, domains, G, S)\n",
        "        print('\\n G[{0}]:'.format(i), G)\n",
        "        print('\\n S[{0}]:'.format(i), S)\n",
        "    return\n",
        "\n",
        "data = [\n",
        "    ('Big', 'Red', 'Circle', 'No'),\n",
        "    ('Small', 'Red', 'Triangle', 'No'),\n",
        "    ('Small', 'Red', 'Circle', 'Yes'),\n",
        "    ('Big', 'Blue', 'Circle', 'No'),\n",
        "    ('Small', 'Blue', 'Circle', 'Yes')\n",
        "]\n",
        "\n",
        "candidate_elimination(data)\n"
      ]
    },
    {
      "cell_type": "markdown",
      "metadata": {
        "id": "Z0e4KBG1Mgwd"
      },
      "source": [
        "ID3\n"
      ]
    },
    {
      "cell_type": "code",
      "execution_count": null,
      "metadata": {
        "colab": {
          "base_uri": "https://localhost:8080/"
        },
        "id": "C70uParKLvyX",
        "outputId": "b3d013c7-97af-44ac-a14c-eea5c184e3ad"
      },
      "outputs": [
        {
          "name": "stdout",
          "output_type": "stream",
          "text": [
            "Drive already mounted at /content/drive; to attempt to forcibly remount, call drive.mount(\"/content/drive\", force_remount=True).\n",
            "Index(['Age', 'Income', 'Gender', 'MaritalStatus', 'Buy'], dtype='object')\n",
            "Predicted class label: N\n"
          ]
        }
      ],
      "source": [
        "from google.colab import drive\n",
        "import numpy as np\n",
        "import pandas as pd\n",
        "\n",
        "# Mount Google Drive\n",
        "drive.mount('/content/drive')\n",
        "\n",
        "# Read the dataset\n",
        "df = pd.read_excel('/content/drive/My Drive/Colab Notebooks/NNML/house_purchase.xlsx')\n",
        "\n",
        "# Check the columns of the DataFrame\n",
        "print(df.columns)\n",
        "\n",
        "# Define the entropy function\n",
        "def entropy(s):\n",
        "    p = [(s == c).mean() for c in set(s)]\n",
        "    return sum([-pi * np.log2(pi) for pi in p if pi != 0])\n",
        "\n",
        "\n",
        "# Define the information gain function\n",
        "def info_gain(data, attribute, target):\n",
        "    totalE = entropy(data[target])\n",
        "    vals, counts = np.unique(data[attribute], return_counts=True)\n",
        "    wt = np.sum([(counts[i] / np.sum(counts)) * entropy(data.where(data[attribute] == val).dropna()[target]) for i, val in enumerate(vals)])\n",
        "    return totalE - wt\n",
        "\n",
        "# Define the ID3 algorithm\n",
        "def id3(data, og, features, target, parent_node_class=None):\n",
        "    if len(np.unique(data[target])) <= 1:\n",
        "        return np.unique(data[target])[0]\n",
        "    elif len(data) == 0:\n",
        "        return np.unique(og[target])[np.argmax(np.unique(og[target], return_counts=True)[1])]\n",
        "    elif len(features) == 0:\n",
        "        return parent_node_class\n",
        "    else:\n",
        "        parent_node_class = np.unique(data[target])[np.argmax(np.unique(data[target], return_counts=True)[1])]\n",
        "    item = [info_gain(data, feature, target) for feature in features]\n",
        "    bestI = np.argmax(item)\n",
        "    bestF = features[bestI]\n",
        "    tree = {bestF: {}}\n",
        "    features = [i for i in features if i != bestF]\n",
        "    for value in np.unique(data[bestF]):\n",
        "        value = value\n",
        "        sub = data.where(data[bestF] == value).dropna()\n",
        "        subtree = id3(sub, df, features, target, parent_node_class)\n",
        "        tree[bestF][value] = subtree\n",
        "    return tree\n",
        "\n",
        "# Define the predict function\n",
        "def predict(query, tree):\n",
        "    for key in list(query.keys()):\n",
        "        if key in list(tree.keys()):\n",
        "            try:\n",
        "                result = tree[key][query[key]]\n",
        "            except:\n",
        "                return \"Cannot make a prediction\"\n",
        "            result = tree[key][query[key]]\n",
        "            if isinstance(result, dict):\n",
        "                return predict(query, result)\n",
        "            else:\n",
        "                return result\n",
        "\n",
        "# Define the query dictionary\n",
        "query = {'Age': 30, 'Income': 50000, 'Gender': 'Male', 'MaritalStatus': 'Single'}\n",
        "\n",
        "# Define features and target\n",
        "features = ['Age', 'Income', 'Gender', 'MaritalStatus']\n",
        "target = 'Buy'\n",
        "\n",
        "# Build the decision tree\n",
        "tree = id3(df, df, features, target)\n",
        "\n",
        "# Predict the class label\n",
        "prediction = predict(query, tree)\n",
        "print(\"Predicted class label:\", prediction)\n"
      ]
    },
    {
      "cell_type": "code",
      "execution_count": null,
      "metadata": {
        "id": "hNgZs6T_8eqL"
      },
      "outputs": [],
      "source": [
        "import pandas as pd\n",
        "\n",
        "# Creating a more varied dataset\n",
        "data = pd.DataFrame({\n",
        "    'Weather': ['Sunny', 'Sunny', 'Overcast', 'Rainy', 'Rainy', 'Rainy', 'Overcast', 'Sunny', 'Sunny', 'Rainy'],\n",
        "    'Temperature': ['Hot', 'Hot', 'Mild', 'Cool', 'Cool', 'Cool', 'Mild', 'Mild', 'Cool', 'Mild'],\n",
        "    'Wind': ['Weak', 'Strong', 'Weak', 'Weak', 'Weak', 'Strong', 'Strong', 'Weak', 'Weak', 'Strong'],\n",
        "    'PlayTennis': ['Yes', 'Yes', 'Yes', 'No', 'Yes', 'No', 'Yes', 'No', 'No', 'No']\n",
        "})\n",
        "\n",
        "# Step 1: Initialize h to the most specific hypothesis in H\n",
        "hypothesis = pd.Series(['ϕ'] * (len(data.columns) - 1), index=data.columns[:-1])\n",
        "\n",
        "# Display the initial hypothesis\n",
        "print(\"Step 1: Initial Hypothesis\")\n",
        "print(hypothesis, \"\\n\")\n",
        "\n",
        "# Step 2: Iterate through positive examples\n",
        "for index, row in data.iterrows():\n",
        "    if row['PlayTennis'] == 'Yes':\n",
        "        for attribute in data.columns[:-1]:\n",
        "            # If the constraint ai is satisfied by x, do nothing\n",
        "            if hypothesis[attribute] == 'ϕ' or hypothesis[attribute] == row[attribute]:\n",
        "                pass\n",
        "            # Replace ai in h with the next more general constraint that is satisfied by x\n",
        "            else:\n",
        "                hypothesis[attribute] = '?'\n",
        "\n",
        "# Display the final hypothesis\n",
        "print(\"Step 3: Final Hypothesis\")\n",
        "print(hypothesis)\n"
      ]
    },
    {
      "cell_type": "markdown",
      "metadata": {
        "id": "pAmeaqJqMZCE"
      },
      "source": [
        "NAIVE BAYES CLASSIFICATION\n"
      ]
    },
    {
      "cell_type": "code",
      "execution_count": null,
      "metadata": {
        "colab": {
          "base_uri": "https://localhost:8080/"
        },
        "id": "b7E-agRkbDsB",
        "outputId": "67762293-4270-4a87-d98f-5bf0216d10b9"
      },
      "outputs": [
        {
          "name": "stdout",
          "output_type": "stream",
          "text": [
            "Mounted at /content/drive\n"
          ]
        }
      ],
      "source": [
        "from google.colab import drive\n",
        "drive.mount('/content/drive')"
      ]
    },
    {
      "cell_type": "code",
      "execution_count": null,
      "metadata": {
        "colab": {
          "base_uri": "https://localhost:8080/",
          "height": 362
        },
        "id": "lOClVDuuba-7",
        "outputId": "0fd15c1e-c517-43cc-aa29-be3786bb459a"
      },
      "outputs": [
        {
          "data": {
            "application/vnd.google.colaboratory.intrinsic+json": {
              "summary": "{\n  \"name\": \"data\",\n  \"rows\": 569,\n  \"fields\": [\n    {\n      \"column\": \"mean_radius\",\n      \"properties\": {\n        \"dtype\": \"number\",\n        \"std\": 3.5240488262120775,\n        \"min\": 6.981,\n        \"max\": 28.11,\n        \"num_unique_values\": 456,\n        \"samples\": [\n          11.87,\n          13.44,\n          12.96\n        ],\n        \"semantic_type\": \"\",\n        \"description\": \"\"\n      }\n    },\n    {\n      \"column\": \"mean_texture\",\n      \"properties\": {\n        \"dtype\": \"number\",\n        \"std\": 4.301035768166949,\n        \"min\": 9.71,\n        \"max\": 39.28,\n        \"num_unique_values\": 479,\n        \"samples\": [\n          17.84,\n          17.07,\n          18.57\n        ],\n        \"semantic_type\": \"\",\n        \"description\": \"\"\n      }\n    },\n    {\n      \"column\": \"mean_perimeter\",\n      \"properties\": {\n        \"dtype\": \"number\",\n        \"std\": 24.298981038754906,\n        \"min\": 43.79,\n        \"max\": 188.5,\n        \"num_unique_values\": 522,\n        \"samples\": [\n          92.25,\n          76.38,\n          119.6\n        ],\n        \"semantic_type\": \"\",\n        \"description\": \"\"\n      }\n    },\n    {\n      \"column\": \"mean_area\",\n      \"properties\": {\n        \"dtype\": \"number\",\n        \"std\": 351.914129181653,\n        \"min\": 143.5,\n        \"max\": 2501.0,\n        \"num_unique_values\": 539,\n        \"samples\": [\n          556.7,\n          584.1,\n          458.4\n        ],\n        \"semantic_type\": \"\",\n        \"description\": \"\"\n      }\n    },\n    {\n      \"column\": \"mean_smoothness\",\n      \"properties\": {\n        \"dtype\": \"number\",\n        \"std\": 0.01406412813767362,\n        \"min\": 0.05263,\n        \"max\": 0.1634,\n        \"num_unique_values\": 474,\n        \"samples\": [\n          0.09427,\n          0.09003,\n          0.1186\n        ],\n        \"semantic_type\": \"\",\n        \"description\": \"\"\n      }\n    },\n    {\n      \"column\": \"diagnosis\",\n      \"properties\": {\n        \"dtype\": \"number\",\n        \"std\": 0,\n        \"min\": 0,\n        \"max\": 1,\n        \"num_unique_values\": 2,\n        \"samples\": [\n          1,\n          0\n        ],\n        \"semantic_type\": \"\",\n        \"description\": \"\"\n      }\n    }\n  ]\n}",
              "type": "dataframe",
              "variable_name": "data"
            },
            "text/html": [
              "\n",
              "  <div id=\"df-33aecb98-e9fe-4bde-a345-79f0047d8315\" class=\"colab-df-container\">\n",
              "    <div>\n",
              "<style scoped>\n",
              "    .dataframe tbody tr th:only-of-type {\n",
              "        vertical-align: middle;\n",
              "    }\n",
              "\n",
              "    .dataframe tbody tr th {\n",
              "        vertical-align: top;\n",
              "    }\n",
              "\n",
              "    .dataframe thead th {\n",
              "        text-align: right;\n",
              "    }\n",
              "</style>\n",
              "<table border=\"1\" class=\"dataframe\">\n",
              "  <thead>\n",
              "    <tr style=\"text-align: right;\">\n",
              "      <th></th>\n",
              "      <th>mean_radius</th>\n",
              "      <th>mean_texture</th>\n",
              "      <th>mean_perimeter</th>\n",
              "      <th>mean_area</th>\n",
              "      <th>mean_smoothness</th>\n",
              "      <th>diagnosis</th>\n",
              "    </tr>\n",
              "  </thead>\n",
              "  <tbody>\n",
              "    <tr>\n",
              "      <th>0</th>\n",
              "      <td>17.99</td>\n",
              "      <td>10.38</td>\n",
              "      <td>122.80</td>\n",
              "      <td>1001.0</td>\n",
              "      <td>0.11840</td>\n",
              "      <td>0</td>\n",
              "    </tr>\n",
              "    <tr>\n",
              "      <th>1</th>\n",
              "      <td>20.57</td>\n",
              "      <td>17.77</td>\n",
              "      <td>132.90</td>\n",
              "      <td>1326.0</td>\n",
              "      <td>0.08474</td>\n",
              "      <td>0</td>\n",
              "    </tr>\n",
              "    <tr>\n",
              "      <th>2</th>\n",
              "      <td>19.69</td>\n",
              "      <td>21.25</td>\n",
              "      <td>130.00</td>\n",
              "      <td>1203.0</td>\n",
              "      <td>0.10960</td>\n",
              "      <td>0</td>\n",
              "    </tr>\n",
              "    <tr>\n",
              "      <th>3</th>\n",
              "      <td>11.42</td>\n",
              "      <td>20.38</td>\n",
              "      <td>77.58</td>\n",
              "      <td>386.1</td>\n",
              "      <td>0.14250</td>\n",
              "      <td>0</td>\n",
              "    </tr>\n",
              "    <tr>\n",
              "      <th>4</th>\n",
              "      <td>20.29</td>\n",
              "      <td>14.34</td>\n",
              "      <td>135.10</td>\n",
              "      <td>1297.0</td>\n",
              "      <td>0.10030</td>\n",
              "      <td>0</td>\n",
              "    </tr>\n",
              "    <tr>\n",
              "      <th>5</th>\n",
              "      <td>12.45</td>\n",
              "      <td>15.70</td>\n",
              "      <td>82.57</td>\n",
              "      <td>477.1</td>\n",
              "      <td>0.12780</td>\n",
              "      <td>0</td>\n",
              "    </tr>\n",
              "    <tr>\n",
              "      <th>6</th>\n",
              "      <td>18.25</td>\n",
              "      <td>19.98</td>\n",
              "      <td>119.60</td>\n",
              "      <td>1040.0</td>\n",
              "      <td>0.09463</td>\n",
              "      <td>0</td>\n",
              "    </tr>\n",
              "    <tr>\n",
              "      <th>7</th>\n",
              "      <td>13.71</td>\n",
              "      <td>20.83</td>\n",
              "      <td>90.20</td>\n",
              "      <td>577.9</td>\n",
              "      <td>0.11890</td>\n",
              "      <td>0</td>\n",
              "    </tr>\n",
              "    <tr>\n",
              "      <th>8</th>\n",
              "      <td>13.00</td>\n",
              "      <td>21.82</td>\n",
              "      <td>87.50</td>\n",
              "      <td>519.8</td>\n",
              "      <td>0.12730</td>\n",
              "      <td>0</td>\n",
              "    </tr>\n",
              "    <tr>\n",
              "      <th>9</th>\n",
              "      <td>12.46</td>\n",
              "      <td>24.04</td>\n",
              "      <td>83.97</td>\n",
              "      <td>475.9</td>\n",
              "      <td>0.11860</td>\n",
              "      <td>0</td>\n",
              "    </tr>\n",
              "  </tbody>\n",
              "</table>\n",
              "</div>\n",
              "    <div class=\"colab-df-buttons\">\n",
              "\n",
              "  <div class=\"colab-df-container\">\n",
              "    <button class=\"colab-df-convert\" onclick=\"convertToInteractive('df-33aecb98-e9fe-4bde-a345-79f0047d8315')\"\n",
              "            title=\"Convert this dataframe to an interactive table.\"\n",
              "            style=\"display:none;\">\n",
              "\n",
              "  <svg xmlns=\"http://www.w3.org/2000/svg\" height=\"24px\" viewBox=\"0 -960 960 960\">\n",
              "    <path d=\"M120-120v-720h720v720H120Zm60-500h600v-160H180v160Zm220 220h160v-160H400v160Zm0 220h160v-160H400v160ZM180-400h160v-160H180v160Zm440 0h160v-160H620v160ZM180-180h160v-160H180v160Zm440 0h160v-160H620v160Z\"/>\n",
              "  </svg>\n",
              "    </button>\n",
              "\n",
              "  <style>\n",
              "    .colab-df-container {\n",
              "      display:flex;\n",
              "      gap: 12px;\n",
              "    }\n",
              "\n",
              "    .colab-df-convert {\n",
              "      background-color: #E8F0FE;\n",
              "      border: none;\n",
              "      border-radius: 50%;\n",
              "      cursor: pointer;\n",
              "      display: none;\n",
              "      fill: #1967D2;\n",
              "      height: 32px;\n",
              "      padding: 0 0 0 0;\n",
              "      width: 32px;\n",
              "    }\n",
              "\n",
              "    .colab-df-convert:hover {\n",
              "      background-color: #E2EBFA;\n",
              "      box-shadow: 0px 1px 2px rgba(60, 64, 67, 0.3), 0px 1px 3px 1px rgba(60, 64, 67, 0.15);\n",
              "      fill: #174EA6;\n",
              "    }\n",
              "\n",
              "    .colab-df-buttons div {\n",
              "      margin-bottom: 4px;\n",
              "    }\n",
              "\n",
              "    [theme=dark] .colab-df-convert {\n",
              "      background-color: #3B4455;\n",
              "      fill: #D2E3FC;\n",
              "    }\n",
              "\n",
              "    [theme=dark] .colab-df-convert:hover {\n",
              "      background-color: #434B5C;\n",
              "      box-shadow: 0px 1px 3px 1px rgba(0, 0, 0, 0.15);\n",
              "      filter: drop-shadow(0px 1px 2px rgba(0, 0, 0, 0.3));\n",
              "      fill: #FFFFFF;\n",
              "    }\n",
              "  </style>\n",
              "\n",
              "    <script>\n",
              "      const buttonEl =\n",
              "        document.querySelector('#df-33aecb98-e9fe-4bde-a345-79f0047d8315 button.colab-df-convert');\n",
              "      buttonEl.style.display =\n",
              "        google.colab.kernel.accessAllowed ? 'block' : 'none';\n",
              "\n",
              "      async function convertToInteractive(key) {\n",
              "        const element = document.querySelector('#df-33aecb98-e9fe-4bde-a345-79f0047d8315');\n",
              "        const dataTable =\n",
              "          await google.colab.kernel.invokeFunction('convertToInteractive',\n",
              "                                                    [key], {});\n",
              "        if (!dataTable) return;\n",
              "\n",
              "        const docLinkHtml = 'Like what you see? Visit the ' +\n",
              "          '<a target=\"_blank\" href=https://colab.research.google.com/notebooks/data_table.ipynb>data table notebook</a>'\n",
              "          + ' to learn more about interactive tables.';\n",
              "        element.innerHTML = '';\n",
              "        dataTable['output_type'] = 'display_data';\n",
              "        await google.colab.output.renderOutput(dataTable, element);\n",
              "        const docLink = document.createElement('div');\n",
              "        docLink.innerHTML = docLinkHtml;\n",
              "        element.appendChild(docLink);\n",
              "      }\n",
              "    </script>\n",
              "  </div>\n",
              "\n",
              "\n",
              "<div id=\"df-dcdd9997-f4b2-4ef5-92c1-3dc7a9f1b36a\">\n",
              "  <button class=\"colab-df-quickchart\" onclick=\"quickchart('df-dcdd9997-f4b2-4ef5-92c1-3dc7a9f1b36a')\"\n",
              "            title=\"Suggest charts\"\n",
              "            style=\"display:none;\">\n",
              "\n",
              "<svg xmlns=\"http://www.w3.org/2000/svg\" height=\"24px\"viewBox=\"0 0 24 24\"\n",
              "     width=\"24px\">\n",
              "    <g>\n",
              "        <path d=\"M19 3H5c-1.1 0-2 .9-2 2v14c0 1.1.9 2 2 2h14c1.1 0 2-.9 2-2V5c0-1.1-.9-2-2-2zM9 17H7v-7h2v7zm4 0h-2V7h2v10zm4 0h-2v-4h2v4z\"/>\n",
              "    </g>\n",
              "</svg>\n",
              "  </button>\n",
              "\n",
              "<style>\n",
              "  .colab-df-quickchart {\n",
              "      --bg-color: #E8F0FE;\n",
              "      --fill-color: #1967D2;\n",
              "      --hover-bg-color: #E2EBFA;\n",
              "      --hover-fill-color: #174EA6;\n",
              "      --disabled-fill-color: #AAA;\n",
              "      --disabled-bg-color: #DDD;\n",
              "  }\n",
              "\n",
              "  [theme=dark] .colab-df-quickchart {\n",
              "      --bg-color: #3B4455;\n",
              "      --fill-color: #D2E3FC;\n",
              "      --hover-bg-color: #434B5C;\n",
              "      --hover-fill-color: #FFFFFF;\n",
              "      --disabled-bg-color: #3B4455;\n",
              "      --disabled-fill-color: #666;\n",
              "  }\n",
              "\n",
              "  .colab-df-quickchart {\n",
              "    background-color: var(--bg-color);\n",
              "    border: none;\n",
              "    border-radius: 50%;\n",
              "    cursor: pointer;\n",
              "    display: none;\n",
              "    fill: var(--fill-color);\n",
              "    height: 32px;\n",
              "    padding: 0;\n",
              "    width: 32px;\n",
              "  }\n",
              "\n",
              "  .colab-df-quickchart:hover {\n",
              "    background-color: var(--hover-bg-color);\n",
              "    box-shadow: 0 1px 2px rgba(60, 64, 67, 0.3), 0 1px 3px 1px rgba(60, 64, 67, 0.15);\n",
              "    fill: var(--button-hover-fill-color);\n",
              "  }\n",
              "\n",
              "  .colab-df-quickchart-complete:disabled,\n",
              "  .colab-df-quickchart-complete:disabled:hover {\n",
              "    background-color: var(--disabled-bg-color);\n",
              "    fill: var(--disabled-fill-color);\n",
              "    box-shadow: none;\n",
              "  }\n",
              "\n",
              "  .colab-df-spinner {\n",
              "    border: 2px solid var(--fill-color);\n",
              "    border-color: transparent;\n",
              "    border-bottom-color: var(--fill-color);\n",
              "    animation:\n",
              "      spin 1s steps(1) infinite;\n",
              "  }\n",
              "\n",
              "  @keyframes spin {\n",
              "    0% {\n",
              "      border-color: transparent;\n",
              "      border-bottom-color: var(--fill-color);\n",
              "      border-left-color: var(--fill-color);\n",
              "    }\n",
              "    20% {\n",
              "      border-color: transparent;\n",
              "      border-left-color: var(--fill-color);\n",
              "      border-top-color: var(--fill-color);\n",
              "    }\n",
              "    30% {\n",
              "      border-color: transparent;\n",
              "      border-left-color: var(--fill-color);\n",
              "      border-top-color: var(--fill-color);\n",
              "      border-right-color: var(--fill-color);\n",
              "    }\n",
              "    40% {\n",
              "      border-color: transparent;\n",
              "      border-right-color: var(--fill-color);\n",
              "      border-top-color: var(--fill-color);\n",
              "    }\n",
              "    60% {\n",
              "      border-color: transparent;\n",
              "      border-right-color: var(--fill-color);\n",
              "    }\n",
              "    80% {\n",
              "      border-color: transparent;\n",
              "      border-right-color: var(--fill-color);\n",
              "      border-bottom-color: var(--fill-color);\n",
              "    }\n",
              "    90% {\n",
              "      border-color: transparent;\n",
              "      border-bottom-color: var(--fill-color);\n",
              "    }\n",
              "  }\n",
              "</style>\n",
              "\n",
              "  <script>\n",
              "    async function quickchart(key) {\n",
              "      const quickchartButtonEl =\n",
              "        document.querySelector('#' + key + ' button');\n",
              "      quickchartButtonEl.disabled = true;  // To prevent multiple clicks.\n",
              "      quickchartButtonEl.classList.add('colab-df-spinner');\n",
              "      try {\n",
              "        const charts = await google.colab.kernel.invokeFunction(\n",
              "            'suggestCharts', [key], {});\n",
              "      } catch (error) {\n",
              "        console.error('Error during call to suggestCharts:', error);\n",
              "      }\n",
              "      quickchartButtonEl.classList.remove('colab-df-spinner');\n",
              "      quickchartButtonEl.classList.add('colab-df-quickchart-complete');\n",
              "    }\n",
              "    (() => {\n",
              "      let quickchartButtonEl =\n",
              "        document.querySelector('#df-dcdd9997-f4b2-4ef5-92c1-3dc7a9f1b36a button');\n",
              "      quickchartButtonEl.style.display =\n",
              "        google.colab.kernel.accessAllowed ? 'block' : 'none';\n",
              "    })();\n",
              "  </script>\n",
              "</div>\n",
              "    </div>\n",
              "  </div>\n"
            ],
            "text/plain": [
              "   mean_radius  mean_texture  mean_perimeter  mean_area  mean_smoothness  \\\n",
              "0        17.99         10.38          122.80     1001.0          0.11840   \n",
              "1        20.57         17.77          132.90     1326.0          0.08474   \n",
              "2        19.69         21.25          130.00     1203.0          0.10960   \n",
              "3        11.42         20.38           77.58      386.1          0.14250   \n",
              "4        20.29         14.34          135.10     1297.0          0.10030   \n",
              "5        12.45         15.70           82.57      477.1          0.12780   \n",
              "6        18.25         19.98          119.60     1040.0          0.09463   \n",
              "7        13.71         20.83           90.20      577.9          0.11890   \n",
              "8        13.00         21.82           87.50      519.8          0.12730   \n",
              "9        12.46         24.04           83.97      475.9          0.11860   \n",
              "\n",
              "   diagnosis  \n",
              "0          0  \n",
              "1          0  \n",
              "2          0  \n",
              "3          0  \n",
              "4          0  \n",
              "5          0  \n",
              "6          0  \n",
              "7          0  \n",
              "8          0  \n",
              "9          0  "
            ]
          },
          "execution_count": 4,
          "metadata": {},
          "output_type": "execute_result"
        }
      ],
      "source": [
        "import numpy as np\n",
        "import pandas as pd\n",
        "import matplotlib.pyplot as plt\n",
        "import seaborn as sn\n",
        "\n",
        "sn.set_style(\"darkgrid\")\n",
        "\n",
        "data = pd.read_csv('/content/drive/My Drive/Colab Notebooks/NNML/BreastCancerData.csv')\n",
        "data.head(10)\n"
      ]
    },
    {
      "cell_type": "code",
      "execution_count": null,
      "metadata": {
        "colab": {
          "base_uri": "https://localhost:8080/",
          "height": 551
        },
        "id": "7rAvdUvicRHL",
        "outputId": "0fe60ea9-88ce-4920-bb3b-9212c9c18293"
      },
      "outputs": [
        {
          "data": {
            "image/png": "[encoded data removed]",
            "text/plain": [
              "<Figure size 640x480 with 2 Axes>"
            ]
          },
          "metadata": {},
          "output_type": "display_data"
        }
      ],
      "source": [
        "#EDA\n",
        "corr = data.iloc[:, :-1].corr(method='pearson')\n",
        "cmap = sn.diverging_palette(250, 354, 80, 60, center='dark', as_cmap=True)\n",
        "\n",
        "sn.heatmap(corr, vmax=1, vmin=-0.5, cmap=cmap, square=True, linewidths=0.2)\n",
        "plt.show()\n"
      ]
    },
    {
      "cell_type": "code",
      "execution_count": null,
      "metadata": {
        "colab": {
          "base_uri": "https://localhost:8080/",
          "height": 362
        },
        "id": "I7_vxRDYc_ZU",
        "outputId": "0e210d73-6bb0-4466-b8e7-6ae58ec0c181"
      },
      "outputs": [
        {
          "data": {
            "application/vnd.google.colaboratory.intrinsic+json": {
              "summary": "{\n  \"name\": \"data\",\n  \"rows\": 569,\n  \"fields\": [\n    {\n      \"column\": \"mean_radius\",\n      \"properties\": {\n        \"dtype\": \"number\",\n        \"std\": 3.5240488262120775,\n        \"min\": 6.981,\n        \"max\": 28.11,\n        \"num_unique_values\": 456,\n        \"samples\": [\n          11.87,\n          13.44,\n          12.96\n        ],\n        \"semantic_type\": \"\",\n        \"description\": \"\"\n      }\n    },\n    {\n      \"column\": \"mean_texture\",\n      \"properties\": {\n        \"dtype\": \"number\",\n        \"std\": 4.301035768166949,\n        \"min\": 9.71,\n        \"max\": 39.28,\n        \"num_unique_values\": 479,\n        \"samples\": [\n          17.84,\n          17.07,\n          18.57\n        ],\n        \"semantic_type\": \"\",\n        \"description\": \"\"\n      }\n    },\n    {\n      \"column\": \"mean_smoothness\",\n      \"properties\": {\n        \"dtype\": \"number\",\n        \"std\": 0.01406412813767362,\n        \"min\": 0.05263,\n        \"max\": 0.1634,\n        \"num_unique_values\": 474,\n        \"samples\": [\n          0.09427,\n          0.09003,\n          0.1186\n        ],\n        \"semantic_type\": \"\",\n        \"description\": \"\"\n      }\n    },\n    {\n      \"column\": \"diagnosis\",\n      \"properties\": {\n        \"dtype\": \"number\",\n        \"std\": 0,\n        \"min\": 0,\n        \"max\": 1,\n        \"num_unique_values\": 2,\n        \"samples\": [\n          1,\n          0\n        ],\n        \"semantic_type\": \"\",\n        \"description\": \"\"\n      }\n    }\n  ]\n}",
              "type": "dataframe",
              "variable_name": "data"
            },
            "text/html": [
              "\n",
              "  <div id=\"df-e2bb56a7-9c82-4e39-8489-695014985e2a\" class=\"colab-df-container\">\n",
              "    <div>\n",
              "<style scoped>\n",
              "    .dataframe tbody tr th:only-of-type {\n",
              "        vertical-align: middle;\n",
              "    }\n",
              "\n",
              "    .dataframe tbody tr th {\n",
              "        vertical-align: top;\n",
              "    }\n",
              "\n",
              "    .dataframe thead th {\n",
              "        text-align: right;\n",
              "    }\n",
              "</style>\n",
              "<table border=\"1\" class=\"dataframe\">\n",
              "  <thead>\n",
              "    <tr style=\"text-align: right;\">\n",
              "      <th></th>\n",
              "      <th>mean_radius</th>\n",
              "      <th>mean_texture</th>\n",
              "      <th>mean_smoothness</th>\n",
              "      <th>diagnosis</th>\n",
              "    </tr>\n",
              "  </thead>\n",
              "  <tbody>\n",
              "    <tr>\n",
              "      <th>0</th>\n",
              "      <td>17.99</td>\n",
              "      <td>10.38</td>\n",
              "      <td>0.11840</td>\n",
              "      <td>0</td>\n",
              "    </tr>\n",
              "    <tr>\n",
              "      <th>1</th>\n",
              "      <td>20.57</td>\n",
              "      <td>17.77</td>\n",
              "      <td>0.08474</td>\n",
              "      <td>0</td>\n",
              "    </tr>\n",
              "    <tr>\n",
              "      <th>2</th>\n",
              "      <td>19.69</td>\n",
              "      <td>21.25</td>\n",
              "      <td>0.10960</td>\n",
              "      <td>0</td>\n",
              "    </tr>\n",
              "    <tr>\n",
              "      <th>3</th>\n",
              "      <td>11.42</td>\n",
              "      <td>20.38</td>\n",
              "      <td>0.14250</td>\n",
              "      <td>0</td>\n",
              "    </tr>\n",
              "    <tr>\n",
              "      <th>4</th>\n",
              "      <td>20.29</td>\n",
              "      <td>14.34</td>\n",
              "      <td>0.10030</td>\n",
              "      <td>0</td>\n",
              "    </tr>\n",
              "    <tr>\n",
              "      <th>5</th>\n",
              "      <td>12.45</td>\n",
              "      <td>15.70</td>\n",
              "      <td>0.12780</td>\n",
              "      <td>0</td>\n",
              "    </tr>\n",
              "    <tr>\n",
              "      <th>6</th>\n",
              "      <td>18.25</td>\n",
              "      <td>19.98</td>\n",
              "      <td>0.09463</td>\n",
              "      <td>0</td>\n",
              "    </tr>\n",
              "    <tr>\n",
              "      <th>7</th>\n",
              "      <td>13.71</td>\n",
              "      <td>20.83</td>\n",
              "      <td>0.11890</td>\n",
              "      <td>0</td>\n",
              "    </tr>\n",
              "    <tr>\n",
              "      <th>8</th>\n",
              "      <td>13.00</td>\n",
              "      <td>21.82</td>\n",
              "      <td>0.12730</td>\n",
              "      <td>0</td>\n",
              "    </tr>\n",
              "    <tr>\n",
              "      <th>9</th>\n",
              "      <td>12.46</td>\n",
              "      <td>24.04</td>\n",
              "      <td>0.11860</td>\n",
              "      <td>0</td>\n",
              "    </tr>\n",
              "  </tbody>\n",
              "</table>\n",
              "</div>\n",
              "    <div class=\"colab-df-buttons\">\n",
              "\n",
              "  <div class=\"colab-df-container\">\n",
              "    <button class=\"colab-df-convert\" onclick=\"convertToInteractive('df-e2bb56a7-9c82-4e39-8489-695014985e2a')\"\n",
              "            title=\"Convert this dataframe to an interactive table.\"\n",
              "            style=\"display:none;\">\n",
              "\n",
              "  <svg xmlns=\"http://www.w3.org/2000/svg\" height=\"24px\" viewBox=\"0 -960 960 960\">\n",
              "    <path d=\"M120-120v-720h720v720H120Zm60-500h600v-160H180v160Zm220 220h160v-160H400v160Zm0 220h160v-160H400v160ZM180-400h160v-160H180v160Zm440 0h160v-160H620v160ZM180-180h160v-160H180v160Zm440 0h160v-160H620v160Z\"/>\n",
              "  </svg>\n",
              "    </button>\n",
              "\n",
              "  <style>\n",
              "    .colab-df-container {\n",
              "      display:flex;\n",
              "      gap: 12px;\n",
              "    }\n",
              "\n",
              "    .colab-df-convert {\n",
              "      background-color: #E8F0FE;\n",
              "      border: none;\n",
              "      border-radius: 50%;\n",
              "      cursor: pointer;\n",
              "      display: none;\n",
              "      fill: #1967D2;\n",
              "      height: 32px;\n",
              "      padding: 0 0 0 0;\n",
              "      width: 32px;\n",
              "    }\n",
              "\n",
              "    .colab-df-convert:hover {\n",
              "      background-color: #E2EBFA;\n",
              "      box-shadow: 0px 1px 2px rgba(60, 64, 67, 0.3), 0px 1px 3px 1px rgba(60, 64, 67, 0.15);\n",
              "      fill: #174EA6;\n",
              "    }\n",
              "\n",
              "    .colab-df-buttons div {\n",
              "      margin-bottom: 4px;\n",
              "    }\n",
              "\n",
              "    [theme=dark] .colab-df-convert {\n",
              "      background-color: #3B4455;\n",
              "      fill: #D2E3FC;\n",
              "    }\n",
              "\n",
              "    [theme=dark] .colab-df-convert:hover {\n",
              "      background-color: #434B5C;\n",
              "      box-shadow: 0px 1px 3px 1px rgba(0, 0, 0, 0.15);\n",
              "      filter: drop-shadow(0px 1px 2px rgba(0, 0, 0, 0.3));\n",
              "      fill: #FFFFFF;\n",
              "    }\n",
              "  </style>\n",
              "\n",
              "    <script>\n",
              "      const buttonEl =\n",
              "        document.querySelector('#df-e2bb56a7-9c82-4e39-8489-695014985e2a button.colab-df-convert');\n",
              "      buttonEl.style.display =\n",
              "        google.colab.kernel.accessAllowed ? 'block' : 'none';\n",
              "\n",
              "      async function convertToInteractive(key) {\n",
              "        const element = document.querySelector('#df-e2bb56a7-9c82-4e39-8489-695014985e2a');\n",
              "        const dataTable =\n",
              "          await google.colab.kernel.invokeFunction('convertToInteractive',\n",
              "                                                    [key], {});\n",
              "        if (!dataTable) return;\n",
              "\n",
              "        const docLinkHtml = 'Like what you see? Visit the ' +\n",
              "          '<a target=\"_blank\" href=https://colab.research.google.com/notebooks/data_table.ipynb>data table notebook</a>'\n",
              "          + ' to learn more about interactive tables.';\n",
              "        element.innerHTML = '';\n",
              "        dataTable['output_type'] = 'display_data';\n",
              "        await google.colab.output.renderOutput(dataTable, element);\n",
              "        const docLink = document.createElement('div');\n",
              "        docLink.innerHTML = docLinkHtml;\n",
              "        element.appendChild(docLink);\n",
              "      }\n",
              "    </script>\n",
              "  </div>\n",
              "\n",
              "\n",
              "<div id=\"df-cf33f0f3-ea2e-45f1-a341-5a8e45b3354e\">\n",
              "  <button class=\"colab-df-quickchart\" onclick=\"quickchart('df-cf33f0f3-ea2e-45f1-a341-5a8e45b3354e')\"\n",
              "            title=\"Suggest charts\"\n",
              "            style=\"display:none;\">\n",
              "\n",
              "<svg xmlns=\"http://www.w3.org/2000/svg\" height=\"24px\"viewBox=\"0 0 24 24\"\n",
              "     width=\"24px\">\n",
              "    <g>\n",
              "        <path d=\"M19 3H5c-1.1 0-2 .9-2 2v14c0 1.1.9 2 2 2h14c1.1 0 2-.9 2-2V5c0-1.1-.9-2-2-2zM9 17H7v-7h2v7zm4 0h-2V7h2v10zm4 0h-2v-4h2v4z\"/>\n",
              "    </g>\n",
              "</svg>\n",
              "  </button>\n",
              "\n",
              "<style>\n",
              "  .colab-df-quickchart {\n",
              "      --bg-color: #E8F0FE;\n",
              "      --fill-color: #1967D2;\n",
              "      --hover-bg-color: #E2EBFA;\n",
              "      --hover-fill-color: #174EA6;\n",
              "      --disabled-fill-color: #AAA;\n",
              "      --disabled-bg-color: #DDD;\n",
              "  }\n",
              "\n",
              "  [theme=dark] .colab-df-quickchart {\n",
              "      --bg-color: #3B4455;\n",
              "      --fill-color: #D2E3FC;\n",
              "      --hover-bg-color: #434B5C;\n",
              "      --hover-fill-color: #FFFFFF;\n",
              "      --disabled-bg-color: #3B4455;\n",
              "      --disabled-fill-color: #666;\n",
              "  }\n",
              "\n",
              "  .colab-df-quickchart {\n",
              "    background-color: var(--bg-color);\n",
              "    border: none;\n",
              "    border-radius: 50%;\n",
              "    cursor: pointer;\n",
              "    display: none;\n",
              "    fill: var(--fill-color);\n",
              "    height: 32px;\n",
              "    padding: 0;\n",
              "    width: 32px;\n",
              "  }\n",
              "\n",
              "  .colab-df-quickchart:hover {\n",
              "    background-color: var(--hover-bg-color);\n",
              "    box-shadow: 0 1px 2px rgba(60, 64, 67, 0.3), 0 1px 3px 1px rgba(60, 64, 67, 0.15);\n",
              "    fill: var(--button-hover-fill-color);\n",
              "  }\n",
              "\n",
              "  .colab-df-quickchart-complete:disabled,\n",
              "  .colab-df-quickchart-complete:disabled:hover {\n",
              "    background-color: var(--disabled-bg-color);\n",
              "    fill: var(--disabled-fill-color);\n",
              "    box-shadow: none;\n",
              "  }\n",
              "\n",
              "  .colab-df-spinner {\n",
              "    border: 2px solid var(--fill-color);\n",
              "    border-color: transparent;\n",
              "    border-bottom-color: var(--fill-color);\n",
              "    animation:\n",
              "      spin 1s steps(1) infinite;\n",
              "  }\n",
              "\n",
              "  @keyframes spin {\n",
              "    0% {\n",
              "      border-color: transparent;\n",
              "      border-bottom-color: var(--fill-color);\n",
              "      border-left-color: var(--fill-color);\n",
              "    }\n",
              "    20% {\n",
              "      border-color: transparent;\n",
              "      border-left-color: var(--fill-color);\n",
              "      border-top-color: var(--fill-color);\n",
              "    }\n",
              "    30% {\n",
              "      border-color: transparent;\n",
              "      border-left-color: var(--fill-color);\n",
              "      border-top-color: var(--fill-color);\n",
              "      border-right-color: var(--fill-color);\n",
              "    }\n",
              "    40% {\n",
              "      border-color: transparent;\n",
              "      border-right-color: var(--fill-color);\n",
              "      border-top-color: var(--fill-color);\n",
              "    }\n",
              "    60% {\n",
              "      border-color: transparent;\n",
              "      border-right-color: var(--fill-color);\n",
              "    }\n",
              "    80% {\n",
              "      border-color: transparent;\n",
              "      border-right-color: var(--fill-color);\n",
              "      border-bottom-color: var(--fill-color);\n",
              "    }\n",
              "    90% {\n",
              "      border-color: transparent;\n",
              "      border-bottom-color: var(--fill-color);\n",
              "    }\n",
              "  }\n",
              "</style>\n",
              "\n",
              "  <script>\n",
              "    async function quickchart(key) {\n",
              "      const quickchartButtonEl =\n",
              "        document.querySelector('#' + key + ' button');\n",
              "      quickchartButtonEl.disabled = true;  // To prevent multiple clicks.\n",
              "      quickchartButtonEl.classList.add('colab-df-spinner');\n",
              "      try {\n",
              "        const charts = await google.colab.kernel.invokeFunction(\n",
              "            'suggestCharts', [key], {});\n",
              "      } catch (error) {\n",
              "        console.error('Error during call to suggestCharts:', error);\n",
              "      }\n",
              "      quickchartButtonEl.classList.remove('colab-df-spinner');\n",
              "      quickchartButtonEl.classList.add('colab-df-quickchart-complete');\n",
              "    }\n",
              "    (() => {\n",
              "      let quickchartButtonEl =\n",
              "        document.querySelector('#df-cf33f0f3-ea2e-45f1-a341-5a8e45b3354e button');\n",
              "      quickchartButtonEl.style.display =\n",
              "        google.colab.kernel.accessAllowed ? 'block' : 'none';\n",
              "    })();\n",
              "  </script>\n",
              "</div>\n",
              "    </div>\n",
              "  </div>\n"
            ],
            "text/plain": [
              "   mean_radius  mean_texture  mean_smoothness  diagnosis\n",
              "0        17.99         10.38          0.11840          0\n",
              "1        20.57         17.77          0.08474          0\n",
              "2        19.69         21.25          0.10960          0\n",
              "3        11.42         20.38          0.14250          0\n",
              "4        20.29         14.34          0.10030          0\n",
              "5        12.45         15.70          0.12780          0\n",
              "6        18.25         19.98          0.09463          0\n",
              "7        13.71         20.83          0.11890          0\n",
              "8        13.00         21.82          0.12730          0\n",
              "9        12.46         24.04          0.11860          0"
            ]
          },
          "execution_count": 6,
          "metadata": {},
          "output_type": "execute_result"
        }
      ],
      "source": [
        "#correlation pearson\n",
        "data = data[['mean_radius', 'mean_texture', 'mean_smoothness', 'diagnosis']]\n",
        "data.head(10)\n"
      ]
    },
    {
      "cell_type": "code",
      "execution_count": null,
      "metadata": {
        "colab": {
          "base_uri": "https://localhost:8080/",
          "height": 542
        },
        "id": "rq_zoDmLdpns",
        "outputId": "1c9f4641-9d6d-4b83-be84-bf0b8cf700ee"
      },
      "outputs": [
        {
          "data": {
            "image/png": "[encoded data removed]",
            "text/plain": [
              "<Figure size 1800x600 with 3 Axes>"
            ]
          },
          "metadata": {},
          "output_type": "display_data"
        }
      ],
      "source": [
        "fig, axes = plt.subplots(1, 3, figsize=(18, 6), sharey=True)\n",
        "sn.histplot(data, ax=axes[0], x=\"mean_radius\", kde=True, color='r')\n",
        "sn.histplot(data, ax=axes[1], x=\"mean_smoothness\", kde=True, color='b')\n",
        "sn.histplot(data, ax=axes[2], x=\"mean_texture\", kde=True)\n",
        "plt.show()"
      ]
    },
    {
      "cell_type": "code",
      "execution_count": null,
      "metadata": {
        "id": "n75mArLGQwpT"
      },
      "outputs": [],
      "source": [
        "def calculate_prior(df, Y):\n",
        "    # Get the unique classes in the specified column Y\n",
        "    classes = sorted(list(df[Y].unique()))\n",
        "\n",
        "    # Initialize an empty list to store the prior probabilities\n",
        "    prior = []\n",
        "\n",
        "    # Iterate over each class\n",
        "    for i in classes:\n",
        "        # Calculate the prior probability for the class and append it to the list\n",
        "        prior.append(len(df[df[Y] == i]) / len(df))\n",
        "\n",
        "    return prior\n"
      ]
    },
    {
      "cell_type": "code",
      "execution_count": null,
      "metadata": {
        "id": "xZksWYdwRc-P"
      },
      "outputs": [],
      "source": [
        "import numpy as np\n",
        "\n",
        "def calculate_likelihood_gaussian(df, feat_name, feat_val, Y, label):\n",
        "    feat = list(df.columns)\n",
        "\n",
        "    # Filter the dataframe to include only rows where the class label Y matches the specified label\n",
        "    df = df[df[Y] == label]\n",
        "\n",
        "    # Calculate the mean and standard deviation of the feature values for the specified class\n",
        "    mean, std = df[feat_name].mean(), df[feat_name].std()\n",
        "\n",
        "    # Calculate the probability density function (PDF) of the feature value given the class using Gaussian distribution\n",
        "    P_x_given_y = (1 / (np.sqrt(2 * np.pi) * std)) * np.exp(-((feat_val - mean) ** 2 / (2 * std ** 2)))\n",
        "\n",
        "    return P_x_given_y\n"
      ]
    },
    {
      "cell_type": "code",
      "execution_count": null,
      "metadata": {
        "id": "pzkga7zBRhvF"
      },
      "outputs": [],
      "source": [
        "import numpy as np\n",
        "\n",
        "def naive_bayes_gaussian(df, X, Y):\n",
        "    # Get feature names\n",
        "    features = list(df.columns)[:-1]\n",
        "\n",
        "    # Calculate prior probabilities\n",
        "    prior = calculate_prior(df, Y)\n",
        "\n",
        "    # Initialize list to store predicted class labels\n",
        "    Y_pred = []\n",
        "\n",
        "    # Loop over every data sample\n",
        "    for x in X:\n",
        "        # Initialize likelihood list\n",
        "        labels = sorted(list(df[Y].unique()))\n",
        "        likelihood = [1] * len(labels)\n",
        "\n",
        "        # Calculate likelihood for each class\n",
        "        for j in range(len(labels)):\n",
        "            for i in range(len(features)):\n",
        "                likelihood[j] *= calculate_likelihood_gaussian(df, features[i], x[i], Y, labels[j])\n",
        "\n",
        "        # Calculate posterior probability (numerator only)\n",
        "        post_prob = [1] * len(labels)\n",
        "        for j in range(len(labels)):\n",
        "            post_prob[j] = likelihood[j] * prior[j]\n",
        "\n",
        "        # Append the predicted class label based on maximum posterior probability\n",
        "        Y_pred.append(np.argmax(post_prob))\n",
        "\n",
        "    return np.array(Y_pred)\n"
      ]
    },
    {
      "cell_type": "code",
      "execution_count": null,
      "metadata": {
        "colab": {
          "base_uri": "https://localhost:8080/"
        },
        "id": "lwJVtHoFDDca",
        "outputId": "a298b925-b82d-4a06-d303-4eacf2e07532"
      },
      "outputs": [
        {
          "name": "stdout",
          "output_type": "stream",
          "text": [
            "[[36  4]\n",
            " [ 0 74]]\n",
            "0.9736842105263158\n"
          ]
        }
      ],
      "source": [
        "from sklearn.model_selection import train_test_split\n",
        "from sklearn.metrics import confusion_matrix, f1_score\n",
        "\n",
        "# Splitting the data into training and testing sets\n",
        "train, test = train_test_split(data, test_size=.2, random_state=41)\n",
        "\n",
        "# Extracting features and target labels for the test set\n",
        "X_test = test.iloc[:, :-1].values\n",
        "Y_test = test.iloc[:, -1].values\n",
        "\n",
        "# Predicting with the trained Gaussian Naive Bayes model\n",
        "Y_pred = naive_bayes_gaussian(train, X=X_test, Y=\"diagnosis\")\n",
        "\n",
        "# Calculating confusion matrix and F1 score\n",
        "print(confusion_matrix(Y_test, Y_pred))\n",
        "print(f1_score(Y_test, Y_pred))"
      ]
    },
    {
      "cell_type": "markdown",
      "metadata": {
        "id": "_hQoeRHKkCLy"
      },
      "source": [
        "Linear regression using food franchise dataset"
      ]
    },
    {
      "cell_type": "code",
      "execution_count": null,
      "metadata": {
        "colab": {
          "base_uri": "https://localhost:8080/",
          "height": 90
        },
        "id": "fz50ktBgkTBf",
        "outputId": "ea568538-a71d-4c9c-963d-814b5b88c587"
      },
      "outputs": [
        {
          "data": {
            "text/html": [
              "\n",
              "     <input type=\"file\" id=\"files-818ad7e0-b6ee-4813-ab75-510346e06d3b\" name=\"files[]\" multiple disabled\n",
              "        style=\"border:none\" />\n",
              "     <output id=\"result-818ad7e0-b6ee-4813-ab75-510346e06d3b\">\n",
              "      Upload widget is only available when the cell has been executed in the\n",
              "      current browser session. Please rerun this cell to enable.\n",
              "      </output>\n",
              "      <script>// Copyright 2017 Google LLC\n",
              "//\n",
              "// Licensed under the Apache License, Version 2.0 (the \"License\");\n",
              "// you may not use this file except in compliance with the License.\n",
              "// You may obtain a copy of the License at\n",
              "//\n",
              "//      http://www.apache.org/licenses/LICENSE-2.0\n",
              "//\n",
              "// Unless required by applicable law or agreed to in writing, software\n",
              "// distributed under the License is distributed on an \"AS IS\" BASIS,\n",
              "// WITHOUT WARRANTIES OR CONDITIONS OF ANY KIND, either express or implied.\n",
              "// See the License for the specific language governing permissions and\n",
              "// limitations under the License.\n",
              "\n",
              "/**\n",
              " * @fileoverview Helpers for google.colab Python module.\n",
              " */\n",
              "(function(scope) {\n",
              "function span(text, styleAttributes = {}) {\n",
              "  const element = document.createElement('span');\n",
              "  element.textContent = text;\n",
              "  for (const key of Object.keys(styleAttributes)) {\n",
              "    element.style[key] = styleAttributes[key];\n",
              "  }\n",
              "  return element;\n",
              "}\n",
              "\n",
              "// Max number of bytes which will be uploaded at a time.\n",
              "const MAX_PAYLOAD_SIZE = 100 * 1024;\n",
              "\n",
              "function _uploadFiles(inputId, outputId) {\n",
              "  const steps = uploadFilesStep(inputId, outputId);\n",
              "  const outputElement = document.getElementById(outputId);\n",
              "  // Cache steps on the outputElement to make it available for the next call\n",
              "  // to uploadFilesContinue from Python.\n",
              "  outputElement.steps = steps;\n",
              "\n",
              "  return _uploadFilesContinue(outputId);\n",
              "}\n",
              "\n",
              "// This is roughly an async generator (not supported in the browser yet),\n",
              "// where there are multiple asynchronous steps and the Python side is going\n",
              "// to poll for completion of each step.\n",
              "// This uses a Promise to block the python side on completion of each step,\n",
              "// then passes the result of the previous step as the input to the next step.\n",
              "function _uploadFilesContinue(outputId) {\n",
              "  const outputElement = document.getElementById(outputId);\n",
              "  const steps = outputElement.steps;\n",
              "\n",
              "  const next = steps.next(outputElement.lastPromiseValue);\n",
              "  return Promise.resolve(next.value.promise).then((value) => {\n",
              "    // Cache the last promise value to make it available to the next\n",
              "    // step of the generator.\n",
              "    outputElement.lastPromiseValue = value;\n",
              "    return next.value.response;\n",
              "  });\n",
              "}\n",
              "\n",
              "/**\n",
              " * Generator function which is called between each async step of the upload\n",
              " * process.\n",
              " * @param {string} inputId Element ID of the input file picker element.\n",
              " * @param {string} outputId Element ID of the output display.\n",
              " * @return {!Iterable<!Object>} Iterable of next steps.\n",
              " */\n",
              "function* uploadFilesStep(inputId, outputId) {\n",
              "  const inputElement = document.getElementById(inputId);\n",
              "  inputElement.disabled = false;\n",
              "\n",
              "  const outputElement = document.getElementById(outputId);\n",
              "  outputElement.innerHTML = '';\n",
              "\n",
              "  const pickedPromise = new Promise((resolve) => {\n",
              "    inputElement.addEventListener('change', (e) => {\n",
              "      resolve(e.target.files);\n",
              "    });\n",
              "  });\n",
              "\n",
              "  const cancel = document.createElement('button');\n",
              "  inputElement.parentElement.appendChild(cancel);\n",
              "  cancel.textContent = 'Cancel upload';\n",
              "  const cancelPromise = new Promise((resolve) => {\n",
              "    cancel.onclick = () => {\n",
              "      resolve(null);\n",
              "    };\n",
              "  });\n",
              "\n",
              "  // Wait for the user to pick the files.\n",
              "  const files = yield {\n",
              "    promise: Promise.race([pickedPromise, cancelPromise]),\n",
              "    response: {\n",
              "      action: 'starting',\n",
              "    }\n",
              "  };\n",
              "\n",
              "  cancel.remove();\n",
              "\n",
              "  // Disable the input element since further picks are not allowed.\n",
              "  inputElement.disabled = true;\n",
              "\n",
              "  if (!files) {\n",
              "    return {\n",
              "      response: {\n",
              "        action: 'complete',\n",
              "      }\n",
              "    };\n",
              "  }\n",
              "\n",
              "  for (const file of files) {\n",
              "    const li = document.createElement('li');\n",
              "    li.append(span(file.name, {fontWeight: 'bold'}));\n",
              "    li.append(span(\n",
              "        `(${file.type || 'n/a'}) - ${file.size} bytes, ` +\n",
              "        `last modified: ${\n",
              "            file.lastModifiedDate ? file.lastModifiedDate.toLocaleDateString() :\n",
              "                                    'n/a'} - `));\n",
              "    const percent = span('0% done');\n",
              "    li.appendChild(percent);\n",
              "\n",
              "    outputElement.appendChild(li);\n",
              "\n",
              "    const fileDataPromise = new Promise((resolve) => {\n",
              "      const reader = new FileReader();\n",
              "      reader.onload = (e) => {\n",
              "        resolve(e.target.result);\n",
              "      };\n",
              "      reader.readAsArrayBuffer(file);\n",
              "    });\n",
              "    // Wait for the data to be ready.\n",
              "    let fileData = yield {\n",
              "      promise: fileDataPromise,\n",
              "      response: {\n",
              "        action: 'continue',\n",
              "      }\n",
              "    };\n",
              "\n",
              "    // Use a chunked sending to avoid message size limits. See b/62115660.\n",
              "    let position = 0;\n",
              "    do {\n",
              "      const length = Math.min(fileData.byteLength - position, MAX_PAYLOAD_SIZE);\n",
              "      const chunk = new Uint8Array(fileData, position, length);\n",
              "      position += length;\n",
              "\n",
              "      const base64 = btoa(String.fromCharCode.apply(null, chunk));\n",
              "      yield {\n",
              "        response: {\n",
              "          action: 'append',\n",
              "          file: file.name,\n",
              "          data: base64,\n",
              "        },\n",
              "      };\n",
              "\n",
              "      let percentDone = fileData.byteLength === 0 ?\n",
              "          100 :\n",
              "          Math.round((position / fileData.byteLength) * 100);\n",
              "      percent.textContent = `${percentDone}% done`;\n",
              "\n",
              "    } while (position < fileData.byteLength);\n",
              "  }\n",
              "\n",
              "  // All done.\n",
              "  yield {\n",
              "    response: {\n",
              "      action: 'complete',\n",
              "    }\n",
              "  };\n",
              "}\n",
              "\n",
              "scope.google = scope.google || {};\n",
              "scope.google.colab = scope.google.colab || {};\n",
              "scope.google.colab._files = {\n",
              "  _uploadFiles,\n",
              "  _uploadFilesContinue,\n",
              "};\n",
              "})(self);\n",
              "</script> "
            ],
            "text/plain": [
              "<IPython.core.display.HTML object>"
            ]
          },
          "metadata": {},
          "output_type": "display_data"
        },
        {
          "name": "stdout",
          "output_type": "stream",
          "text": [
            "Saving Food Franchise dataset.xlsx to Food Franchise dataset.xlsx\n"
          ]
        }
      ],
      "source": [
        "from google.colab import files\n",
        "\n",
        "# Prompt the user to upload a file\n",
        "uploaded = files.upload()"
      ]
    },
    {
      "cell_type": "code",
      "execution_count": null,
      "metadata": {
        "colab": {
          "base_uri": "https://localhost:8080/",
          "height": 223
        },
        "id": "_Vb93c4ek2yL",
        "outputId": "4ea96ad3-bbe9-4ddd-ed02-d5ee7e478058"
      },
      "outputs": [
        {
          "data": {
            "application/vnd.google.colaboratory.intrinsic+json": {
              "summary": "{\n  \"name\": \"df\",\n  \"rows\": 70,\n  \"fields\": [\n    {\n      \"column\": \"City\",\n      \"properties\": {\n        \"dtype\": \"string\",\n        \"num_unique_values\": 70,\n        \"samples\": [\n          \"City23\",\n          \"City1\",\n          \"City50\"\n        ],\n        \"semantic_type\": \"\",\n        \"description\": \"\"\n      }\n    },\n    {\n      \"column\": \"State\",\n      \"properties\": {\n        \"dtype\": \"category\",\n        \"num_unique_values\": 23,\n        \"samples\": [\n          \"MD\",\n          \"IN\",\n          \"TX\"\n        ],\n        \"semantic_type\": \"\",\n        \"description\": \"\"\n      }\n    },\n    {\n      \"column\": \"Population\",\n      \"properties\": {\n        \"dtype\": \"number\",\n        \"std\": 1355620,\n        \"min\": 498067,\n        \"max\": 4914006,\n        \"num_unique_values\": 44,\n        \"samples\": [\n          1254687,\n          1210858,\n          2238015\n        ],\n        \"semantic_type\": \"\",\n        \"description\": \"\"\n      }\n    },\n    {\n      \"column\": \"Avg. Monthly Food Truck Profit\",\n      \"properties\": {\n        \"dtype\": \"number\",\n        \"std\": 271508944238.61337,\n        \"min\": 15349.0,\n        \"max\": 2000000000000.0,\n        \"num_unique_values\": 41,\n        \"samples\": [\n          34583.0,\n          27500.0,\n          28000.0\n        ],\n        \"semantic_type\": \"\",\n        \"description\": \"\"\n      }\n    },\n    {\n      \"column\": \"Median Income\",\n      \"properties\": {\n        \"dtype\": \"number\",\n        \"std\": 7435.249845654137,\n        \"min\": 55142.0,\n        \"max\": 102414.0,\n        \"num_unique_values\": 42,\n        \"samples\": [\n          69166.0,\n          73928.0,\n          74201.0\n        ],\n        \"semantic_type\": \"\",\n        \"description\": \"\"\n      }\n    },\n    {\n      \"column\": \"Population Density (per sq mi)\",\n      \"properties\": {\n        \"dtype\": \"number\",\n        \"std\": 1661,\n        \"min\": 1113,\n        \"max\": 13688,\n        \"num_unique_values\": 44,\n        \"samples\": [\n          1295,\n          1816,\n          1379\n        ],\n        \"semantic_type\": \"\",\n        \"description\": \"\"\n      }\n    }\n  ]\n}",
              "type": "dataframe",
              "variable_name": "df"
            },
            "text/html": [
              "\n",
              "  <div id=\"df-9c69b73e-c752-40f7-9da7-0cf9bea5eaf5\" class=\"colab-df-container\">\n",
              "    <div>\n",
              "<style scoped>\n",
              "    .dataframe tbody tr th:only-of-type {\n",
              "        vertical-align: middle;\n",
              "    }\n",
              "\n",
              "    .dataframe tbody tr th {\n",
              "        vertical-align: top;\n",
              "    }\n",
              "\n",
              "    .dataframe thead th {\n",
              "        text-align: right;\n",
              "    }\n",
              "</style>\n",
              "<table border=\"1\" class=\"dataframe\">\n",
              "  <thead>\n",
              "    <tr style=\"text-align: right;\">\n",
              "      <th></th>\n",
              "      <th>City</th>\n",
              "      <th>State</th>\n",
              "      <th>Population</th>\n",
              "      <th>Avg. Monthly Food Truck Profit</th>\n",
              "      <th>Median Income</th>\n",
              "      <th>Population Density (per sq mi)</th>\n",
              "    </tr>\n",
              "  </thead>\n",
              "  <tbody>\n",
              "    <tr>\n",
              "      <th>0</th>\n",
              "      <td>City1</td>\n",
              "      <td>TX</td>\n",
              "      <td>2043891</td>\n",
              "      <td>25000.0</td>\n",
              "      <td>72542.0</td>\n",
              "      <td>3157</td>\n",
              "    </tr>\n",
              "    <tr>\n",
              "      <th>1</th>\n",
              "      <td>City2</td>\n",
              "      <td>CO</td>\n",
              "      <td>715522</td>\n",
              "      <td>22000.0</td>\n",
              "      <td>78621.0</td>\n",
              "      <td>4823</td>\n",
              "    </tr>\n",
              "    <tr>\n",
              "      <th>2</th>\n",
              "      <td>City3</td>\n",
              "      <td>WA</td>\n",
              "      <td>739952</td>\n",
              "      <td>28500.0</td>\n",
              "      <td>89728.0</td>\n",
              "      <td>1831</td>\n",
              "    </tr>\n",
              "    <tr>\n",
              "      <th>3</th>\n",
              "      <td>City4</td>\n",
              "      <td>OR</td>\n",
              "      <td>652503</td>\n",
              "      <td>NaN</td>\n",
              "      <td>NaN</td>\n",
              "      <td>4182</td>\n",
              "    </tr>\n",
              "    <tr>\n",
              "      <th>4</th>\n",
              "      <td>City5</td>\n",
              "      <td>IL</td>\n",
              "      <td>2740598</td>\n",
              "      <td>32000.0</td>\n",
              "      <td>70318.0</td>\n",
              "      <td>5242</td>\n",
              "    </tr>\n",
              "  </tbody>\n",
              "</table>\n",
              "</div>\n",
              "    <div class=\"colab-df-buttons\">\n",
              "\n",
              "  <div class=\"colab-df-container\">\n",
              "    <button class=\"colab-df-convert\" onclick=\"convertToInteractive('df-9c69b73e-c752-40f7-9da7-0cf9bea5eaf5')\"\n",
              "            title=\"Convert this dataframe to an interactive table.\"\n",
              "            style=\"display:none;\">\n",
              "\n",
              "  <svg xmlns=\"http://www.w3.org/2000/svg\" height=\"24px\" viewBox=\"0 -960 960 960\">\n",
              "    <path d=\"M120-120v-720h720v720H120Zm60-500h600v-160H180v160Zm220 220h160v-160H400v160Zm0 220h160v-160H400v160ZM180-400h160v-160H180v160Zm440 0h160v-160H620v160ZM180-180h160v-160H180v160Zm440 0h160v-160H620v160Z\"/>\n",
              "  </svg>\n",
              "    </button>\n",
              "\n",
              "  <style>\n",
              "    .colab-df-container {\n",
              "      display:flex;\n",
              "      gap: 12px;\n",
              "    }\n",
              "\n",
              "    .colab-df-convert {\n",
              "      background-color: #E8F0FE;\n",
              "      border: none;\n",
              "      border-radius: 50%;\n",
              "      cursor: pointer;\n",
              "      display: none;\n",
              "      fill: #1967D2;\n",
              "      height: 32px;\n",
              "      padding: 0 0 0 0;\n",
              "      width: 32px;\n",
              "    }\n",
              "\n",
              "    .colab-df-convert:hover {\n",
              "      background-color: #E2EBFA;\n",
              "      box-shadow: 0px 1px 2px rgba(60, 64, 67, 0.3), 0px 1px 3px 1px rgba(60, 64, 67, 0.15);\n",
              "      fill: #174EA6;\n",
              "    }\n",
              "\n",
              "    .colab-df-buttons div {\n",
              "      margin-bottom: 4px;\n",
              "    }\n",
              "\n",
              "    [theme=dark] .colab-df-convert {\n",
              "      background-color: #3B4455;\n",
              "      fill: #D2E3FC;\n",
              "    }\n",
              "\n",
              "    [theme=dark] .colab-df-convert:hover {\n",
              "      background-color: #434B5C;\n",
              "      box-shadow: 0px 1px 3px 1px rgba(0, 0, 0, 0.15);\n",
              "      filter: drop-shadow(0px 1px 2px rgba(0, 0, 0, 0.3));\n",
              "      fill: #FFFFFF;\n",
              "    }\n",
              "  </style>\n",
              "\n",
              "    <script>\n",
              "      const buttonEl =\n",
              "        document.querySelector('#df-9c69b73e-c752-40f7-9da7-0cf9bea5eaf5 button.colab-df-convert');\n",
              "      buttonEl.style.display =\n",
              "        google.colab.kernel.accessAllowed ? 'block' : 'none';\n",
              "\n",
              "      async function convertToInteractive(key) {\n",
              "        const element = document.querySelector('#df-9c69b73e-c752-40f7-9da7-0cf9bea5eaf5');\n",
              "        const dataTable =\n",
              "          await google.colab.kernel.invokeFunction('convertToInteractive',\n",
              "                                                    [key], {});\n",
              "        if (!dataTable) return;\n",
              "\n",
              "        const docLinkHtml = 'Like what you see? Visit the ' +\n",
              "          '<a target=\"_blank\" href=https://colab.research.google.com/notebooks/data_table.ipynb>data table notebook</a>'\n",
              "          + ' to learn more about interactive tables.';\n",
              "        element.innerHTML = '';\n",
              "        dataTable['output_type'] = 'display_data';\n",
              "        await google.colab.output.renderOutput(dataTable, element);\n",
              "        const docLink = document.createElement('div');\n",
              "        docLink.innerHTML = docLinkHtml;\n",
              "        element.appendChild(docLink);\n",
              "      }\n",
              "    </script>\n",
              "  </div>\n",
              "\n",
              "\n",
              "<div id=\"df-c4c1f00f-7036-4e3b-8bdb-efb5fcdfc382\">\n",
              "  <button class=\"colab-df-quickchart\" onclick=\"quickchart('df-c4c1f00f-7036-4e3b-8bdb-efb5fcdfc382')\"\n",
              "            title=\"Suggest charts\"\n",
              "            style=\"display:none;\">\n",
              "\n",
              "<svg xmlns=\"http://www.w3.org/2000/svg\" height=\"24px\"viewBox=\"0 0 24 24\"\n",
              "     width=\"24px\">\n",
              "    <g>\n",
              "        <path d=\"M19 3H5c-1.1 0-2 .9-2 2v14c0 1.1.9 2 2 2h14c1.1 0 2-.9 2-2V5c0-1.1-.9-2-2-2zM9 17H7v-7h2v7zm4 0h-2V7h2v10zm4 0h-2v-4h2v4z\"/>\n",
              "    </g>\n",
              "</svg>\n",
              "  </button>\n",
              "\n",
              "<style>\n",
              "  .colab-df-quickchart {\n",
              "      --bg-color: #E8F0FE;\n",
              "      --fill-color: #1967D2;\n",
              "      --hover-bg-color: #E2EBFA;\n",
              "      --hover-fill-color: #174EA6;\n",
              "      --disabled-fill-color: #AAA;\n",
              "      --disabled-bg-color: #DDD;\n",
              "  }\n",
              "\n",
              "  [theme=dark] .colab-df-quickchart {\n",
              "      --bg-color: #3B4455;\n",
              "      --fill-color: #D2E3FC;\n",
              "      --hover-bg-color: #434B5C;\n",
              "      --hover-fill-color: #FFFFFF;\n",
              "      --disabled-bg-color: #3B4455;\n",
              "      --disabled-fill-color: #666;\n",
              "  }\n",
              "\n",
              "  .colab-df-quickchart {\n",
              "    background-color: var(--bg-color);\n",
              "    border: none;\n",
              "    border-radius: 50%;\n",
              "    cursor: pointer;\n",
              "    display: none;\n",
              "    fill: var(--fill-color);\n",
              "    height: 32px;\n",
              "    padding: 0;\n",
              "    width: 32px;\n",
              "  }\n",
              "\n",
              "  .colab-df-quickchart:hover {\n",
              "    background-color: var(--hover-bg-color);\n",
              "    box-shadow: 0 1px 2px rgba(60, 64, 67, 0.3), 0 1px 3px 1px rgba(60, 64, 67, 0.15);\n",
              "    fill: var(--button-hover-fill-color);\n",
              "  }\n",
              "\n",
              "  .colab-df-quickchart-complete:disabled,\n",
              "  .colab-df-quickchart-complete:disabled:hover {\n",
              "    background-color: var(--disabled-bg-color);\n",
              "    fill: var(--disabled-fill-color);\n",
              "    box-shadow: none;\n",
              "  }\n",
              "\n",
              "  .colab-df-spinner {\n",
              "    border: 2px solid var(--fill-color);\n",
              "    border-color: transparent;\n",
              "    border-bottom-color: var(--fill-color);\n",
              "    animation:\n",
              "      spin 1s steps(1) infinite;\n",
              "  }\n",
              "\n",
              "  @keyframes spin {\n",
              "    0% {\n",
              "      border-color: transparent;\n",
              "      border-bottom-color: var(--fill-color);\n",
              "      border-left-color: var(--fill-color);\n",
              "    }\n",
              "    20% {\n",
              "      border-color: transparent;\n",
              "      border-left-color: var(--fill-color);\n",
              "      border-top-color: var(--fill-color);\n",
              "    }\n",
              "    30% {\n",
              "      border-color: transparent;\n",
              "      border-left-color: var(--fill-color);\n",
              "      border-top-color: var(--fill-color);\n",
              "      border-right-color: var(--fill-color);\n",
              "    }\n",
              "    40% {\n",
              "      border-color: transparent;\n",
              "      border-right-color: var(--fill-color);\n",
              "      border-top-color: var(--fill-color);\n",
              "    }\n",
              "    60% {\n",
              "      border-color: transparent;\n",
              "      border-right-color: var(--fill-color);\n",
              "    }\n",
              "    80% {\n",
              "      border-color: transparent;\n",
              "      border-right-color: var(--fill-color);\n",
              "      border-bottom-color: var(--fill-color);\n",
              "    }\n",
              "    90% {\n",
              "      border-color: transparent;\n",
              "      border-bottom-color: var(--fill-color);\n",
              "    }\n",
              "  }\n",
              "</style>\n",
              "\n",
              "  <script>\n",
              "    async function quickchart(key) {\n",
              "      const quickchartButtonEl =\n",
              "        document.querySelector('#' + key + ' button');\n",
              "      quickchartButtonEl.disabled = true;  // To prevent multiple clicks.\n",
              "      quickchartButtonEl.classList.add('colab-df-spinner');\n",
              "      try {\n",
              "        const charts = await google.colab.kernel.invokeFunction(\n",
              "            'suggestCharts', [key], {});\n",
              "      } catch (error) {\n",
              "        console.error('Error during call to suggestCharts:', error);\n",
              "      }\n",
              "      quickchartButtonEl.classList.remove('colab-df-spinner');\n",
              "      quickchartButtonEl.classList.add('colab-df-quickchart-complete');\n",
              "    }\n",
              "    (() => {\n",
              "      let quickchartButtonEl =\n",
              "        document.querySelector('#df-c4c1f00f-7036-4e3b-8bdb-efb5fcdfc382 button');\n",
              "      quickchartButtonEl.style.display =\n",
              "        google.colab.kernel.accessAllowed ? 'block' : 'none';\n",
              "    })();\n",
              "  </script>\n",
              "</div>\n",
              "    </div>\n",
              "  </div>\n"
            ],
            "text/plain": [
              "    City State  Population  Avg. Monthly Food Truck Profit  Median Income  \\\n",
              "0  City1    TX     2043891                         25000.0        72542.0   \n",
              "1  City2    CO      715522                         22000.0        78621.0   \n",
              "2  City3    WA      739952                         28500.0        89728.0   \n",
              "3  City4    OR      652503                             NaN            NaN   \n",
              "4  City5    IL     2740598                         32000.0        70318.0   \n",
              "\n",
              "   Population Density (per sq mi)  \n",
              "0                            3157  \n",
              "1                            4823  \n",
              "2                            1831  \n",
              "3                            4182  \n",
              "4                            5242  "
            ]
          },
          "execution_count": 4,
          "metadata": {},
          "output_type": "execute_result"
        }
      ],
      "source": [
        "import pandas as pd\n",
        "from sklearn.model_selection import train_test_split\n",
        "from sklearn.linear_model import LinearRegression\n",
        "from sklearn.metrics import mean_squared_error, r2_score\n",
        "import matplotlib.pyplot as plt\n",
        "import seaborn as sns\n",
        "\n",
        "# Load the dataset\n",
        "df = pd.read_excel('Food Franchise dataset.xlsx')\n",
        "df.head(5)"
      ]
    },
    {
      "cell_type": "code",
      "execution_count": null,
      "metadata": {
        "colab": {
          "base_uri": "https://localhost:8080/",
          "height": 1000
        },
        "id": "b8lnkJH5j-t-",
        "outputId": "e0ea9a2b-cf9c-4ea8-c0e5-8f71bcf2eaba"
      },
      "outputs": [
        {
          "data": {
            "image/png": "[encoded data removed]",
            "text/plain": [
              "<Figure size 640x480 with 1 Axes>"
            ]
          },
          "metadata": {},
          "output_type": "display_data"
        },
        {
          "name": "stdout",
          "output_type": "stream",
          "text": [
            "Potential Outliers:\n",
            "      City State  Population  Avg. Monthly Food Truck Profit  Median Income  \\\n",
            "1    City2    CO      715522                    2.200000e+04        78621.0   \n",
            "2    City3    WA      739952                    2.850000e+04        89728.0   \n",
            "4    City5    IL     2740598                    3.200000e+04        70318.0   \n",
            "9   City10    CA     1386670                    2.900000e+04        87128.0   \n",
            "11  City12    CA     1045592                    3.150000e+04       102414.0   \n",
            "20  City21    MA      667137                    3.300000e+04        89371.0   \n",
            "22  City23    MD      602478                    2.200000e+04        71205.0   \n",
            "24  City25    CT     1210858                    4.000000e+09        71262.0   \n",
            "25  City26    MN     2238015                    2.000000e+12        64262.0   \n",
            "42  City43    OK     2689437                    1.000000e+12        76366.0   \n",
            "\n",
            "    Population Density (per sq mi)  \n",
            "1                             4823  \n",
            "2                             1831  \n",
            "4                             5242  \n",
            "9                             3807  \n",
            "11                            5183  \n",
            "20                           13688  \n",
            "22                            4867  \n",
            "24                            1816  \n",
            "25                            1379  \n",
            "42                            2801  \n",
            "Cleaned Dataset:\n",
            "      City State  Population  Avg. Monthly Food Truck Profit  Median Income  \\\n",
            "0    City1    TX     2043891                         25000.0        72542.0   \n",
            "5    City6    GA      498067                         24500.0        65543.0   \n",
            "6    City7    AZ     1660272                         21000.0        62431.0   \n",
            "7    City8    TX     2325500                         30000.0        77834.0   \n",
            "10  City11    TX     1345878                         28000.0        74201.0   \n",
            "12  City13    FL      903889                         20500.0        61987.0   \n",
            "13  City14    IN      881008                         22500.0        67142.0   \n",
            "14  City15    OH      878333                         21000.0        64321.0   \n",
            "15  City16    NC      874579                         24000.0        73928.0   \n",
            "16  City17    TX      918915                         27500.0        70012.0   \n",
            "17  City18    MI      672120                         19000.0        58297.0   \n",
            "18  City19    TX      678815                         20000.0        55142.0   \n",
            "19  City20    TN      633045                         18500.0        59874.0   \n",
            "21  City22    TN      670461                         25500.0        68432.0   \n",
            "23  City24    OK      681061                         19500.0        62984.0   \n",
            "26  City27    TX     3009279                         27303.0        72185.0   \n",
            "27  City28    PA     2478548                         15349.0        69166.0   \n",
            "28  City29    NY     3099886                         34583.0        64353.0   \n",
            "29  City30    CA     2744183                         30852.0        75459.0   \n",
            "30  City31    WI     2800756                         26044.0        71584.0   \n",
            "31  City32    OH     4471291                         26510.0        69318.0   \n",
            "32  City33    OR     4914006                         21689.0        65192.0   \n",
            "33  City34    GA     2615083                         23021.0        72104.0   \n",
            "34  City35    MD     1688863                         34233.0        68690.0   \n",
            "35  City36    WA     1713773                         25852.0        70009.0   \n",
            "36  City37    IN     4221777                         20976.0        65258.0   \n",
            "39  City40    AL     1587624                         24062.0        68168.0   \n",
            "40  City41    WI     3027484                         18572.0        71063.0   \n",
            "41  City42    NC     4697485                         24797.0        76300.0   \n",
            "43  City44    MD      679829                         32171.0        65331.0   \n",
            "44  City45    TX     4221777                         20976.0        65258.0   \n",
            "45  City46    PA     1254687                         30194.0        65686.0   \n",
            "46  City47    AL     3641566                         24231.0        69866.0   \n",
            "47  City48    WI     1587624                         24062.0        68168.0   \n",
            "48  City49    NC     3027484                         18572.0        71063.0   \n",
            "49  City50    OK     4697485                         24797.0        76300.0   \n",
            "50  City51    PA     2689437                         29630.0        76366.0   \n",
            "51  City52    TX      679829                         32171.0        65331.0   \n",
            "52  City53    PA     2800756                         26044.0        71584.0   \n",
            "53  City54    AL     4471291                         26510.0        69318.0   \n",
            "54  City55    WI     4914006                         21689.0        65192.0   \n",
            "55  City56    NC     2615083                         23021.0        72104.0   \n",
            "56  City57    OK     1688863                         34233.0        68690.0   \n",
            "57  City58    MD     1713773                         25852.0        70009.0   \n",
            "58  City59    TX     4221777                         20976.0        65258.0   \n",
            "59  City60    PA     1254687                         30194.0        65686.0   \n",
            "60  City61    AL     3641566                         24231.0        69866.0   \n",
            "61  City62    WI     1587624                         24062.0        68168.0   \n",
            "62  City63    NC     3027484                         18572.0        71063.0   \n",
            "63  City64    OK     4697485                         24797.0        76300.0   \n",
            "64  City65    MD     2689437                         29630.0        76366.0   \n",
            "65  City66    TX     1587624                         24062.0        68168.0   \n",
            "66  City67    PA     3027484                         18572.0        71063.0   \n",
            "67  City68    AL     4697485                         24797.0        76300.0   \n",
            "68  City69    WI     2689437                         29630.0        76366.0   \n",
            "69  City70    NC      679829                         32171.0        65331.0   \n",
            "\n",
            "    Population Density (per sq mi)  \n",
            "0                             3157  \n",
            "5                             3482  \n",
            "6                             1113  \n",
            "7                             4396  \n",
            "10                            4208  \n",
            "12                            1330  \n",
            "13                            2262  \n",
            "14                            2816  \n",
            "15                            2387  \n",
            "16                            3129  \n",
            "17                            2674  \n",
            "18                            2370  \n",
            "19                            1982  \n",
            "21                            1691  \n",
            "23                            1579  \n",
            "26                            2007  \n",
            "27                            1253  \n",
            "28                            1850  \n",
            "29                            1986  \n",
            "30                            2485  \n",
            "31                            1322  \n",
            "32                            1614  \n",
            "33                            1939  \n",
            "34                            2874  \n",
            "35                            2026  \n",
            "36                            2972  \n",
            "39                            2453  \n",
            "40                            2994  \n",
            "41                            1554  \n",
            "43                            2735  \n",
            "44                            2972  \n",
            "45                            1295  \n",
            "46                            1886  \n",
            "47                            2453  \n",
            "48                            2994  \n",
            "49                            1554  \n",
            "50                            2801  \n",
            "51                            2735  \n",
            "52                            2485  \n",
            "53                            1322  \n",
            "54                            1614  \n",
            "55                            1939  \n",
            "56                            2874  \n",
            "57                            2026  \n",
            "58                            2972  \n",
            "59                            1295  \n",
            "60                            1886  \n",
            "61                            2453  \n",
            "62                            2994  \n",
            "63                            1554  \n",
            "64                            2801  \n",
            "65                            2453  \n",
            "66                            2994  \n",
            "67                            1554  \n",
            "68                            2801  \n",
            "69                            2735  \n"
          ]
        },
        {
          "name": "stderr",
          "output_type": "stream",
          "text": [
            "<ipython-input-5-45d6af96cfa3>:17: FutureWarning: The default value of numeric_only in DataFrame.quantile is deprecated. In a future version, it will default to False. Select only valid columns or specify the value of numeric_only to silence this warning.\n",
            "  Q1 = df.quantile(0.25)\n",
            "<ipython-input-5-45d6af96cfa3>:18: FutureWarning: The default value of numeric_only in DataFrame.quantile is deprecated. In a future version, it will default to False. Select only valid columns or specify the value of numeric_only to silence this warning.\n",
            "  Q3 = df.quantile(0.75)\n",
            "<ipython-input-5-45d6af96cfa3>:22: FutureWarning: Automatic reindexing on DataFrame vs Series comparisons is deprecated and will raise ValueError in a future version. Do `left, right = left.align(right, axis=1, copy=False)` before e.g. `left == right`\n",
            "  outliers = ((df < (Q1 - 1.5 * IQR)) | (df > (Q3 + 1.5 * IQR))).any(axis=1)\n"
          ]
        }
      ],
      "source": [
        "# 1. Handling Missing Values\n",
        "df.dropna(inplace=True)  # Remove rows with missing values\n",
        "\n",
        "# 2. Data Types\n",
        "# No conversion needed as per the provided dataset\n",
        "\n",
        "# 3. Scaling or Normalization\n",
        "# Not necessary for linear regression\n",
        "\n",
        "# 4. Handling Outliers\n",
        "# Visualize potential outliers using box plots\n",
        "sns.boxplot(data=df[['Population', 'Avg. Monthly Food Truck Profit']])\n",
        "plt.title('Boxplot of Population and Avg. Monthly Food Truck Profit')\n",
        "plt.show()\n",
        "\n",
        "# Calculate IQR (Interquartile Range) for each column\n",
        "Q1 = df.quantile(0.25)\n",
        "Q3 = df.quantile(0.75)\n",
        "IQR = Q3 - Q1\n",
        "\n",
        "# Identify potential outliers using IQR method\n",
        "outliers = ((df < (Q1 - 1.5 * IQR)) | (df > (Q3 + 1.5 * IQR))).any(axis=1)\n",
        "outliers_df = df[outliers]\n",
        "\n",
        "# Display the potential outliers\n",
        "print('Potential Outliers:')\n",
        "print(outliers_df)\n",
        "\n",
        "# Remove outliers from the dataset\n",
        "df_cleaned = df[~outliers]\n",
        "\n",
        "# Check the cleaned dataset\n",
        "print('Cleaned Dataset:')\n",
        "print(df_cleaned)\n",
        "df=df_cleaned"
      ]
    },
    {
      "cell_type": "code",
      "execution_count": null,
      "metadata": {
        "colab": {
          "base_uri": "https://localhost:8080/"
        },
        "id": "lSzH-fCaljYp",
        "outputId": "d45cd887-fd47-4dad-8d8e-3c3e5c9bde15"
      },
      "outputs": [
        {
          "name": "stdout",
          "output_type": "stream",
          "text": [
            "Column: City\n",
            "Unique Values: ['City1' 'City6' 'City7' 'City8' 'City11' 'City13' 'City14' 'City15'\n",
            " 'City16' 'City17' 'City18' 'City19' 'City20' 'City22' 'City24' 'City27'\n",
            " 'City28' 'City29' 'City30' 'City31' 'City32' 'City33' 'City34' 'City35'\n",
            " 'City36' 'City37' 'City40' 'City41' 'City42' 'City44' 'City45' 'City46'\n",
            " 'City47' 'City48' 'City49' 'City50' 'City51' 'City52' 'City53' 'City54'\n",
            " 'City55' 'City56' 'City57' 'City58' 'City59' 'City60' 'City61' 'City62'\n",
            " 'City63' 'City64' 'City65' 'City66' 'City67' 'City68' 'City69' 'City70']\n",
            "\n",
            "Column: State\n",
            "Unique Values: ['TX' 'GA' 'AZ' 'FL' 'IN' 'OH' 'NC' 'MI' 'TN' 'OK' 'PA' 'NY' 'CA' 'WI'\n",
            " 'OR' 'MD' 'WA' 'AL']\n",
            "\n",
            "Column: Population\n",
            "Unique Values: [2043891  498067 1660272 2325500 1345878  903889  881008  878333  874579\n",
            "  918915  672120  678815  633045  670461  681061 3009279 2478548 3099886\n",
            " 2744183 2800756 4471291 4914006 2615083 1688863 1713773 4221777 1587624\n",
            " 3027484 4697485  679829 1254687 3641566 2689437]\n",
            "\n",
            "Column: Avg. Monthly Food Truck Profit\n",
            "Unique Values: [25000. 24500. 21000. 30000. 28000. 20500. 22500. 24000. 27500. 19000.\n",
            " 20000. 18500. 25500. 19500. 27303. 15349. 34583. 30852. 26044. 26510.\n",
            " 21689. 23021. 34233. 25852. 20976. 24062. 18572. 24797. 32171. 30194.\n",
            " 24231. 29630.]\n",
            "\n",
            "Column: Median Income\n",
            "Unique Values: [72542. 65543. 62431. 77834. 74201. 61987. 67142. 64321. 73928. 70012.\n",
            " 58297. 55142. 59874. 68432. 62984. 72185. 69166. 64353. 75459. 71584.\n",
            " 69318. 65192. 72104. 68690. 70009. 65258. 68168. 71063. 76300. 65331.\n",
            " 65686. 69866. 76366.]\n",
            "\n",
            "Column: Population Density (per sq mi)\n",
            "Unique Values: [3157 3482 1113 4396 4208 1330 2262 2816 2387 3129 2674 2370 1982 1691\n",
            " 1579 2007 1253 1850 1986 2485 1322 1614 1939 2874 2026 2972 2453 2994\n",
            " 1554 2735 1295 1886 2801]\n",
            "\n",
            "Updated Dataset:\n",
            "      City State  Population  Avg. Monthly Food Truck Profit  Median Income  \\\n",
            "0    City1    TX     2043891                         25000.0        72542.0   \n",
            "5    City6    GA      498067                         24500.0        65543.0   \n",
            "6    City7    AZ     1660272                         21000.0        62431.0   \n",
            "7    City8    TX     2325500                         30000.0        77834.0   \n",
            "10  City11    TX     1345878                         28000.0        74201.0   \n",
            "12  City13    FL      903889                         20500.0        61987.0   \n",
            "13  City14    IN      881008                         22500.0        67142.0   \n",
            "14  City15    OH      878333                         21000.0        64321.0   \n",
            "15  City16    NC      874579                         24000.0        73928.0   \n",
            "16  City17    TX      918915                         27500.0        70012.0   \n",
            "17  City18    MI      672120                         19000.0        58297.0   \n",
            "18  City19    TX      678815                         20000.0        55142.0   \n",
            "19  City20    TN      633045                         18500.0        59874.0   \n",
            "21  City22    TN      670461                         25500.0        68432.0   \n",
            "23  City24    OK      681061                         19500.0        62984.0   \n",
            "26  City27    TX     3009279                         27303.0        72185.0   \n",
            "27  City28    PA     2478548                         15349.0        69166.0   \n",
            "28  City29    NY     3099886                         34583.0        64353.0   \n",
            "29  City30    CA     2744183                         30852.0        75459.0   \n",
            "30  City31    WI     2800756                         26044.0        71584.0   \n",
            "31  City32    OH     4471291                         26510.0        69318.0   \n",
            "32  City33    OR     4914006                         21689.0        65192.0   \n",
            "33  City34    GA     2615083                         23021.0        72104.0   \n",
            "34  City35    MD     1688863                         34233.0        68690.0   \n",
            "35  City36    WA     1713773                         25852.0        70009.0   \n",
            "36  City37    IN     4221777                         20976.0        65258.0   \n",
            "39  City40    AL     1587624                         24062.0        68168.0   \n",
            "40  City41    WI     3027484                         18572.0        71063.0   \n",
            "41  City42    NC     4697485                         24797.0        76300.0   \n",
            "43  City44    MD      679829                         32171.0        65331.0   \n",
            "44  City45    TX     4221777                         20976.0        65258.0   \n",
            "45  City46    PA     1254687                         30194.0        65686.0   \n",
            "46  City47    AL     3641566                         24231.0        69866.0   \n",
            "47  City48    WI     1587624                         24062.0        68168.0   \n",
            "48  City49    NC     3027484                         18572.0        71063.0   \n",
            "49  City50    OK     4697485                         24797.0        76300.0   \n",
            "50  City51    PA     2689437                         29630.0        76366.0   \n",
            "51  City52    TX      679829                         32171.0        65331.0   \n",
            "52  City53    PA     2800756                         26044.0        71584.0   \n",
            "53  City54    AL     4471291                         26510.0        69318.0   \n",
            "54  City55    WI     4914006                         21689.0        65192.0   \n",
            "55  City56    NC     2615083                         23021.0        72104.0   \n",
            "56  City57    OK     1688863                         34233.0        68690.0   \n",
            "57  City58    MD     1713773                         25852.0        70009.0   \n",
            "58  City59    TX     4221777                         20976.0        65258.0   \n",
            "59  City60    PA     1254687                         30194.0        65686.0   \n",
            "60  City61    AL     3641566                         24231.0        69866.0   \n",
            "61  City62    WI     1587624                         24062.0        68168.0   \n",
            "62  City63    NC     3027484                         18572.0        71063.0   \n",
            "63  City64    OK     4697485                         24797.0        76300.0   \n",
            "64  City65    MD     2689437                         29630.0        76366.0   \n",
            "65  City66    TX     1587624                         24062.0        68168.0   \n",
            "66  City67    PA     3027484                         18572.0        71063.0   \n",
            "67  City68    AL     4697485                         24797.0        76300.0   \n",
            "68  City69    WI     2689437                         29630.0        76366.0   \n",
            "69  City70    NC      679829                         32171.0        65331.0   \n",
            "\n",
            "    Population Density (per sq mi)  \n",
            "0                             3157  \n",
            "5                             3482  \n",
            "6                             1113  \n",
            "7                             4396  \n",
            "10                            4208  \n",
            "12                            1330  \n",
            "13                            2262  \n",
            "14                            2816  \n",
            "15                            2387  \n",
            "16                            3129  \n",
            "17                            2674  \n",
            "18                            2370  \n",
            "19                            1982  \n",
            "21                            1691  \n",
            "23                            1579  \n",
            "26                            2007  \n",
            "27                            1253  \n",
            "28                            1850  \n",
            "29                            1986  \n",
            "30                            2485  \n",
            "31                            1322  \n",
            "32                            1614  \n",
            "33                            1939  \n",
            "34                            2874  \n",
            "35                            2026  \n",
            "36                            2972  \n",
            "39                            2453  \n",
            "40                            2994  \n",
            "41                            1554  \n",
            "43                            2735  \n",
            "44                            2972  \n",
            "45                            1295  \n",
            "46                            1886  \n",
            "47                            2453  \n",
            "48                            2994  \n",
            "49                            1554  \n",
            "50                            2801  \n",
            "51                            2735  \n",
            "52                            2485  \n",
            "53                            1322  \n",
            "54                            1614  \n",
            "55                            1939  \n",
            "56                            2874  \n",
            "57                            2026  \n",
            "58                            2972  \n",
            "59                            1295  \n",
            "60                            1886  \n",
            "61                            2453  \n",
            "62                            2994  \n",
            "63                            1554  \n",
            "64                            2801  \n",
            "65                            2453  \n",
            "66                            2994  \n",
            "67                            1554  \n",
            "68                            2801  \n",
            "69                            2735  \n"
          ]
        }
      ],
      "source": [
        "# 5. Handling Duplicate Rows\n",
        "df.drop_duplicates(inplace=True)  # Remove duplicate rows\n",
        "\n",
        "# 6. Addressing Inconsistent or Erroneous Values\n",
        "# Check for inconsistent or erroneous values in each column\n",
        "for col in df.columns:\n",
        "    unique_values = df[col].unique()\n",
        "    print(f'Column: {col}')\n",
        "    print(f'Unique Values: {unique_values}\\n')\n",
        "\n",
        "# Example of addressing inconsistencies (replace erroneous values)\n",
        "# Assuming 'Avg. Monthly Food Truck Profit' should not be negative\n",
        "df.loc[df['Avg. Monthly Food Truck Profit'] < 0, 'Avg. Monthly Food Truck Profit'] = 0\n",
        "\n",
        "# Check if inconsistencies are addressed\n",
        "print('Updated Dataset:')\n",
        "print(df)"
      ]
    },
    {
      "cell_type": "code",
      "execution_count": null,
      "metadata": {
        "colab": {
          "base_uri": "https://localhost:8080/"
        },
        "id": "tumfD0BlmA1N",
        "outputId": "fa128cf9-cc7b-4957-e843-c3625b1fa69b"
      },
      "outputs": [
        {
          "name": "stdout",
          "output_type": "stream",
          "text": [
            "         Population  Avg. Monthly Food Truck Profit  Median Income  \\\n",
            "count  5.600000e+01                       56.000000      56.000000   \n",
            "mean   2.378951e+06                    24931.964286   68995.000000   \n",
            "std    1.391367e+06                     4587.968578    4932.445519   \n",
            "min    4.980670e+05                    15349.000000   55142.000000   \n",
            "25%    1.170744e+06                    21000.000000   65331.000000   \n",
            "50%    2.402024e+06                    24648.500000   69242.000000   \n",
            "75%    3.045584e+06                    27625.000000   72104.000000   \n",
            "max    4.914006e+06                    34583.000000   77834.000000   \n",
            "\n",
            "       Population Density (per sq mi)  \n",
            "count                       56.000000  \n",
            "mean                      2322.892857  \n",
            "std                        730.441104  \n",
            "min                       1113.000000  \n",
            "25%                       1671.750000  \n",
            "50%                       2420.000000  \n",
            "75%                       2830.500000  \n",
            "max                       4396.000000  \n"
          ]
        }
      ],
      "source": [
        "# 7. Summary Statistics\n",
        "summary_stats = df.describe()\n",
        "print(summary_stats)"
      ]
    },
    {
      "cell_type": "code",
      "execution_count": null,
      "metadata": {
        "colab": {
          "base_uri": "https://localhost:8080/",
          "height": 472
        },
        "id": "HZBvhSinngVD",
        "outputId": "99a39ac3-8690-4d24-aa5b-d7e8db9e10b0"
      },
      "outputs": [
        {
          "data": {
            "image/png": "[encoded data removed]",
            "text/plain": [
              "<Figure size 640x480 with 1 Axes>"
            ]
          },
          "metadata": {},
          "output_type": "display_data"
        }
      ],
      "source": [
        "# 8. Data Distribution and Skewness\n",
        "# Visualize the distribution of features using histograms or KDE plots\n",
        "sns.histplot(df['Population'], bins=20, kde=True)\n",
        "plt.title('Population Distribution')\n",
        "plt.show()"
      ]
    },
    {
      "cell_type": "code",
      "execution_count": null,
      "metadata": {
        "colab": {
          "base_uri": "https://localhost:8080/"
        },
        "id": "p1vUmBD-nnbT",
        "outputId": "7f286ced-e357-450e-e97b-53a6b49ef843"
      },
      "outputs": [
        {
          "name": "stdout",
          "output_type": "stream",
          "text": [
            "Mean Squared Error: 16464684.108040607\n",
            "R-squared: -0.16178834855219582\n"
          ]
        }
      ],
      "source": [
        "# 9. Linear Regression Model\n",
        "# Split the data into features (X) and target variable (y)\n",
        "X = df[['Population']]\n",
        "y = df['Avg. Monthly Food Truck Profit']\n",
        "\n",
        "# Split the data into training and testing sets (80% train, 20% test)\n",
        "X_train, X_test, y_train, y_test = train_test_split(X, y, test_size=0.2, random_state=42)\n",
        "\n",
        "# Fit a linear regression model\n",
        "model = LinearRegression()\n",
        "model.fit(X_train, y_train)\n",
        "\n",
        "# Make predictions\n",
        "y_pred = model.predict(X_test)\n",
        "\n",
        "# Evaluate the model\n",
        "mse = mean_squared_error(y_test, y_pred)\n",
        "r2 = r2_score(y_test, y_pred)\n",
        "print(f'Mean Squared Error: {mse}')\n",
        "print(f'R-squared: {r2}')"
      ]
    },
    {
      "cell_type": "code",
      "execution_count": null,
      "metadata": {
        "colab": {
          "base_uri": "https://localhost:8080/"
        },
        "id": "QzaF5uHon2Sf",
        "outputId": "db57bd5c-c5c8-4f14-c56c-a2bcaa2ed008"
      },
      "outputs": [
        {
          "name": "stdout",
          "output_type": "stream",
          "text": [
            "Predicted profit for a city with a population of 35,000: $26412.745648112494\n"
          ]
        },
        {
          "name": "stderr",
          "output_type": "stream",
          "text": [
            "/usr/local/lib/python3.10/dist-packages/sklearn/base.py:439: UserWarning: X does not have valid feature names, but LinearRegression was fitted with feature names\n",
            "  warnings.warn(\n"
          ]
        }
      ],
      "source": [
        "# Predict profit for a city with a population of 35,000\n",
        "population_35000 = [[35000]]\n",
        "predicted_profit = model.predict(population_35000)\n",
        "print(f'Predicted profit for a city with a population of 35,000: ${predicted_profit[0]}')"
      ]
    },
    {
      "cell_type": "code",
      "execution_count": null,
      "metadata": {
        "colab": {
          "base_uri": "https://localhost:8080/",
          "height": 472
        },
        "id": "g1bwwpBfn6nV",
        "outputId": "6b06991e-07ba-4f3a-eb08-7125f3ec258c"
      },
      "outputs": [
        {
          "data": {
            "image/png": "[encoded data removed]",
            "text/plain": [
              "<Figure size 640x480 with 1 Axes>"
            ]
          },
          "metadata": {},
          "output_type": "display_data"
        }
      ],
      "source": [
        "# Plotting the regression line\n",
        "plt.scatter(X_test, y_test, color='blue')\n",
        "plt.plot(X_test, y_pred, color='red', linewidth=2)\n",
        "plt.xlabel('Population')\n",
        "plt.ylabel('Avg. Monthly Food Truck Profit')\n",
        "plt.title('Linear Regression: Population vs. Profit')\n",
        "plt.show()"
      ]
    },
    {
      "cell_type": "markdown",
      "metadata": {
        "id": "qRMRbevZ9Ava"
      },
      "source": [
        "Linear Regression house price prediction"
      ]
    },
    {
      "cell_type": "code",
      "execution_count": null,
      "metadata": {
        "colab": {
          "base_uri": "https://localhost:8080/",
          "height": 206
        },
        "id": "vRfYXhzJ4iPd",
        "outputId": "1707a7ff-e9e9-4a63-a581-fd5316748d5e"
      },
      "outputs": [
        {
          "data": {
            "text/html": [
              "<div>\n",
              "<style scoped>\n",
              "    .dataframe tbody tr th:only-of-type {\n",
              "        vertical-align: middle;\n",
              "    }\n",
              "\n",
              "    .dataframe tbody tr th {\n",
              "        vertical-align: top;\n",
              "    }\n",
              "\n",
              "    .dataframe thead th {\n",
              "        text-align: right;\n",
              "    }\n",
              "</style>\n",
              "<table border=\"1\" class=\"dataframe\">\n",
              "  <thead>\n",
              "    <tr style=\"text-align: right;\">\n",
              "      <th></th>\n",
              "      <th>Size (sq ft)</th>\n",
              "      <th>Bedrooms</th>\n",
              "      <th>Price (USD)</th>\n",
              "    </tr>\n",
              "  </thead>\n",
              "  <tbody>\n",
              "    <tr>\n",
              "      <th>0</th>\n",
              "      <td>2200</td>\n",
              "      <td>3.0</td>\n",
              "      <td>425000</td>\n",
              "    </tr>\n",
              "    <tr>\n",
              "      <th>1</th>\n",
              "      <td>1800</td>\n",
              "      <td>4.0</td>\n",
              "      <td>510000</td>\n",
              "    </tr>\n",
              "    <tr>\n",
              "      <th>2</th>\n",
              "      <td>1500</td>\n",
              "      <td>2.0</td>\n",
              "      <td>350000</td>\n",
              "    </tr>\n",
              "    <tr>\n",
              "      <th>3</th>\n",
              "      <td>2400</td>\n",
              "      <td>4.0</td>\n",
              "      <td>575000</td>\n",
              "    </tr>\n",
              "    <tr>\n",
              "      <th>4</th>\n",
              "      <td>1700</td>\n",
              "      <td>3.0</td>\n",
              "      <td>470000</td>\n",
              "    </tr>\n",
              "  </tbody>\n",
              "</table>\n",
              "</div>"
            ],
            "text/plain": [
              "   Size (sq ft)  Bedrooms  Price (USD)\n",
              "0          2200       3.0       425000\n",
              "1          1800       4.0       510000\n",
              "2          1500       2.0       350000\n",
              "3          2400       4.0       575000\n",
              "4          1700       3.0       470000"
            ]
          },
          "execution_count": 2,
          "metadata": {},
          "output_type": "execute_result"
        }
      ],
      "source": [
        "import pandas as pd\n",
        "import numpy as np\n",
        "import seaborn as sns\n",
        "import matplotlib.pyplot as plt\n",
        "from sklearn.model_selection import train_test_split\n",
        "from sklearn.linear_model import LinearRegression\n",
        "from sklearn.metrics import mean_squared_error, r2_score\n",
        "\n",
        "# Load the dataset\n",
        "df = pd.read_excel('House Price Prediction dataset.xlsx')\n",
        "df.head(5)"
      ]
    },
    {
      "cell_type": "code",
      "execution_count": null,
      "metadata": {
        "colab": {
          "base_uri": "https://localhost:8080/"
        },
        "id": "MapB0PM4-gBM",
        "outputId": "28188580-1f30-4720-d038-e2a5a720cb8e"
      },
      "outputs": [
        {
          "name": "stdout",
          "output_type": "stream",
          "text": [
            "Missing Values:\n",
            " Size (sq ft)    0\n",
            "Bedrooms        1\n",
            "Price (USD)     0\n",
            "dtype: int64\n",
            "Data Types:\n",
            " Size (sq ft)      int64\n",
            "Bedrooms        float64\n",
            "Price (USD)       int64\n",
            "dtype: object\n"
          ]
        }
      ],
      "source": [
        "# Check for missing values and handle them\n",
        "missing_values = df.isnull().sum()\n",
        "print(\"Missing Values:\\n\", missing_values)\n",
        "\n",
        "# Data cleaning and preprocessing\n",
        "# For simplicity, assume that missing values can be filled with the mean value\n",
        "df.fillna(df.mean(), inplace=True)\n",
        "\n",
        "# Check data types and convert if necessary\n",
        "print(\"Data Types:\\n\", df.dtypes)"
      ]
    },
    {
      "cell_type": "code",
      "execution_count": null,
      "metadata": {
        "colab": {
          "base_uri": "https://localhost:8080/",
          "height": 1000
        },
        "id": "WIdRrzV--sPD",
        "outputId": "3328b70a-23f4-48c0-e617-987b2723282d"
      },
      "outputs": [
        {
          "data": {
            "text/html": [
              "<div>\n",
              "<style scoped>\n",
              "    .dataframe tbody tr th:only-of-type {\n",
              "        vertical-align: middle;\n",
              "    }\n",
              "\n",
              "    .dataframe tbody tr th {\n",
              "        vertical-align: top;\n",
              "    }\n",
              "\n",
              "    .dataframe thead th {\n",
              "        text-align: right;\n",
              "    }\n",
              "</style>\n",
              "<table border=\"1\" class=\"dataframe\">\n",
              "  <thead>\n",
              "    <tr style=\"text-align: right;\">\n",
              "      <th></th>\n",
              "      <th>Size (sq ft)</th>\n",
              "      <th>Bedrooms</th>\n",
              "      <th>Price (USD)</th>\n",
              "    </tr>\n",
              "  </thead>\n",
              "  <tbody>\n",
              "    <tr>\n",
              "      <th>0</th>\n",
              "      <td>2200</td>\n",
              "      <td>3.0</td>\n",
              "      <td>425000</td>\n",
              "    </tr>\n",
              "    <tr>\n",
              "      <th>1</th>\n",
              "      <td>1800</td>\n",
              "      <td>4.0</td>\n",
              "      <td>510000</td>\n",
              "    </tr>\n",
              "    <tr>\n",
              "      <th>2</th>\n",
              "      <td>1500</td>\n",
              "      <td>2.0</td>\n",
              "      <td>350000</td>\n",
              "    </tr>\n",
              "    <tr>\n",
              "      <th>3</th>\n",
              "      <td>2400</td>\n",
              "      <td>4.0</td>\n",
              "      <td>575000</td>\n",
              "    </tr>\n",
              "    <tr>\n",
              "      <th>4</th>\n",
              "      <td>1700</td>\n",
              "      <td>3.0</td>\n",
              "      <td>470000</td>\n",
              "    </tr>\n",
              "  </tbody>\n",
              "</table>\n",
              "</div>"
            ],
            "text/plain": [
              "   Size (sq ft)  Bedrooms  Price (USD)\n",
              "0          2200       3.0       425000\n",
              "1          1800       4.0       510000\n",
              "2          1500       2.0       350000\n",
              "3          2400       4.0       575000\n",
              "4          1700       3.0       470000"
            ]
          },
          "execution_count": 4,
          "metadata": {},
          "output_type": "execute_result"
        }
      ],
      "source": [
        "df.head(5)"
      ]
    },
    {
      "cell_type": "code",
      "execution_count": null,
      "metadata": {
        "colab": {
          "base_uri": "https://localhost:8080/",
          "height": 197
        },
        "id": "Db2SKQk1-IPL",
        "outputId": "00bcadb3-6c92-4704-8e8a-1e253661a201"
      },
      "outputs": [],
      "source": [
        "# Scaling or normalization if required (example using Min-Max scaling)\n",
        "from sklearn.preprocessing import MinMaxScaler\n",
        "scaler = MinMaxScaler()\n",
        "scaled_features = scaler.fit_transform(df[['Size (sq ft)', 'Bedrooms']])\n",
        "df[['Size (sq ft)', 'Bedrooms']] = scaled_features"
      ]
    },
    {
      "cell_type": "code",
      "execution_count": null,
      "metadata": {
        "colab": {
          "base_uri": "https://localhost:8080/",
          "height": 1000
        },
        "id": "QQralOn6AG6r",
        "outputId": "91940dcd-9fda-422d-afe2-81fc850f573b"
      },
      "outputs": [
        {
          "data": {
            "image/png": "[encoded data removed]",
            "text/plain": [
              "<Figure size 750x750 with 12 Axes>"
            ]
          },
          "metadata": {},
          "output_type": "display_data"
        }
      ],
      "source": [
        "# Exploratory Data Analysis\n",
        "# Display pairplot to visualize relationships between variables\n",
        "sns.pairplot(df.head())\n",
        "plt.show()"
      ]
    },
    {
      "cell_type": "code",
      "execution_count": null,
      "metadata": {
        "id": "KOtzi-Vu-104"
      },
      "outputs": [
        {
          "name": "stdout",
          "output_type": "stream",
          "text": [
            "Summary Statistics:\n",
            "        Size (sq ft)   Bedrooms    Price (USD)\n",
            "count     48.000000  48.000000      48.000000\n",
            "mean       0.034157   0.022856  417187.500000\n",
            "std        0.142525   0.144282  174578.234154\n",
            "min        0.000000   0.000000  120000.000000\n",
            "25%        0.008785   0.000050  287500.000000\n",
            "50%        0.014056   0.000075  422500.000000\n",
            "75%        0.019076   0.000100  550000.000000\n",
            "max        1.000000   1.000000  725000.000000\n"
          ]
        }
      ],
      "source": [
        "# Check for outliers and treat them (example using winsorization)\n",
        "from scipy.stats import mstats\n",
        "df['Price (USD)'] = mstats.winsorize(df['Price (USD)'], limits=[0.05, 0.05])\n",
        "\n",
        "# Check for duplicates and remove if any\n",
        "df.drop_duplicates(inplace=True)\n",
        "\n",
        "# Summary statistics\n",
        "summary_stats = df.describe()\n",
        "print(\"Summary Statistics:\\n\", summary_stats)"
      ]
    },
    {
      "cell_type": "code",
      "execution_count": null,
      "metadata": {
        "id": "vx36ek59_LSe"
      },
      "outputs": [
        {
          "name": "stdout",
          "output_type": "stream",
          "text": [
            "Correlation Matrix:\n",
            "               Size (sq ft)  Bedrooms  Price (USD)\n",
            "Size (sq ft)      1.000000 -0.016949    -0.055665\n",
            "Bedrooms         -0.016949  1.000000     0.136558\n",
            "Price (USD)      -0.055665  0.136558     1.000000\n"
          ]
        }
      ],
      "source": [
        "# Correlation analysis\n",
        "correlation = df.corr()\n",
        "print(\"Correlation Matrix:\\n\", correlation)"
      ]
    },
    {
      "cell_type": "code",
      "execution_count": null,
      "metadata": {
        "id": "ssCuN0oY-5wv"
      },
      "outputs": [],
      "source": [
        "# Linear Regression Model\n",
        "X = df[['Size (sq ft)', 'Bedrooms']]\n",
        "y = df['Price (USD)']\n",
        "\n",
        "X_train, X_test, y_train, y_test = train_test_split(X, y, test_size=0.2, random_state=42)\n",
        "\n",
        "model = LinearRegression()\n",
        "model.fit(X_train, y_train)\n",
        "\n",
        "# Predictions\n",
        "y_pred = model.predict(X_test)"
      ]
    },
    {
      "cell_type": "code",
      "execution_count": null,
      "metadata": {
        "id": "uQhdr6dd_puA"
      },
      "outputs": [
        {
          "name": "stdout",
          "output_type": "stream",
          "text": [
            "Mean Squared Error: 35068764314.95828\n",
            "R-squared: -0.08474633656959019\n"
          ]
        }
      ],
      "source": [
        "# Model evaluation\n",
        "mse = mean_squared_error(y_test, y_pred)\n",
        "r2 = r2_score(y_test, y_pred)\n",
        "\n",
        "print(\"Mean Squared Error:\", mse)\n",
        "print(\"R-squared:\", r2)"
      ]
    },
    {
      "cell_type": "code",
      "execution_count": null,
      "metadata": {
        "id": "RYVYnTSM_poD"
      },
      "outputs": [
        {
          "data": {
            "image/png": "[encoded data removed]",
            "text/plain": [
              "<Figure size 640x480 with 1 Axes>"
            ]
          },
          "metadata": {},
          "output_type": "display_data"
        }
      ],
      "source": [
        "# Visualize actual vs. predicted prices\n",
        "plt.scatter(y_test, y_pred)\n",
        "plt.xlabel(\"Actual Price\")\n",
        "plt.ylabel(\"Predicted Price\")\n",
        "plt.title(\"Actual vs. Predicted House Prices\")\n",
        "plt.show()"
      ]
    },
    {
      "cell_type": "markdown",
      "metadata": {},
      "source": [
        "LOGISTIC REGRESSION"
      ]
    },
    {
      "cell_type": "code",
      "execution_count": 67,
      "metadata": {},
      "outputs": [],
      "source": [
        "import pandas as pd\n",
        "from sklearn.model_selection import train_test_split\n",
        "from sklearn.linear_model import LogisticRegression\n",
        "from sklearn.metrics import accuracy_score, confusion_matrix, classification_report\n",
        "import seaborn as sns\n",
        "import matplotlib.pyplot as plt\n",
        "\n",
        "# Load the dataset\n",
        "data = pd.read_excel('applicant_score.xlsx')"
      ]
    },
    {
      "cell_type": "code",
      "execution_count": 68,
      "metadata": {},
      "outputs": [
        {
          "data": {
            "text/plain": [
              "Index(['Applicant ID', 'GRE Score(800)', 'TOEFL Score(120)',\n",
              "       'Admitted (Yes/No)'],\n",
              "      dtype='object')"
            ]
          },
          "execution_count": 68,
          "metadata": {},
          "output_type": "execute_result"
        }
      ],
      "source": [
        "data.columns"
      ]
    },
    {
      "cell_type": "code",
      "execution_count": 69,
      "metadata": {},
      "outputs": [
        {
          "name": "stdout",
          "output_type": "stream",
          "text": [
            "   Applicant ID  GRE Score(800)  TOEFL Score(120) Admitted (Yes/No)\n",
            "0             1             700               100               Yes\n",
            "1             2             650                95               Yes\n",
            "2             3             580                88                No\n",
            "3             4             720               105               Yes\n",
            "4             5             600               140                No\n"
          ]
        }
      ],
      "source": [
        "# EDA\n",
        "print(data.head())  # Display the first few rows"
      ]
    },
    {
      "cell_type": "code",
      "execution_count": 70,
      "metadata": {},
      "outputs": [
        {
          "name": "stdout",
          "output_type": "stream",
          "text": [
            "<class 'pandas.core.frame.DataFrame'>\n",
            "RangeIndex: 50 entries, 0 to 49\n",
            "Data columns (total 4 columns):\n",
            " #   Column             Non-Null Count  Dtype \n",
            "---  ------             --------------  ----- \n",
            " 0   Applicant ID       50 non-null     int64 \n",
            " 1   GRE Score(800)     50 non-null     int64 \n",
            " 2   TOEFL Score(120)   50 non-null     int64 \n",
            " 3   Admitted (Yes/No)  50 non-null     object\n",
            "dtypes: int64(3), object(1)\n",
            "memory usage: 1.7+ KB\n",
            "None\n"
          ]
        }
      ],
      "source": [
        "print(data.info())  # Check for missing values and data types"
      ]
    },
    {
      "cell_type": "code",
      "execution_count": 71,
      "metadata": {},
      "outputs": [
        {
          "name": "stdout",
          "output_type": "stream",
          "text": [
            "       Applicant ID  GRE Score(800)  TOEFL Score(120)\n",
            "count      50.00000       50.000000         50.000000\n",
            "mean       25.50000      628.400000        113.520000\n",
            "std        14.57738       88.395216         95.236813\n",
            "min         1.00000      470.000000         73.000000\n",
            "25%        13.25000      562.500000         85.250000\n",
            "50%        25.50000      630.000000         95.000000\n",
            "75%        37.75000      700.000000        105.750000\n",
            "max        50.00000      850.000000        700.000000\n"
          ]
        }
      ],
      "source": [
        "print(data.describe())  # Summary statistics"
      ]
    },
    {
      "cell_type": "code",
      "execution_count": 73,
      "metadata": {},
      "outputs": [
        {
          "name": "stdout",
          "output_type": "stream",
          "text": [
            "Missing Values:\n",
            "Applicant ID         0\n",
            "GRE Score(800)       0\n",
            "TOEFL Score(120)     0\n",
            "Admitted (Yes/No)    0\n",
            "dtype: int64\n",
            "Missing Values After Handling:\n",
            "Applicant ID         0\n",
            "GRE Score(800)       0\n",
            "TOEFL Score(120)     0\n",
            "Admitted (Yes/No)    0\n",
            "dtype: int64\n"
          ]
        }
      ],
      "source": [
        "# Check for missing values\n",
        "missing_values = data.isnull().sum()\n",
        "print(\"Missing Values:\")\n",
        "print(missing_values)\n",
        "\n",
        "# Handle missing values\n",
        "# Option 1: Drop rows with missing values\n",
        "data.dropna(inplace=True)\n",
        "\n",
        "# Option 2: Fill missing values with a specific value (e.g., mean, median, mode)\n",
        "# Replace missing values in a specific column (e.g., 'column_name') with the mean of that column\n",
        "# data['column_name'].fillna(data['column_name'].mean(), inplace=True)\n",
        "\n",
        "# Option 3: Use forward fill (ffill) or backward fill (bfill) to fill missing values\n",
        "# data.fillna(method='ffill', inplace=True)  # Forward fill\n",
        "# data.fillna(method='bfill', inplace=True)  # Backward fill\n",
        "\n",
        "# After handling missing values, check again for any remaining missing values\n",
        "missing_values_after = data.isnull().sum()\n",
        "print(\"Missing Values After Handling:\")\n",
        "print(missing_values_after)"
      ]
    },
    {
      "cell_type": "code",
      "execution_count": 75,
      "metadata": {},
      "outputs": [
        {
          "data": {
            "image/png": "[encoded data removed]",
            "text/plain": [
              "<Figure size 1000x600 with 1 Axes>"
            ]
          },
          "metadata": {},
          "output_type": "display_data"
        }
      ],
      "source": [
        "# Check for outliers in exam scores using box plots\n",
        "plt.figure(figsize=(10, 6))\n",
        "sns.boxplot(x='Admitted (Yes/No)', y='GRE Score(800)', data=data)\n",
        "plt.title('Box Plot of GRE Score by Admission')\n",
        "plt.show()"
      ]
    },
    {
      "cell_type": "code",
      "execution_count": 76,
      "metadata": {},
      "outputs": [
        {
          "data": {
            "image/png": "[encoded data removed]",
            "text/plain": [
              "<Figure size 1000x600 with 1 Axes>"
            ]
          },
          "metadata": {},
          "output_type": "display_data"
        }
      ],
      "source": [
        "plt.figure(figsize=(10, 6))\n",
        "sns.boxplot(x='Admitted (Yes/No)', y='TOEFL Score(120)', data=data)\n",
        "plt.title('Box Plot of TOEFL Score by Admission')\n",
        "plt.show()"
      ]
    },
    {
      "cell_type": "code",
      "execution_count": 77,
      "metadata": {},
      "outputs": [
        {
          "name": "stdout",
          "output_type": "stream",
          "text": [
            "Before Winsorization:\n",
            "       GRE Score(800)  TOEFL Score(120)\n",
            "count       50.000000         50.000000\n",
            "mean       628.400000        113.520000\n",
            "std         88.395216         95.236813\n",
            "min        470.000000         73.000000\n",
            "25%        562.500000         85.250000\n",
            "50%        630.000000         95.000000\n",
            "75%        700.000000        105.750000\n",
            "max        850.000000        700.000000\n",
            "\n",
            "After Winsorization:\n",
            "       GRE Score(800)  TOEFL Score(120)\n",
            "count       50.000000         50.000000\n",
            "mean       626.800000         97.420000\n",
            "std         82.941829         15.709207\n",
            "min        490.000000         77.000000\n",
            "25%        562.500000         85.250000\n",
            "50%        630.000000         95.000000\n",
            "75%        700.000000        105.750000\n",
            "max        750.000000        140.000000\n"
          ]
        }
      ],
      "source": [
        "from scipy.stats.mstats import winsorize\n",
        "# Check the distribution of 'GRE Score(800)' and 'TOEFL Score(120)' before winsorization\n",
        "print(\"Before Winsorization:\")\n",
        "print(data[['GRE Score(800)', 'TOEFL Score(120)']].describe())\n",
        "\n",
        "# Apply winsorization to limit extreme values\n",
        "data['GRE Score(800)'] = winsorize(data['GRE Score(800)'], limits=[0.05, 0.05])\n",
        "data['TOEFL Score(120)'] = winsorize(data['TOEFL Score(120)'], limits=[0.05, 0.05])\n",
        "\n",
        "# Check the distribution after winsorization\n",
        "print(\"\\nAfter Winsorization:\")\n",
        "print(data[['GRE Score(800)', 'TOEFL Score(120)']].describe())"
      ]
    },
    {
      "cell_type": "code",
      "execution_count": 79,
      "metadata": {},
      "outputs": [
        {
          "name": "stdout",
          "output_type": "stream",
          "text": [
            "Duplicate Rows:\n",
            "0\n"
          ]
        }
      ],
      "source": [
        "# Check for duplicates\n",
        "duplicate_rows = data.duplicated()\n",
        "print(\"Duplicate Rows:\")\n",
        "print(duplicate_rows.sum())\n",
        "\n",
        "# Remove duplicates if present\n",
        "data.drop_duplicates(inplace=True)"
      ]
    },
    {
      "cell_type": "code",
      "execution_count": 82,
      "metadata": {},
      "outputs": [],
      "source": [
        "# Standardize or normalize exam scores if necessary\n",
        "# For logistic regression, standardization/normalization may not be necessary\n",
        "from sklearn.preprocessing import StandardScaler\n",
        "\n",
        "# Assuming 'GRE Score(800)' and 'TOEFL Score(120)' are the features to be standardized\n",
        "scaler = StandardScaler()\n",
        "data[['GRE Score(800)', 'TOEFL Score(120)']] = scaler.fit_transform(data[['GRE Score(800)', 'TOEFL Score(120)']])"
      ]
    },
    {
      "cell_type": "code",
      "execution_count": 84,
      "metadata": {},
      "outputs": [],
      "source": [
        "from sklearn.preprocessing import MinMaxScaler\n",
        "\n",
        "# Assuming 'GRE Score(800)' and 'TOEFL Score(120)' are the features to be normalized\n",
        "scaler = MinMaxScaler()\n",
        "data[['GRE Score(800)', 'TOEFL Score(120)']] = scaler.fit_transform(data[['GRE Score(800)', 'TOEFL Score(120)']])"
      ]
    },
    {
      "cell_type": "code",
      "execution_count": 86,
      "metadata": {},
      "outputs": [],
      "source": [
        "# Split the data into training and testing sets\n",
        "X = data[['GRE Score(800)', 'TOEFL Score(120)']]\n",
        "y = data['Admitted (Yes/No)']\n",
        "X_train, X_test, y_train, y_test = train_test_split(X, y, test_size=0.2, random_state=42)\n",
        "\n",
        "# Build and train the logistic regression model\n",
        "model = LogisticRegression()\n",
        "model.fit(X_train, y_train)\n",
        "\n",
        "# Make predictions\n",
        "y_pred = model.predict(X_test)\n",
        "\n",
        "# Evaluate the model\n",
        "accuracy = accuracy_score(y_test, y_pred)\n",
        "conf_matrix = confusion_matrix(y_test, y_pred)\n",
        "class_report = classification_report(y_test, y_pred)"
      ]
    },
    {
      "cell_type": "code",
      "execution_count": 87,
      "metadata": {},
      "outputs": [
        {
          "name": "stdout",
          "output_type": "stream",
          "text": [
            "Accuracy: 0.9\n"
          ]
        }
      ],
      "source": [
        "print(\"Accuracy:\", accuracy)"
      ]
    },
    {
      "cell_type": "code",
      "execution_count": 88,
      "metadata": {},
      "outputs": [
        {
          "name": "stdout",
          "output_type": "stream",
          "text": [
            "Confusion Matrix:\n",
            "[[6 0]\n",
            " [1 3]]\n"
          ]
        }
      ],
      "source": [
        "print(\"Confusion Matrix:\")\n",
        "print(conf_matrix)"
      ]
    },
    {
      "cell_type": "code",
      "execution_count": 89,
      "metadata": {},
      "outputs": [
        {
          "name": "stdout",
          "output_type": "stream",
          "text": [
            "Classification Report:\n",
            "              precision    recall  f1-score   support\n",
            "\n",
            "          No       0.86      1.00      0.92         6\n",
            "         Yes       1.00      0.75      0.86         4\n",
            "\n",
            "    accuracy                           0.90        10\n",
            "   macro avg       0.93      0.88      0.89        10\n",
            "weighted avg       0.91      0.90      0.90        10\n",
            "\n"
          ]
        }
      ],
      "source": [
        "print(\"Classification Report:\")\n",
        "print(class_report)"
      ]
    },
    {
      "cell_type": "code",
      "execution_count": 90,
      "metadata": {},
      "outputs": [
        {
          "data": {
            "image/png": "[encoded data removed]",
            "text/plain": [
              "<Figure size 800x600 with 2 Axes>"
            ]
          },
          "metadata": {},
          "output_type": "display_data"
        }
      ],
      "source": [
        "\n",
        "# Visualize the confusion matrix\n",
        "plt.figure(figsize=(8, 6))\n",
        "sns.heatmap(conf_matrix, annot=True, cmap='Blues', fmt='g')\n",
        "plt.xlabel('Predicted')\n",
        "plt.ylabel('Actual')\n",
        "plt.title('Confusion Matrix')\n",
        "plt.show()\n",
        "\n",
        "# Perform cross-validation if needed for model generalization ability\n",
        "\n",
        "# Handle class imbalance if present using techniques like oversampling, undersampling, or using class weights\n",
        "\n",
        "# Metrics used to assess model accuracy: accuracy score, precision, recall, F1-score, ROC-AUC if applicable\n"
      ]
    }
  ],
  "metadata": {
    "colab": {
      "provenance": []
    },
    "kernelspec": {
      "display_name": "Python 3",
      "name": "python3"
    },
    "language_info": {
      "codemirror_mode": {
        "name": "ipython",
        "version": 3
      },
      "file_extension": ".py",
      "mimetype": "text/x-python",
      "name": "python",
      "nbconvert_exporter": "python",
      "pygments_lexer": "ipython3",
      "version": "3.9.13"
    }
  },
  "nbformat": 4,
  "nbformat_minor": 0
}
