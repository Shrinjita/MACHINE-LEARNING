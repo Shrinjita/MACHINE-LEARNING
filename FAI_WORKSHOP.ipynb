{
  "nbformat": 4,
  "nbformat_minor": 0,
  "metadata": {
    "colab": {
      "provenance": []
    },
    "kernelspec": {
      "name": "python3",
      "display_name": "Python 3"
    },
    "language_info": {
      "name": "python"
    }
  },
  "cells": [
    {
      "cell_type": "code",
      "source": [
        "!pip install pyaudio\n",
        "!pip install ttsx3\n",
        "!pip install SpeechRecognition\n",
        "!pip install pyttsx3\n",
        "!sudo apt-get update\n",
        "!sudo apt-get install espeak\n",
        "!sudo apt-get install portaudio19-dev python3-pyaudio"
      ],
      "metadata": {
        "colab": {
          "base_uri": "https://localhost:8080/"
        },
        "id": "7Xe-UVEmNNpd",
        "outputId": "24ba64cb-851e-4828-d19b-7c74d0ea524c"
      },
      "execution_count": null,
      "outputs": [
        {
          "output_type": "stream",
          "name": "stdout",
          "text": [
            "Requirement already satisfied: pyaudio in /usr/lib/python3/dist-packages (0.2.11)\n",
            "\u001b[31mERROR: Could not find a version that satisfies the requirement ttsx3 (from versions: none)\u001b[0m\u001b[31m\n",
            "\u001b[0m\u001b[31mERROR: No matching distribution found for ttsx3\u001b[0m\u001b[31m\n",
            "\u001b[0mRequirement already satisfied: SpeechRecognition in /usr/local/lib/python3.10/dist-packages (3.10.1)\n",
            "Requirement already satisfied: requests>=2.26.0 in /usr/local/lib/python3.10/dist-packages (from SpeechRecognition) (2.31.0)\n",
            "Requirement already satisfied: typing-extensions in /usr/local/lib/python3.10/dist-packages (from SpeechRecognition) (4.9.0)\n",
            "Requirement already satisfied: charset-normalizer<4,>=2 in /usr/local/lib/python3.10/dist-packages (from requests>=2.26.0->SpeechRecognition) (3.3.2)\n",
            "Requirement already satisfied: idna<4,>=2.5 in /usr/local/lib/python3.10/dist-packages (from requests>=2.26.0->SpeechRecognition) (3.6)\n",
            "Requirement already satisfied: urllib3<3,>=1.21.1 in /usr/local/lib/python3.10/dist-packages (from requests>=2.26.0->SpeechRecognition) (2.0.7)\n",
            "Requirement already satisfied: certifi>=2017.4.17 in /usr/local/lib/python3.10/dist-packages (from requests>=2.26.0->SpeechRecognition) (2024.2.2)\n",
            "Requirement already satisfied: pyttsx3 in /usr/local/lib/python3.10/dist-packages (2.90)\n",
            "Hit:1 https://cloud.r-project.org/bin/linux/ubuntu jammy-cran40/ InRelease\n",
            "Hit:2 https://developer.download.nvidia.com/compute/cuda/repos/ubuntu2204/x86_64  InRelease\n",
            "Get:3 http://security.ubuntu.com/ubuntu jammy-security InRelease [110 kB]\n",
            "Hit:4 http://archive.ubuntu.com/ubuntu jammy InRelease\n",
            "Get:5 http://archive.ubuntu.com/ubuntu jammy-updates InRelease [119 kB]\n",
            "Hit:6 https://ppa.launchpadcontent.net/c2d4u.team/c2d4u4.0+/ubuntu jammy InRelease\n",
            "Hit:7 https://ppa.launchpadcontent.net/deadsnakes/ppa/ubuntu jammy InRelease\n",
            "Hit:8 https://ppa.launchpadcontent.net/graphics-drivers/ppa/ubuntu jammy InRelease\n",
            "Hit:9 http://archive.ubuntu.com/ubuntu jammy-backports InRelease\n",
            "Hit:10 https://ppa.launchpadcontent.net/ubuntugis/ppa/ubuntu jammy InRelease\n",
            "Get:11 http://archive.ubuntu.com/ubuntu jammy-updates/universe amd64 Packages [1,343 kB]\n",
            "Get:12 http://archive.ubuntu.com/ubuntu jammy-updates/main amd64 Packages [1,742 kB]\n",
            "Get:13 http://archive.ubuntu.com/ubuntu jammy-updates/multiverse amd64 Packages [50.4 kB]\n",
            "Fetched 3,365 kB in 2s (2,065 kB/s)\n",
            "Reading package lists... Done\n",
            "Reading package lists... Done\n",
            "Building dependency tree... Done\n",
            "Reading state information... Done\n",
            "espeak is already the newest version (1.48.15+dfsg-3).\n",
            "0 upgraded, 0 newly installed, 0 to remove and 43 not upgraded.\n",
            "Reading package lists... Done\n",
            "Building dependency tree... Done\n",
            "Reading state information... Done\n",
            "portaudio19-dev is already the newest version (19.6.0-1.1).\n",
            "python3-pyaudio is already the newest version (0.2.11-1.3ubuntu1).\n",
            "0 upgraded, 0 newly installed, 0 to remove and 43 not upgraded.\n"
          ]
        }
      ]
    },
    {
      "cell_type": "code",
      "source": [
        "import speech_recognition as sr\n",
        "import pyttsx3\n",
        "import datetime\n",
        "\n",
        "\n",
        "def speak(text):\n",
        "    engine = pyttsx3.init()\n",
        "    engine.say(text)\n",
        "    engine.runAndWait()\n",
        "\n",
        "def get_audio():\n",
        "    recognizer = sr.Recognizer()\n",
        "    with sr.Microphone() as source:\n",
        "        print(\"Listening...\")\n",
        "        audio = recognizer.listen(source)\n",
        "        command = \"\"\n",
        "        try:\n",
        "            command = recognizer.recognize_google(audio)\n",
        "            print(\"You said: \"+command)\n",
        "        except sr.UnknownValueError:\n",
        "            print(\"Could not understand audio.\")\n",
        "        except sr.RequestError as e:\n",
        "            print(\"Google Speech Recognition request failed: (0)\".format(e))\n",
        "        return command.lower()\n",
        "\n",
        "def greet():\n",
        "    current_time = datetime.datetime.now()\n",
        "    hour = current_time.hour\n",
        "    minute=current_time.minute\n",
        "    second=current_time.second\n",
        "    if 0 <= hour < 12:\n",
        "        speak(\"Good morning!\")\n",
        "    elif hour < 18:\n",
        "        speak(\"Good afternoon!\")\n",
        "    else:\n",
        "        speak(\"Good evening!\")\n",
        "\n",
        "def ai_assistant():\n",
        "    greet()\n",
        "    speak(\"I am your AI assistent. How can I help you today?\")\n",
        "\n",
        "    while True:\n",
        "        command = get_audio()\n",
        "\n",
        "        if \"stop\" in command:\n",
        "            speak(\"Goodbye!\")\n",
        "            break\n",
        "        elif \"date\" in command:\n",
        "            current_date = datetime.datetime.now().strftime(\"%Y-%m-%d\")\n",
        "            speak(f\"The current date is {current_date}\")\n",
        "        elif \"time\" in command:\n",
        "            current_time = datetime.datetime.now().strftime(\"%H:%M:%S\")\n",
        "            speak(f\"The curren time is {current_time}\")\n",
        "        else:\n",
        "            speak(\"I don't understand that command. Please try again.\")\n",
        "\n",
        "if __name__ == \"_main_\":\n",
        "    ai_assistant()"
      ],
      "metadata": {
        "id": "E3TKIAt1Ncyj"
      },
      "execution_count": null,
      "outputs": []
    },
    {
      "cell_type": "code",
      "source": [
        "import random\n",
        "\n",
        "responses = {\n",
        "    \"hello\": [\"Hi there.\", \"Hello.\", \"Hey.\"],\n",
        "    \"how are you?\": [\"I'm good. Thanks.\", \"Feeling great.\", \"I'm doing well.\"],\n",
        "    \"what's your name?\": [\"I'm just a simple bot. You can call me chatbot.\"],\n",
        "    \"bye\": [\"Goodbye.\", \"See you later.\", \"Bye. Take care.\"]\n",
        "}\n",
        "\n",
        "def getResponseMessage(message):\n",
        "    message = message.lower()\n",
        "    if message in responses:\n",
        "        return random.choice(responses[message])\n",
        "    else:\n",
        "        return \"I am not sure how to respond to that.\"\n",
        "\n",
        "def main():\n",
        "    print(\"Welcome to Chatbot\")\n",
        "    print(\"Type 'bye' to exit.\")\n",
        "\n",
        "    while True:\n",
        "        user_input = input(\"You: \")\n",
        "\n",
        "        if user_input.lower() == \"bye\":\n",
        "            print(\"Chatbot: Goodbye\")\n",
        "            break\n",
        "\n",
        "        response = getResponseMessage(user_input)\n",
        "        print(\"Chatbot:\", response)\n",
        "\n",
        "if __name__ == \"__main__\":\n",
        "    main()\n"
      ],
      "metadata": {
        "colab": {
          "base_uri": "https://localhost:8080/"
        },
        "id": "Pt8H7qTHQ-m1",
        "outputId": "df5eeec3-43ef-4e6e-b154-150ccc9b2c49"
      },
      "execution_count": null,
      "outputs": [
        {
          "output_type": "stream",
          "name": "stdout",
          "text": [
            "Welcome to Chatbot\n",
            "Type 'bye' to exit.\n",
            "You: Hi\n",
            "Chatbot: I am not sure how to respond to that.\n",
            "You: hello\n",
            "Chatbot: Hello.\n",
            "You: how u doin\n",
            "Chatbot: I am not sure how to respond to that.\n",
            "You: bye\n",
            "Chatbot: Goodbye\n"
          ]
        }
      ]
    },
    {
      "cell_type": "code",
      "source": [
        "import pandas as pd\n",
        "from google.colab import drive\n",
        "\n",
        "# Mount Google Drive\n",
        "drive.mount('/content/drive')\n"
      ],
      "metadata": {
        "id": "5RdEVSZIXD8P",
        "colab": {
          "base_uri": "https://localhost:8080/"
        },
        "outputId": "8cdf87c0-1f45-4316-aaf3-5e5d4b39417d"
      },
      "execution_count": null,
      "outputs": [
        {
          "output_type": "stream",
          "name": "stdout",
          "text": [
            "Mounted at /content/drive\n"
          ]
        }
      ]
    },
    {
      "cell_type": "code",
      "source": [
        "\n",
        "# Specify the path to your CSV file in Google Drive\n",
        "file_path = '/content/drive/My Drive/fai workshop/houseprice/train.csv'\n",
        "\n",
        "# Read CSV file into a DataFrame\n",
        "data = pd.read_csv(file_path)\n",
        "\n",
        "# Print the columns\n",
        "print(\"Columns in the CSV file:\")\n",
        "print(data.columns)\n"
      ],
      "metadata": {
        "colab": {
          "base_uri": "https://localhost:8080/"
        },
        "id": "Hfm8mQYZZHhM",
        "outputId": "42b23424-da84-4231-84be-817775fcb89c"
      },
      "execution_count": null,
      "outputs": [
        {
          "output_type": "stream",
          "name": "stdout",
          "text": [
            "Columns in the CSV file:\n",
            "Index(['POSTED_BY', 'UNDER_CONSTRUCTION', 'RERA', 'BHK_NO.', 'BHK_OR_RK',\n",
            "       'SQUARE_FT', 'READY_TO_MOVE', 'RESALE', 'ADDRESS', 'LONGITUDE',\n",
            "       'LATITUDE', 'TARGET(PRICE_IN_LACS)'],\n",
            "      dtype='object')\n"
          ]
        }
      ]
    },
    {
      "cell_type": "code",
      "source": [
        "import pandas as pd\n",
        "from sklearn.linear_model import LinearRegression\n",
        "\n",
        "# Extract house sizes and prices from the dataframe\n",
        "house_sizes = data[['SQUARE_FT']]  # Assuming the column name in CSV is 'house_size'\n",
        "prices = data['TARGET(PRICE_IN_LACS)']               # Assuming the column name in CSV is 'price'\n",
        "\n",
        "# Reshape data to match sklearn input requirements (if needed)\n",
        "#house_sizes = house_sizes.values.reshape(-1, 1)\n",
        "prices = prices.values\n",
        "\n",
        "# Create linear regression object\n",
        "model = LinearRegression()\n",
        "\n",
        "# Fit the model to the data\n",
        "model.fit(house_sizes, prices)\n",
        "\n",
        "# Predict price for a 4000 sq. ft. house\n",
        "house_size_4000 = [[4000]]\n",
        "predicted_price = model.predict(house_size_4000)\n",
        "\n",
        "print(\"Predicted price for a 4000 sq. ft. house:\", predicted_price[0])\n"
      ],
      "metadata": {
        "colab": {
          "base_uri": "https://localhost:8080/"
        },
        "id": "Pr2BhgHsZxU8",
        "outputId": "6aeb053a-b05b-4de3-e87d-05ed8c7a4bbc"
      },
      "execution_count": null,
      "outputs": [
        {
          "output_type": "stream",
          "name": "stdout",
          "text": [
            "Predicted price for a 4000 sq. ft. house: 140.7003306817552\n"
          ]
        },
        {
          "output_type": "stream",
          "name": "stderr",
          "text": [
            "/usr/local/lib/python3.10/dist-packages/sklearn/base.py:439: UserWarning: X does not have valid feature names, but LinearRegression was fitted with feature names\n",
            "  warnings.warn(\n"
          ]
        }
      ]
    },
    {
      "cell_type": "code",
      "source": [
        "import pandas as pd\n",
        "from sklearn.model_selection import train_test_split\n",
        "from sklearn.linear_model import LinearRegression\n",
        "filep = '/content/drive/My Drive/fai workshop/houseprice/test.csv'\n",
        "# Load the test data from the CSV file\n",
        "test_data = pd.read_csv(filep)\n",
        "\n",
        "# Extract the features (e.g., house size) from the test data\n",
        "house_sizes = test_data[['SQUARE_FT']]\n",
        "\n",
        "predicted_prices = model.predict(house_sizes)\n",
        "\n",
        "# Print the predicted prices\n",
        "print(predicted_prices)\n"
      ],
      "metadata": {
        "colab": {
          "base_uri": "https://localhost:8080/"
        },
        "id": "UcJSFEwUgnAz",
        "outputId": "74c31303-d19c-4f02-9a61-e82d0d2c6026"
      },
      "execution_count": null,
      "outputs": [
        {
          "output_type": "stream",
          "name": "stdout",
          "text": [
            "[140.21969118 140.25514322 140.31873498 ... 144.78531421 140.30713401\n",
            " 140.48323681]\n"
          ]
        }
      ]
    },
    {
      "cell_type": "code",
      "source": [
        "from sklearn.datasets import make_classification\n",
        "from sklearn.model_selection import train_test_split\n",
        "from sklearn.linear_model import LogisticRegression\n",
        "from sklearn.metrics import accuracy_score\n",
        "\n",
        "# Generate synthetic data\n",
        "X, y = make_classification(n_samples=1000, n_features=20, n_classes=2, random_state=42)\n",
        "\n",
        "# Split the data into training and testing sets\n",
        "X_train, X_test, y_train, y_test = train_test_split(X, y, test_size=0.2, random_state=42)\n",
        "\n",
        "# Initialize the Logistic Regression model\n",
        "model = LogisticRegression()\n",
        "\n",
        "# Train the model\n",
        "model.fit(X_train, y_train)\n",
        "\n",
        "# Make predictions\n",
        "y_pred = model.predict(X_test)\n",
        "\n",
        "# Calculate accuracy\n",
        "accuracy = accuracy_score(y_test, y_pred)\n",
        "print(\"Accuracy:\", accuracy)\n"
      ],
      "metadata": {
        "colab": {
          "base_uri": "https://localhost:8080/"
        },
        "id": "6unuVn9Xhg22",
        "outputId": "5310b887-cd43-4be4-9e5e-52e6dc4cbff1"
      },
      "execution_count": null,
      "outputs": [
        {
          "output_type": "stream",
          "name": "stdout",
          "text": [
            "Accuracy: 0.855\n"
          ]
        }
      ]
    },
    {
      "cell_type": "code",
      "source": [
        "import numpy as np\n",
        "import matplotlib.pyplot as plt\n",
        "from sklearn import datasets\n",
        "from sklearn.model_selection import train_test_split\n",
        "from sklearn.svm import SVC\n",
        "from sklearn.metrics import accuracy_score\n",
        "\n",
        "# Load a toy dataset\n",
        "iris = datasets.load_iris()\n",
        "X = iris.data[:, :2]  # Selecting only the first two features for visualization\n",
        "y = iris.target\n",
        "\n",
        "# Split the data into training and testing sets\n",
        "X_train, X_test, y_train, y_test = train_test_split(X, y, test_size=0.2)\n",
        "\n",
        "# Create an SVM classifier\n",
        "svm_classifier = SVC(kernel='linear', C=1.0)\n",
        "\n",
        "# Train the classifier\n",
        "svm_classifier.fit(X_train, y_train)\n",
        "\n",
        "# Predict labels for test set\n",
        "y_pred = svm_classifier.predict(X_test)\n",
        "\n",
        "# Calculate accuracy\n",
        "accuracy = accuracy_score(y_test, y_pred)\n",
        "print(\"Accuracy:\", accuracy)\n"
      ],
      "metadata": {
        "colab": {
          "base_uri": "https://localhost:8080/"
        },
        "id": "uEFQxknM_Zvt",
        "outputId": "8fc28643-31b3-4b1f-9f04-9c4f6dc760db"
      },
      "execution_count": null,
      "outputs": [
        {
          "output_type": "stream",
          "name": "stdout",
          "text": [
            "Accuracy: 0.8333333333333334\n"
          ]
        }
      ]
    },
    {
      "cell_type": "code",
      "source": [
        "import pandas as pd\n",
        "from sklearn.model_selection import train_test_split\n",
        "from sklearn.tree import DecisionTreeClassifier, plot_tree\n",
        "from sklearn.metrics import accuracy_score, classification_report\n",
        "import matplotlib.pyplot as plt\n",
        "from io import StringIO\n",
        "\n",
        "# Create synthetic data\n",
        "data = {\n",
        "    'Age': [25, 30, 35, 40, 45, 50, 55, 60, 65, 70],\n",
        "    'Income': [50000, 60000, 75000, 80000, 100000, 120000, 150000, 180000, 200000, 250000],\n",
        "    'Purchased': [0, 0, 0, 1, 1, 0, 1, 1, 1, 1]\n",
        "}\n",
        "df = pd.DataFrame(data)\n",
        "\n",
        "# Split the dataset into features (X) and target variable (y)\n",
        "X = df[['Age', 'Income']]\n",
        "y = df['Purchased']\n",
        "\n",
        "# Split the dataset into training and testing sets\n",
        "X_train, X_test, y_train, y_test = train_test_split(X, y, test_size=0.2, random_state=42)\n"
      ],
      "metadata": {
        "id": "LZxIiAizABw6"
      },
      "execution_count": null,
      "outputs": []
    },
    {
      "cell_type": "code",
      "source": [
        "import pandas as pd\n",
        "\n",
        "raw_data = {\n",
        "    'Name': ['John', 'Anna', 'Peter', 'Linda', 'Bob'],\n",
        "    'Age': [25, 30, None, 35, 40],  # removed unnecessary quote after square bracket\n",
        "    'Gender': ['Male', 'Female', 'Male', 'Female', 'Male'],\n",
        "    'City': ['New York', 'Paris', 'London', 'Berlin', ''],  # removed unnecessary quote after square bracket\n",
        "    'Salary': [50000, 60000, 70000, None, 80000]\n",
        "}\n",
        "\n",
        "df = pd.DataFrame(raw_data)  # removed unnecessary pipe character\n",
        "\n",
        "# Data cleaning\n",
        "# Handling missing values\n",
        "df['Age'].fillna(df['Age'].median(), inplace=True)\n",
        "df['City'].replace('', 'Unknown', inplace=True)  # corrected the syntax to replace empty strings with 'Unknown'\n",
        "\n",
        "# Filling missing Salary values with 0\n",
        "df['Salary'].fillna(0, inplace=True)\n",
        "\n",
        "# Removing rows with Salary <= 0\n",
        "df = df[df['Salary'] > 0]\n",
        "\n",
        "# Convert data types if necessary\n",
        "df['Age'] = df['Age'].astype(int)  # Converting Age to integer type\n",
        "\n",
        "print(\"Cleaned Data:\")\n",
        "print(df)\n"
      ],
      "metadata": {
        "colab": {
          "base_uri": "https://localhost:8080/"
        },
        "id": "CSSuomJVAUfK",
        "outputId": "1b1ef7b6-3f4d-4a74-8fbe-509d7d7d6472"
      },
      "execution_count": null,
      "outputs": [
        {
          "output_type": "stream",
          "name": "stdout",
          "text": [
            "Cleaned Data:\n",
            "    Name  Age  Gender      City   Salary\n",
            "0   John   25    Male  New York  50000.0\n",
            "1   Anna   30  Female     Paris  60000.0\n",
            "2  Peter   32    Male    London  70000.0\n",
            "4    Bob   40    Male   Unknown  80000.0\n"
          ]
        }
      ]
    },
    {
      "cell_type": "code",
      "source": [
        "import pandas as pd\n",
        "import joblib\n",
        "\n",
        "def collect_inference_data():  # corrected function name by adding underscore between \"collect\" and \"inference\"\n",
        "    data = []\n",
        "    while True:\n",
        "        food = input(\"Enter a food item (or 'done' to stop): \")\n",
        "        if food.lower() == \"done\":\n",
        "            break\n",
        "        else:\n",
        "            data.append(food)\n",
        "    return data\n",
        "\n",
        "# Load the trained model\n",
        "model = joblib.load('E:/edulateral/sra/SRM_NN_ML/codes/food_preference_')  # incomplete file path\n",
        "\n",
        "# Collect data from user for inference\n",
        "print(\"Please enter new food items for preference prediction:\")\n",
        "user_data = collect_inference_data()\n",
        "\n",
        "# Load the encoder used during training\n",
        "encoder = joblib.load('E:/edulateral/srm/SRM_NN_ML/codes/food_encoder.pkl')\n",
        "\n",
        "# Transform user input using the same encoder\n",
        "X = encoder.transform([[food] for food in user_data])\n",
        "\n",
        "# Perform inference\n",
        "predictions = model.predict(X)\n",
        "\n",
        "# Print the predictions\n",
        "for food, prediction in zip(user_data, predictions):\n",
        "    print(f\"You may {'like' if prediction == 'yes' else 'dislike'} {food}.\")\n"
      ],
      "metadata": {
        "colab": {
          "base_uri": "https://localhost:8080/",
          "height": 339
        },
        "id": "gegvLK0HA6h8",
        "outputId": "1063ca29-86f2-42e5-cf90-30371d359b42"
      },
      "execution_count": null,
      "outputs": [
        {
          "output_type": "error",
          "ename": "FileNotFoundError",
          "evalue": "[Errno 2] No such file or directory: 'E:/edulateral/sra/SRM_NN_ML/codes/food_preference_'",
          "traceback": [
            "\u001b[0;31m---------------------------------------------------------------------------\u001b[0m",
            "\u001b[0;31mFileNotFoundError\u001b[0m                         Traceback (most recent call last)",
            "\u001b[0;32m<ipython-input-7-40b886c5c6e1>\u001b[0m in \u001b[0;36m<cell line: 15>\u001b[0;34m()\u001b[0m\n\u001b[1;32m     13\u001b[0m \u001b[0;34m\u001b[0m\u001b[0m\n\u001b[1;32m     14\u001b[0m \u001b[0;31m# Load the trained model\u001b[0m\u001b[0;34m\u001b[0m\u001b[0;34m\u001b[0m\u001b[0m\n\u001b[0;32m---> 15\u001b[0;31m \u001b[0mmodel\u001b[0m \u001b[0;34m=\u001b[0m \u001b[0mjoblib\u001b[0m\u001b[0;34m.\u001b[0m\u001b[0mload\u001b[0m\u001b[0;34m(\u001b[0m\u001b[0;34m'E:/edulateral/sra/SRM_NN_ML/codes/food_preference_'\u001b[0m\u001b[0;34m)\u001b[0m  \u001b[0;31m# incomplete file path\u001b[0m\u001b[0;34m\u001b[0m\u001b[0;34m\u001b[0m\u001b[0m\n\u001b[0m\u001b[1;32m     16\u001b[0m \u001b[0;34m\u001b[0m\u001b[0m\n\u001b[1;32m     17\u001b[0m \u001b[0;31m# Collect data from user for inference\u001b[0m\u001b[0;34m\u001b[0m\u001b[0;34m\u001b[0m\u001b[0m\n",
            "\u001b[0;32m/usr/local/lib/python3.10/dist-packages/joblib/numpy_pickle.py\u001b[0m in \u001b[0;36mload\u001b[0;34m(filename, mmap_mode)\u001b[0m\n\u001b[1;32m    648\u001b[0m             \u001b[0mobj\u001b[0m \u001b[0;34m=\u001b[0m \u001b[0m_unpickle\u001b[0m\u001b[0;34m(\u001b[0m\u001b[0mfobj\u001b[0m\u001b[0;34m)\u001b[0m\u001b[0;34m\u001b[0m\u001b[0;34m\u001b[0m\u001b[0m\n\u001b[1;32m    649\u001b[0m     \u001b[0;32melse\u001b[0m\u001b[0;34m:\u001b[0m\u001b[0;34m\u001b[0m\u001b[0;34m\u001b[0m\u001b[0m\n\u001b[0;32m--> 650\u001b[0;31m         \u001b[0;32mwith\u001b[0m \u001b[0mopen\u001b[0m\u001b[0;34m(\u001b[0m\u001b[0mfilename\u001b[0m\u001b[0;34m,\u001b[0m \u001b[0;34m'rb'\u001b[0m\u001b[0;34m)\u001b[0m \u001b[0;32mas\u001b[0m \u001b[0mf\u001b[0m\u001b[0;34m:\u001b[0m\u001b[0;34m\u001b[0m\u001b[0;34m\u001b[0m\u001b[0m\n\u001b[0m\u001b[1;32m    651\u001b[0m             \u001b[0;32mwith\u001b[0m \u001b[0m_read_fileobject\u001b[0m\u001b[0;34m(\u001b[0m\u001b[0mf\u001b[0m\u001b[0;34m,\u001b[0m \u001b[0mfilename\u001b[0m\u001b[0;34m,\u001b[0m \u001b[0mmmap_mode\u001b[0m\u001b[0;34m)\u001b[0m \u001b[0;32mas\u001b[0m \u001b[0mfobj\u001b[0m\u001b[0;34m:\u001b[0m\u001b[0;34m\u001b[0m\u001b[0;34m\u001b[0m\u001b[0m\n\u001b[1;32m    652\u001b[0m                 \u001b[0;32mif\u001b[0m \u001b[0misinstance\u001b[0m\u001b[0;34m(\u001b[0m\u001b[0mfobj\u001b[0m\u001b[0;34m,\u001b[0m \u001b[0mstr\u001b[0m\u001b[0;34m)\u001b[0m\u001b[0;34m:\u001b[0m\u001b[0;34m\u001b[0m\u001b[0;34m\u001b[0m\u001b[0m\n",
            "\u001b[0;31mFileNotFoundError\u001b[0m: [Errno 2] No such file or directory: 'E:/edulateral/sra/SRM_NN_ML/codes/food_preference_'"
          ]
        }
      ]
    },
    {
      "cell_type": "code",
      "source": [
        "import numpy as np\n",
        "import matplotlib.pyplot as plt\n",
        "from sklearn import datasets\n",
        "from sklearn.model_selection import train_test_split\n",
        "from sklearn.svm import SVC\n",
        "from sklearn.metrics import accuracy_score\n",
        "\n",
        "# Load a toy dataset\n",
        "iris = datasets.load_iris()\n",
        "X = iris.data[:, :2]  # Selecting only the first two features for visualization\n",
        "y = iris.target\n",
        "\n",
        "# Split the data into training and testing sets\n",
        "X_train, X_test, y_train, y_test = train_test_split(X, y, test_size=0.2)\n",
        "\n",
        "# Create an SVM classifier\n",
        "svm_classifier = SVC(kernel='linear', C=1.0)\n",
        "\n",
        "# Train the classifier\n",
        "svm_classifier.fit(X_train, y_train)\n",
        "\n",
        "# Make predictions on the test set\n",
        "y_pred = svm_classifier.predict(X_test)\n",
        "\n",
        "# Calculate accuracy\n",
        "accuracy = accuracy_score(y_test, y_pred)\n",
        "print(f\"Accuracy: {accuracy:.2f}\")\n",
        "\n",
        "# Visualize the decision boundary\n",
        "plt.scatter(X[:, 0], X[:, 1], c=y, cmap=plt.cm.Paired)\n",
        "plt.xlabel('Sepal length')\n",
        "plt.ylabel('Sepal width')\n",
        "plt.title('Decision Boundary of SVM Classifier')\n",
        "plt.show()\n"
      ],
      "metadata": {
        "colab": {
          "base_uri": "https://localhost:8080/",
          "height": 490
        },
        "id": "gHR60eNtBEO0",
        "outputId": "50478ed5-c842-44f0-93c2-0f85d73674fe"
      },
      "execution_count": null,
      "outputs": [
        {
          "output_type": "stream",
          "name": "stdout",
          "text": [
            "Accuracy: 0.83\n"
          ]
        },
        {
          "output_type": "display_data",
          "data": {
            "text/plain": [
              "<Figure size 640x480 with 1 Axes>"
            ],
            "image/png": "[encoded data removed]"
          },
          "metadata": {}
        }
      ]
    },
    {
      "cell_type": "code",
      "source": [
        "# Visualize the decision boundary\n",
        "plt.scatter(X[:, 0], X[:, 1], c=y, cmap=plt.cm.Paired)\n",
        "plt.xlabel('Sepal length')\n",
        "plt.ylabel('Sepal width')\n",
        "plt.title('SVM Classification')\n",
        "\n",
        "# Create grid to evaluate model\n",
        "x_min, x_max = X[:, 0].min() - 1, X[:, 0].max() + 1\n",
        "y_min, y_max = X[:, 1].min() - 1, X[:, 1].max() + 1\n",
        "xx, yy = np.meshgrid(np.arange(x_min, x_max, 0.01), np.arange(y_min, y_max, 0.01))\n",
        "\n",
        "# Make predictions on the grid\n",
        "Z = svm_classifier.predict(np.c_[xx.ravel(), yy.ravel()])\n",
        "Z = Z.reshape(xx.shape)\n",
        "\n",
        "# Plot decision boundary\n",
        "plt.contourf(xx, yy, Z, alpha=0.3, cmap=plt.cm.Paired)\n",
        "plt.show()\n"
      ],
      "metadata": {
        "colab": {
          "base_uri": "https://localhost:8080/",
          "height": 472
        },
        "id": "FI1A_NsCCJuF",
        "outputId": "b218486a-bc93-4ef9-8b24-f8c286e42e79"
      },
      "execution_count": null,
      "outputs": [
        {
          "output_type": "display_data",
          "data": {
            "text/plain": [
              "<Figure size 640x480 with 1 Axes>"
            ],
            "image/png": "[encoded data removed]"
          },
          "metadata": {}
        }
      ]
    },
    {
      "cell_type": "code",
      "source": [
        "import numpy as np\n",
        "import matplotlib.pyplot as plt\n",
        "from sklearn import datasets\n",
        "from sklearn.model_selection import train_test_split\n",
        "from sklearn.svm import SVR  # corrected the import statement\n",
        "from sklearn.metrics import mean_squared_error\n",
        "\n",
        "# Generate some random data for regression\n",
        "X, y = datasets.make_regression(n_samples=100, n_features=1, noise=20, random_state=42)  # corrected the parameter names\n",
        "\n",
        "# Split the data into training and testing sets\n",
        "X_train, X_test, y_train, y_test = train_test_split(X, y, test_size=0.2, random_state=42)  # corrected the syntax for test_size\n",
        "\n",
        "# Create an SVR regressor\n",
        "svm_regressor = SVR(kernel='linear', C=1.0)  # corrected the variable name\n",
        "\n",
        "# Fit the regressor to the training data\n",
        "svm_regressor.fit(X_train, y_train)\n",
        "\n",
        "# Make predictions on the test set\n",
        "y_pred = svm_regressor.predict(X_test)\n",
        "\n",
        "# Calculate mean squared error\n",
        "mse = mean_squared_error(y_test, y_pred)\n",
        "print(f\"Mean Squared Error: {mse:.2f}\")\n"
      ],
      "metadata": {
        "id": "_pKRnykzD7XR",
        "outputId": "fb6e0685-1efb-43e8-bcfd-b52b4477e6f0",
        "colab": {
          "base_uri": "https://localhost:8080/"
        }
      },
      "execution_count": null,
      "outputs": [
        {
          "output_type": "stream",
          "name": "stdout",
          "text": [
            "Mean Squared Error: 670.82\n"
          ]
        }
      ]
    }
  ]
}