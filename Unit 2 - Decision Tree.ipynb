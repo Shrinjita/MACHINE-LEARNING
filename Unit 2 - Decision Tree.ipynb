{
 "cells": [
  {
   "cell_type": "code",
   "execution_count": 2,
   "metadata": {},
   "outputs": [
    {
     "name": "stdout",
     "output_type": "stream",
     "text": [
      "Index(['Age', 'Income', 'Gender', 'MaritalStatus', 'Buy'], dtype='object')\n",
      "Predicted class label: N\n"
     ]
    }
   ],
   "source": [
    "import numpy as np\n",
    "import pandas as pd\n",
    "df = pd.read_excel('house_purchase.xlsx')\n",
    "\n",
    "# Check the columns of the DataFrame\n",
    "print(df.columns)\n",
    "\n",
    "# Define the entropy function\n",
    "def entropy(s):\n",
    "    p = [(s == c).mean() for c in set(s)]\n",
    "    return sum([-pi * np.log2(pi) for pi in p if pi != 0])\n",
    "\n",
    "\n",
    "# Define the information gain function\n",
    "def info_gain(data, attribute, target):\n",
    "    totalE = entropy(data[target])\n",
    "    vals, counts = np.unique(data[attribute], return_counts=True)\n",
    "    wt = np.sum([(counts[i] / np.sum(counts)) * entropy(data.where(data[attribute] == val).dropna()[target]) for i, val in enumerate(vals)])\n",
    "    return totalE - wt\n",
    "\n",
    "# Define the ID3 algorithm\n",
    "def id3(data, og, features, target, parent_node_class=None):\n",
    "    if len(np.unique(data[target])) <= 1:\n",
    "        return np.unique(data[target])[0]\n",
    "    elif len(data) == 0:\n",
    "        return np.unique(og[target])[np.argmax(np.unique(og[target], return_counts=True)[1])]\n",
    "    elif len(features) == 0:\n",
    "        return parent_node_class\n",
    "    else:\n",
    "        parent_node_class = np.unique(data[target])[np.argmax(np.unique(data[target], return_counts=True)[1])]\n",
    "    item = [info_gain(data, feature, target) for feature in features]\n",
    "    bestI = np.argmax(item)\n",
    "    bestF = features[bestI]\n",
    "    tree = {bestF: {}}\n",
    "    features = [i for i in features if i != bestF]\n",
    "    for value in np.unique(data[bestF]):\n",
    "        value = value\n",
    "        sub = data.where(data[bestF] == value).dropna()\n",
    "        subtree = id3(sub, df, features, target, parent_node_class)\n",
    "        tree[bestF][value] = subtree\n",
    "    return tree\n",
    "\n",
    "# Define the predict function\n",
    "def predict(query, tree):\n",
    "    for key in list(query.keys()):\n",
    "        if key in list(tree.keys()):\n",
    "            try:\n",
    "                result = tree[key][query[key]]\n",
    "            except:\n",
    "                return \"Cannot make a prediction\"\n",
    "            result = tree[key][query[key]]\n",
    "            if isinstance(result, dict):\n",
    "                return predict(query, result)\n",
    "            else:\n",
    "                return result\n",
    "\n",
    "# Define the query dictionary\n",
    "query = {'Age': 30, 'Income': 50000, 'Gender': 'Male', 'MaritalStatus': 'Single'}\n",
    "\n",
    "# Define features and target\n",
    "features = ['Age', 'Income', 'Gender', 'MaritalStatus']\n",
    "target = 'Buy'\n",
    "\n",
    "# Build the decision tree\n",
    "tree = id3(df, df, features, target)\n",
    "\n",
    "# Predict the class label\n",
    "prediction = predict(query, tree)\n",
    "print(\"Predicted class label:\", prediction)\n"
   ]
  }
 ],
 "metadata": {
  "kernelspec": {
   "display_name": "base",
   "language": "python",
   "name": "python3"
  },
  "language_info": {
   "codemirror_mode": {
    "name": "ipython",
    "version": 3
   },
   "file_extension": ".py",
   "mimetype": "text/x-python",
   "name": "python",
   "nbconvert_exporter": "python",
   "pygments_lexer": "ipython3",
   "version": "3.9.13"
  }
 },
 "nbformat": 4,
 "nbformat_minor": 2
}
