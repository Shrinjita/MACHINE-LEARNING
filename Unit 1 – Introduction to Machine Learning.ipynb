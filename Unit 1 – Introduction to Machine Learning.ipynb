{
 "cells": [
  {
   "cell_type": "markdown",
   "metadata": {},
   "source": [
    "1. Water jug problem\n"
   ]
  },
  {
   "cell_type": "code",
   "execution_count": 1,
   "metadata": {},
   "outputs": [
    {
     "name": "stdout",
     "output_type": "stream",
     "text": [
      "Path from initial state to solution state :\n",
      "( 0 , 0 )\n",
      "( 0 , 4 )\n",
      "( 3 , 0 )\n",
      "( 3 , 4 )\n",
      "( 3 , 1 )\n",
      "( 0 , 3 )\n",
      "( 3 , 3 )\n",
      "( 2 , 4 )\n",
      "( 2 , 0 )\n"
     ]
    }
   ],
   "source": [
    "from collections import deque\n",
    "def BFS(a, b, target):\n",
    "    m = {}\n",
    "    isSolvable = False\n",
    "    path = []\n",
    "    q = deque()\n",
    "    q.append((0, 0))\n",
    "\n",
    "    while (len(q) > 0):\n",
    "        u = q.popleft()\n",
    "        if ((u[0], u[1]) in m):\n",
    "            continue\n",
    "        if ((u[0] > a or u[1] > b or\n",
    "            u[0] < 0 or u[1] < 0)):\n",
    "            continue\n",
    "        path.append([u[0], u[1]])\n",
    "        m[(u[0], u[1])] = 1\n",
    "        if (u[0] == target or u[1] == target):\n",
    "            isSolvable = True\n",
    "            if (u[0] == target):\n",
    "                if (u[1] != 0):\n",
    "                    path.append([u[0], 0])\n",
    "            else:\n",
    "                if (u[0] != 0):\n",
    "                    path.append([0, u[1]])\n",
    "            sz = len(path)\n",
    "            for i in range(sz):\n",
    "                print(\"(\", path[i][0], \",\",\n",
    "                    path[i][1], \")\")\n",
    "            break\n",
    "        q.append([u[0], b])\n",
    "        q.append([a, u[1]])\n",
    "        for ap in range(max(a, b) + 1):\n",
    "            c = u[0] + ap\n",
    "            d = u[1] - ap\n",
    "            if (c == a or (d == 0 and d >= 0)):\n",
    "                q.append([c, d])\n",
    "            c = u[0] - ap\n",
    "            d = u[1] + ap\n",
    "            if ((c == 0 and c >= 0) or d == b):\n",
    "                q.append([c, d])\n",
    "        q.append([a, 0])\n",
    "        q.append([0, b])\n",
    "    if (not isSolvable):\n",
    "        print(\"No solution\")\n",
    "\n",
    "if __name__ == '__main__':\n",
    "    Jug1, Jug2, target = 4, 3, 2\n",
    "    print(\"Path from initial state to solution state :\")\n",
    "    BFS(Jug2, Jug1, target)\n"
   ]
  },
  {
   "cell_type": "markdown",
   "metadata": {},
   "source": [
    "2. FIND-S algorithm"
   ]
  },
  {
   "cell_type": "code",
   "execution_count": 2,
   "metadata": {},
   "outputs": [
    {
     "data": {
      "image/png": "[encoded data removed]",
      "text/plain": [
       "<Figure size 640x480 with 1 Axes>"
      ]
     },
     "metadata": {},
     "output_type": "display_data"
    }
   ],
   "source": [
    "import pandas as pd\n",
    "from matplotlib import pyplot as plt\n",
    "data=pd.DataFrame({\"Samples\":[1,2,3,4,5],\n",
    "                   \"Fever\":[\"Yes\",\"No\",\"Yes\",\"No\",\"Yes\"],\n",
    "                   \"Cough\":[\"Yes\",\"Yes\",\"Yes\",\"No\",\"Yes\"],\n",
    "                   \"Difficulty Breathing\":[\"No\",\"No\",\"Yes\",\"No\",\"Yes\"],\n",
    "                   \"Diagnosed Disease\":[\"Pneumonia\",\"Common Cold\",\"Pneumonia\",\"Healthy\",\n",
    "                                        \"Pneumonia\"]})\n",
    "from matplotlib import pyplot as plt\n",
    "data['Samples'].plot(kind='hist', bins=20, title='Samples')\n",
    "plt.gca().spines[['top', 'right',]].set_visible(False)"
   ]
  },
  {
   "cell_type": "code",
   "execution_count": 3,
   "metadata": {},
   "outputs": [
    {
     "name": "stdout",
     "output_type": "stream",
     "text": [
      "   Samples Fever Cough Difficulty Breathing Diagnosed Disease\n",
      "0        1   Yes   Yes                   No         Pneumonia\n",
      "2        3   Yes   Yes                  Yes         Pneumonia\n",
      "4        5   Yes   Yes                  Yes         Pneumonia\n"
     ]
    }
   ],
   "source": [
    "target=\"Pneumonia\"\n",
    "symptoms=[\"Fever\",\"Cough\",\"Difficulty Breathing\"]\n",
    "filter=data[data[\"Diagnosed Disease\"]==target]\n",
    "print(filter)"
   ]
  },
  {
   "cell_type": "code",
   "execution_count": 4,
   "metadata": {},
   "outputs": [
    {
     "name": "stdout",
     "output_type": "stream",
     "text": [
      "3\n"
     ]
    }
   ],
   "source": [
    "total=filter.shape[0]\n",
    "print(total)"
   ]
  },
  {
   "cell_type": "code",
   "execution_count": 5,
   "metadata": {},
   "outputs": [
    {
     "name": "stdout",
     "output_type": "stream",
     "text": [
      "2\n"
     ]
    }
   ],
   "source": [
    "pos = filter[(filter[\"Fever\"] == \"Yes\") & (filter[\"Cough\"] == \"Yes\") & (filter[\"Difficulty Breathing\"] == \"Yes\")].shape[0]\n",
    "print(pos)"
   ]
  },
  {
   "cell_type": "code",
   "execution_count": 6,
   "metadata": {},
   "outputs": [
    {
     "name": "stdout",
     "output_type": "stream",
     "text": [
      "Rule: If a patient has Fever, Cough, Difficulty Breathing, then they are likely to have Pneumonia\n"
     ]
    }
   ],
   "source": [
    "print(f\"Rule: If a patient has {', '.join(symptoms)}, then they are likely to have {target}\")"
   ]
  },
  {
   "cell_type": "code",
   "execution_count": 7,
   "metadata": {},
   "outputs": [
    {
     "name": "stdout",
     "output_type": "stream",
     "text": [
      "Support : 0.67\n",
      "Confidence : 1.00\n"
     ]
    }
   ],
   "source": [
    "support = pos/total\n",
    "print(f\"Support : {support:.2f}\")\n",
    "confidence=pos/data[(data[\"Fever\"] == \"Yes\") & (data[\"Cough\"] == \"Yes\") & (data[\"Difficulty Breathing\"] == \"Yes\")].shape[0]\n",
    "print(f\"Confidence : {confidence:.2f}\")"
   ]
  },
  {
   "cell_type": "markdown",
   "metadata": {},
   "source": [
    "3. Candidate Elimination"
   ]
  },
  {
   "cell_type": "markdown",
   "metadata": {},
   "source": [
    "Method 1"
   ]
  },
  {
   "cell_type": "code",
   "execution_count": 8,
   "metadata": {},
   "outputs": [
    {
     "name": "stdout",
     "output_type": "stream",
     "text": [
      "Final Specific Hypothesis: ['0', '0', '0']\n",
      "Final General Hypothesis: ['Small', 'Red', 'Circle']\n"
     ]
    }
   ],
   "source": [
    "import numpy as np\n",
    "\n",
    "class CandidateElimination:\n",
    "    def __init__(self, num_features):\n",
    "        # Initialize the most specific and most general hypotheses\n",
    "        self.S = ['0'] * num_features\n",
    "        self.G = ['?'] * num_features\n",
    "\n",
    "    def specialize_G(self, example):\n",
    "        # Specialize the most general hypothesis based on a positive example\n",
    "        for i in range(len(self.G)):\n",
    "            if self.G[i] == '?':\n",
    "                self.G[i] = example[i]\n",
    "            elif self.G[i] != example[i]:\n",
    "                self.G[i] = '?'\n",
    "\n",
    "    def generalize_S(self, example):\n",
    "        # Generalize the most specific hypothesis based on a negative example\n",
    "        for i in range(len(self.S)):\n",
    "            if self.S[i] != example[i] and self.S[i] != '0':\n",
    "                self.S[i] = '?'\n",
    "\n",
    "    def fit(self, examples):\n",
    "        for example in examples:\n",
    "            label = example[-1]  # Last element is the label\n",
    "            if label == 'Yes':\n",
    "                self.specialize_G(example[:-1])  # Update G for positive example\n",
    "            else:\n",
    "                self.generalize_S(example[:-1])  # Update S for negative example\n",
    "\n",
    "    def get_final_hypothesis(self):\n",
    "        return self.S, self.G\n",
    "\n",
    "# Example dataset\n",
    "examples = [\n",
    "    ['Big', 'Red', 'Circle', 'No'],\n",
    "    ['Small', 'Red', 'Triangle', 'No'],\n",
    "    ['Small', 'Red', 'Circle', 'Yes'],\n",
    "    ['Big', 'Blue', 'Circle', 'No']\n",
    "]\n",
    "\n",
    "# Initialize CandidateElimination object\n",
    "ce = CandidateElimination(num_features=len(examples[0]) - 1)  # -1 for excluding label\n",
    "\n",
    "# Fit the data\n",
    "ce.fit(examples)\n",
    "\n",
    "# Get the final hypothesis\n",
    "final_specific_hypothesis, final_general_hypothesis = ce.get_final_hypothesis()\n",
    "\n",
    "print(\"Final Specific Hypothesis:\", final_specific_hypothesis)\n",
    "print(\"Final General Hypothesis:\", final_general_hypothesis)\n"
   ]
  },
  {
   "cell_type": "markdown",
   "metadata": {},
   "source": [
    "Method 2"
   ]
  },
  {
   "cell_type": "code",
   "execution_count": 9,
   "metadata": {},
   "outputs": [
    {
     "name": "stdout",
     "output_type": "stream",
     "text": [
      "All the hypotheses in General and Specific boundary are:\n",
      "\n",
      "\n",
      " G[0]: {('?', '?', '?')}\n",
      "\n",
      " S[0]: {('Phi', 'Phi', 'Phi')}\n",
      "\n",
      " G[1]: {('Small', '?', '?'), ('?', 'Blue', '?'), ('?', '?', 'Triangle')}\n",
      "\n",
      " S[1]: {('Phi', 'Phi', 'Phi')}\n",
      "\n",
      " G[2]: {('Big', '?', 'Triangle'), ('Small', '?', 'Circle'), ('?', 'Blue', '?')}\n",
      "\n",
      " S[2]: {('Phi', 'Phi', 'Phi')}\n",
      "\n",
      " G[3]: {('Small', '?', 'Circle')}\n",
      "\n",
      " S[3]: {('Small', 'Red', 'Circle')}\n",
      "\n",
      " G[4]: {('Small', '?', 'Circle')}\n",
      "\n",
      " S[4]: {('Small', 'Red', 'Circle')}\n",
      "\n",
      " G[5]: {('Small', '?', 'Circle')}\n",
      "\n",
      " S[5]: {('Small', '?', 'Circle')}\n"
     ]
    }
   ],
   "source": [
    "data = [\n",
    "    ('Big', 'Red', 'Circle', 'No'),\n",
    "    ('Small', 'Red', 'Triangle', 'No'),\n",
    "    ('Small', 'Red', 'Circle', 'Yes'),\n",
    "    ('Big', 'Blue', 'Circle', 'No'),\n",
    "    ('Small', 'Blue', 'Circle','Yes')\n",
    "]\n",
    "def get_domains(data):\n",
    "    d = [set() for i in data[0]]\n",
    "    for x in data:\n",
    "        for i, xi in enumerate(x):\n",
    "            d[i].add(xi)\n",
    "    return [list(sorted(x)) for x in d]\n",
    "get_domains(data)\n",
    "def g_0(n):\n",
    "    return ('?',)*n\n",
    "\n",
    "def s_0(n):\n",
    "    return ('Phi',)*n\n",
    "def more_general(h1, h2):\n",
    "    more_general_parts = []\n",
    "    for x, y in zip(h1, h2):\n",
    "        mg = x == '?' or (x != 'Phi' and (x == y or y == 'Phi'))\n",
    "        more_general_parts.append(mg)\n",
    "    return all(more_general_parts)\n",
    "\n",
    "def consistent(hypothesis,example):\n",
    "    return more_general(hypothesis, example)\n",
    "\n",
    "def min_generalizations(h, x):\n",
    "    h_new = list(h)\n",
    "    for i in range(len(h)):\n",
    "        if not consistent(h[i:i+1],x[i:i+1]):\n",
    "            if h[i] != 'Phi':\n",
    "                h_new[i] = '?'\n",
    "            else:\n",
    "                h_new[i] = x[i]\n",
    "    return [tuple(h_new)]\n",
    "\n",
    "def generalize_S(x, G, S):\n",
    "    S_prev = list(S)\n",
    "    for s in S_prev:\n",
    "        if s not in S:\n",
    "            continue\n",
    "        if not consistent(s,x):\n",
    "            S.remove(s)\n",
    "            Splus = min_generalizations(s, x)\n",
    "            S.update([h for h in Splus if any([more_general(g,h)\n",
    "                                               for g in G])])\n",
    "\n",
    "            S.difference_update([h for h in S if\n",
    "                                 any([more_general(h, h1)\n",
    "                                      for h1 in S if h != h1])])\n",
    "    return S\n",
    "\n",
    "def min_specializations(h, domains, x):\n",
    "    results = []\n",
    "    for i in range(len(h)):\n",
    "        if h[i] == '?':\n",
    "            for val in domains[i]:\n",
    "                if x[i] != val:\n",
    "                    h_new = h[:i] + (val,) + h[i+1:]\n",
    "                    results.append(h_new)\n",
    "        elif h[i] != 'Phi':\n",
    "            h_new = h[:i] + ('Phi',) + h[i+1:]\n",
    "            results.append(h_new)\n",
    "    return results\n",
    "\n",
    "def specialize_G(x, domains, G, S):\n",
    "    G_prev = list(G)\n",
    "    for g in G_prev:\n",
    "        if g not in G:\n",
    "            continue\n",
    "        if consistent(g,x):\n",
    "            G.remove(g)\n",
    "            Gminus = min_specializations(g, domains, x)\n",
    "            G.update([h for h in Gminus if any([more_general(h, s)\n",
    "                                                for s in S])])\n",
    "            G.difference_update([h for h in G if\n",
    "                                 any([more_general(g1, h)\n",
    "                                      for g1 in G if h != g1])])\n",
    "    return G\n",
    "\n",
    "def candidate_elimination(examples):\n",
    "    domains = get_domains(examples)[:-1]\n",
    "\n",
    "    G = set([g_0(len(domains))])\n",
    "    S = set([s_0(len(domains))])\n",
    "    i=0\n",
    "    print('All the hypotheses in General and Specific boundary are:\\n')\n",
    "    print('\\n G[{0}]:'.format(i),G)\n",
    "    print('\\n S[{0}]:'.format(i),S)\n",
    "    for xcx in examples:\n",
    "        i=i+1\n",
    "        x, cx = xcx[:-1], xcx[-1]\n",
    "        if cx=='Yes':\n",
    "            G = {g for g in G if consistent(g,x)}\n",
    "            S = generalize_S(x, G, S)\n",
    "        else:\n",
    "            S = {s for s in S if not consistent(s,x)}\n",
    "            G = specialize_G(x, domains, G, S)\n",
    "        print('\\n G[{0}]:'.format(i),G)\n",
    "        print('\\n S[{0}]:'.format(i),S)\n",
    "    return\n",
    "candidate_elimination(data)\n"
   ]
  },
  {
   "cell_type": "code",
   "execution_count": 1,
   "metadata": {},
   "outputs": [
    {
     "name": "stdout",
     "output_type": "stream",
     "text": [
      "Step 1: Initial Hypothesis\n",
      "Weather        ϕ\n",
      "Temperature    ϕ\n",
      "Wind           ϕ\n",
      "dtype: object \n",
      "\n",
      "Step 3: Final Hypothesis\n",
      "Weather        ϕ\n",
      "Temperature    ϕ\n",
      "Wind           ϕ\n",
      "dtype: object\n"
     ]
    }
   ],
   "source": [
    "import pandas as pd\n",
    "\n",
    "# Creating a more varied dataset\n",
    "data = pd.DataFrame({\n",
    "    'Weather': ['Sunny', 'Sunny', 'Overcast', 'Rainy', 'Rainy', 'Rainy', 'Overcast', 'Sunny', 'Sunny', 'Rainy'],\n",
    "    'Temperature': ['Hot', 'Hot', 'Mild', 'Cool', 'Cool', 'Cool', 'Mild', 'Mild', 'Cool', 'Mild'],\n",
    "    'Wind': ['Weak', 'Strong', 'Weak', 'Weak', 'Weak', 'Strong', 'Strong', 'Weak', 'Weak', 'Strong'],\n",
    "    'PlayTennis': ['Yes', 'Yes', 'Yes', 'No', 'Yes', 'No', 'Yes', 'No', 'No', 'No']\n",
    "})\n",
    "\n",
    "# Step 1: Initialize h to the most specific hypothesis in H\n",
    "hypothesis = pd.Series(['ϕ'] * (len(data.columns) - 1), index=data.columns[:-1])\n",
    "\n",
    "# Display the initial hypothesis\n",
    "print(\"Step 1: Initial Hypothesis\")\n",
    "print(hypothesis, \"\\n\")\n",
    "\n",
    "# Step 2: Iterate through positive examples\n",
    "for index, row in data.iterrows():\n",
    "    if row['PlayTennis'] == 'Yes':\n",
    "        for attribute in data.columns[:-1]:\n",
    "            # If the constraint ai is satisfied by x, do nothing\n",
    "            if hypothesis[attribute] == 'ϕ' or hypothesis[attribute] == row[attribute]:\n",
    "                pass\n",
    "            # Replace ai in h with the next more general constraint that is satisfied by x\n",
    "            else:\n",
    "                hypothesis[attribute] = '?'\n",
    "\n",
    "# Display the final hypothesis\n",
    "print(\"Step 3: Final Hypothesis\")\n",
    "print(hypothesis)\n"
   ]
  },
  {
   "cell_type": "code",
   "execution_count": null,
   "metadata": {},
   "outputs": [],
   "source": []
  }
 ],
 "metadata": {
  "kernelspec": {
   "display_name": "base",
   "language": "python",
   "name": "python3"
  },
  "language_info": {
   "codemirror_mode": {
    "name": "ipython",
    "version": 3
   },
   "file_extension": ".py",
   "mimetype": "text/x-python",
   "name": "python",
   "nbconvert_exporter": "python",
   "pygments_lexer": "ipython3",
   "version": "3.9.13"
  }
 },
 "nbformat": 4,
 "nbformat_minor": 2
}
